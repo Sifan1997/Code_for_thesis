{
 "cells": [
  {
   "cell_type": "code",
   "execution_count": 59,
   "id": "initial_id",
   "metadata": {
    "collapsed": true,
    "ExecuteTime": {
     "end_time": "2024-08-17T00:27:42.578136Z",
     "start_time": "2024-08-17T00:27:42.546184Z"
    }
   },
   "outputs": [],
   "source": [
    "import pandas as pd\n",
    "import matplotlib.pyplot as plt\n",
    "import matplotlib.dates as mdates\n",
    "import numpy as np\n",
    "from sklearn.preprocessing import StandardScaler \n",
    "from sklearn.model_selection import train_test_split, TimeSeriesSplit, RandomizedSearchCV\n",
    "from sklearn.ensemble import RandomForestRegressor\n",
    "from sklearn.metrics import mean_squared_error\n",
    "from scipy.stats import randint"
   ]
  },
  {
   "cell_type": "markdown",
   "source": [
    "### Read data"
   ],
   "metadata": {
    "collapsed": false
   },
   "id": "13911f0012f1f460"
  },
  {
   "cell_type": "code",
   "execution_count": 60,
   "outputs": [],
   "source": [
    "\n",
    "# Loda data\n",
    "target = pd.read_csv('../data/processed/properties.csv')\n",
    "features = pd.read_csv('../data/processed/features.csv')\n",
    "\n",
    "# Merge data\n",
    "df = pd.merge(target, features, on='Period')\n",
    "\n",
    "# Convert 'Period' column to datetime format\n",
    "df['Period'] = pd.to_datetime(df['Period'])\n"
   ],
   "metadata": {
    "collapsed": false,
    "ExecuteTime": {
     "end_time": "2024-08-17T00:27:42.629962Z",
     "start_time": "2024-08-17T00:27:42.574917Z"
    }
   },
   "id": "1b18a816f19a1a2a"
  },
  {
   "cell_type": "code",
   "execution_count": 61,
   "outputs": [
    {
     "name": "stdout",
     "output_type": "stream",
     "text": [
      "      Period  num_nodes  num_edges   density  clustering  assortativity  \\\n",
      "0 2010-01-01  -1.907728  -2.123956 -0.662045   -1.736416       0.897781   \n",
      "1 2010-02-01  -0.812829  -2.025574 -1.541808    0.673488      -0.766521   \n",
      "2 2010-03-01  -1.086554  -1.189334 -0.333355    1.536279      -0.633031   \n",
      "3 2010-04-01  -1.360279  -1.907517 -0.913957   -1.713061      -0.709437   \n",
      "4 2010-05-01  -2.181453  -1.651725  0.169031    1.351597      -0.365774   \n",
      "\n",
      "   shortest_path       TPU       GPR  CPTOTSAXN  ...  DXGSRMRCHSACD  \\\n",
      "0       1.708130 -0.704058 -0.197764  -1.426643  ...      -1.629180   \n",
      "1       0.961073 -0.811993 -0.573908  -1.417138  ...      -1.564621   \n",
      "2      -0.242651 -0.626296 -0.802887  -1.407470  ...      -1.466508   \n",
      "3       1.308652 -0.684992 -0.295457  -1.395858  ...      -1.446469   \n",
      "4      -0.639831 -0.762968 -0.288626  -1.387176  ...      -1.517224   \n",
      "\n",
      "   DMGSRMRCHSACD  IPTOTSAKD    IMPCOV      NEER      REER  RETSALESSA  \\\n",
      "0      -1.734612  -1.962292 -0.116903 -0.682534 -0.874579    0.406478   \n",
      "1      -1.603232  -1.937374 -0.421366 -0.457849 -0.730151    0.432561   \n",
      "2      -1.690665  -1.831265 -0.112547 -0.553656 -0.882001    0.601025   \n",
      "3      -1.709756  -1.776203  0.113687 -0.607243 -0.954863   -0.507697   \n",
      "4      -1.806146  -1.716878  0.301746 -0.181691 -0.594848   -0.430295   \n",
      "\n",
      "    TOTRESV  UNEMPSA_      GEPU  \n",
      "0 -2.744138  1.333355 -1.032877  \n",
      "1 -2.735926  1.253469 -1.056117  \n",
      "2 -2.671689  1.228940 -1.108914  \n",
      "3 -2.556674  1.257918 -1.160644  \n",
      "4 -2.594208  1.132896 -0.563886  \n",
      "\n",
      "[5 rows x 21 columns]\n",
      "<class 'pandas.core.frame.DataFrame'>\n",
      "RangeIndex: 164 entries, 0 to 163\n",
      "Data columns (total 21 columns):\n",
      " #   Column         Non-Null Count  Dtype         \n",
      "---  ------         --------------  -----         \n",
      " 0   Period         164 non-null    datetime64[ns]\n",
      " 1   num_nodes      164 non-null    float64       \n",
      " 2   num_edges      164 non-null    float64       \n",
      " 3   density        164 non-null    float64       \n",
      " 4   clustering     164 non-null    float64       \n",
      " 5   assortativity  164 non-null    float64       \n",
      " 6   shortest_path  164 non-null    float64       \n",
      " 7   TPU            164 non-null    float64       \n",
      " 8   GPR            164 non-null    float64       \n",
      " 9   CPTOTSAXN      164 non-null    float64       \n",
      " 10  DPANUSSPB      164 non-null    float64       \n",
      " 11  DXGSRMRCHSACD  164 non-null    float64       \n",
      " 12  DMGSRMRCHSACD  164 non-null    float64       \n",
      " 13  IPTOTSAKD      164 non-null    float64       \n",
      " 14  IMPCOV         164 non-null    float64       \n",
      " 15  NEER           164 non-null    float64       \n",
      " 16  REER           164 non-null    float64       \n",
      " 17  RETSALESSA     164 non-null    float64       \n",
      " 18  TOTRESV        164 non-null    float64       \n",
      " 19  UNEMPSA_       164 non-null    float64       \n",
      " 20  GEPU           164 non-null    float64       \n",
      "dtypes: datetime64[ns](1), float64(20)\n",
      "memory usage: 27.0 KB\n",
      "None\n"
     ]
    }
   ],
   "source": [
    "\n",
    "# Exclude 'Period'\n",
    "numerical_columns = df.columns.difference(['Period'])  # Exclude 'Period'\n",
    "\n",
    "# Create a StandardScaler\n",
    "scaler = StandardScaler()  \n",
    "\n",
    "# Standardize the numerical columns\n",
    "df[numerical_columns] = scaler.fit_transform(df[numerical_columns])\n",
    "\n",
    "# Use the interpolate method to fill missing values with interpolation\n",
    "df = df.interpolate()\n",
    "\n",
    "# Sort the DataFrame by the 'Period' column\n",
    "df = df.sort_values(by='Period')\n",
    "\n",
    "# Display the first few rows and info to confirm changes\n",
    "print(df.head())\n",
    "print(df.info())\n"
   ],
   "metadata": {
    "collapsed": false,
    "ExecuteTime": {
     "end_time": "2024-08-17T00:27:42.677266Z",
     "start_time": "2024-08-17T00:27:42.651997Z"
    }
   },
   "id": "27fe75d17226d29a"
  },
  {
   "cell_type": "code",
   "execution_count": 61,
   "outputs": [],
   "source": [],
   "metadata": {
    "collapsed": false,
    "ExecuteTime": {
     "end_time": "2024-08-17T00:27:42.681011Z",
     "start_time": "2024-08-17T00:27:42.677532Z"
    }
   },
   "id": "fb6b6c6a7d03a01c"
  },
  {
   "cell_type": "markdown",
   "source": [
    "### Uncertainty measurement"
   ],
   "metadata": {
    "collapsed": false
   },
   "id": "2b11ddcbf958a00"
  },
  {
   "cell_type": "code",
   "execution_count": 62,
   "outputs": [],
   "source": [
    "\n",
    "# Define the target columns\n",
    "target_columns = ['num_nodes', 'num_edges', 'density', 'clustering', 'assortativity', 'shortest_path']\n",
    "\n",
    "# Copy the original DataFrame to avoid modifying the original data\n",
    "lag1_df = df.copy()\n",
    "lag2_df = df.copy()\n",
    "lag3_df = df.copy()\n",
    "\n",
    "# Shift target columns by 1, 2, and 3 periods in respective lag DataFrames\n",
    "for column in target_columns:\n",
    "    lag1_df[f'{column}'] = lag1_df[column].shift(1)\n",
    "    lag2_df[f'{column}'] = lag2_df[column].shift(2)\n",
    "    lag3_df[f'{column}'] = lag3_df[column].shift(3)\n",
    "\n",
    "# Shift the Period column backward by 1, 2, and 3 months\n",
    "lag1_df['Period'] = lag1_df['Period'] - pd.DateOffset(months=1)\n",
    "lag2_df['Period'] = lag2_df['Period'] - pd.DateOffset(months=2)\n",
    "lag3_df['Period'] = lag3_df['Period'] - pd.DateOffset(months=3)\n",
    "\n",
    "# Drop rows with NaN values in lag DataFrames\n",
    "lag1_df = lag1_df.dropna()\n",
    "lag2_df = lag2_df.dropna()\n",
    "lag3_df = lag3_df.dropna()\n"
   ],
   "metadata": {
    "collapsed": false,
    "ExecuteTime": {
     "end_time": "2024-08-17T00:27:42.695043Z",
     "start_time": "2024-08-17T00:27:42.685608Z"
    }
   },
   "id": "31e8a3a723a90c26"
  },
  {
   "cell_type": "code",
   "execution_count": 63,
   "outputs": [],
   "source": [
    "\n",
    "# Function to perform Random Search Cross-Validation\n",
    "def perform_random_search_cv(X_train, y_train, random_state=42):\n",
    "    param_dist = {\n",
    "        'n_estimators': randint(10, 100),\n",
    "        'max_depth': [None] + list(np.arange(3, 20)),\n",
    "        'min_samples_split': [2, 5, 10],\n",
    "        'min_samples_leaf': [1, 2, 4],\n",
    "        'bootstrap': [True, False]\n",
    "    }\n",
    "\n",
    "    # Ensure the RandomForestRegressor has a random_state set for reproducibility\n",
    "    rf_model = RandomForestRegressor(random_state=random_state)\n",
    "    tscv = TimeSeriesSplit(n_splits=5)\n",
    "    \n",
    "    # Set the random_state in RandomizedSearchCV for reproducibility\n",
    "    random_search = RandomizedSearchCV(\n",
    "        rf_model, param_distributions=param_dist, n_iter=10, cv=tscv, scoring='neg_mean_squared_error', random_state=random_state\n",
    "    )\n",
    "    random_search.fit(X_train, y_train)\n",
    "\n",
    "    print(\"Best Parameters:\", random_search.best_params_)\n",
    "    return random_search.best_estimator_\n",
    "\n",
    "# Function to calculate Mean Squared Error per period\n",
    "def calculate_mse_per_period(df, target_column):\n",
    "    features = df.columns[7:]  # Exclude 'Period' and target columns\n",
    "    target = target_column\n",
    "\n",
    "    # Split the dataset into train and test sets based on time\n",
    "    train_size = int(len(df) * 0.8)\n",
    "    train_set, test_set = df[:train_size], df[train_size:]\n",
    "\n",
    "    # Perform cross-validation and random search for hyperparameter tuning on the training set\n",
    "    best_model = perform_random_search_cv(train_set[features], train_set[target])\n",
    "\n",
    "    # Evaluate the best model on the test set\n",
    "    test_predictions = best_model.predict(test_set[features])\n",
    "    overall_test_mse = mean_squared_error(test_set[target], test_predictions)\n",
    "    print(f'Overall Test Set Mean Squared Error for {target_column}: {overall_test_mse}')\n",
    "\n",
    "    # Use the best model to predict on the entire dataset\n",
    "    full_dataset_predictions = best_model.predict(df[features])\n",
    "\n",
    "    # Add the predicted values to the DataFrame\n",
    "    df[f'predicted_{target_column}'] = full_dataset_predictions\n",
    "\n",
    "    # Calculate MSE for each period\n",
    "    mse_per_period = df.groupby('Period').apply(lambda group: mean_squared_error(group[target], group[f'predicted_{target_column}'])).reset_index()\n",
    "    mse_per_period.columns = ['Period', f'mse_{df}']\n",
    "    \n",
    "    return mse_per_period\n"
   ],
   "metadata": {
    "collapsed": false,
    "ExecuteTime": {
     "end_time": "2024-08-17T00:27:42.724850Z",
     "start_time": "2024-08-17T00:27:42.707058Z"
    }
   },
   "id": "bca717c46d5b0495"
  },
  {
   "cell_type": "code",
   "execution_count": 64,
   "outputs": [
    {
     "name": "stdout",
     "output_type": "stream",
     "text": [
      "Best Parameters: {'bootstrap': True, 'max_depth': 11, 'min_samples_leaf': 4, 'min_samples_split': 5, 'n_estimators': 71}\n",
      "Overall Test Set Mean Squared Error for num_nodes: 0.8426922007367628\n",
      "Best Parameters: {'bootstrap': True, 'max_depth': 9, 'min_samples_leaf': 4, 'min_samples_split': 10, 'n_estimators': 87}\n",
      "Overall Test Set Mean Squared Error for num_nodes: 0.8980024066741636\n",
      "Best Parameters: {'bootstrap': True, 'max_depth': 9, 'min_samples_leaf': 4, 'min_samples_split': 10, 'n_estimators': 87}\n",
      "Overall Test Set Mean Squared Error for num_nodes: 1.0736548649449313\n",
      "Best Parameters: {'bootstrap': True, 'max_depth': 8, 'min_samples_leaf': 1, 'min_samples_split': 2, 'n_estimators': 48}\n",
      "Overall Test Set Mean Squared Error for num_edges: 0.29617819742211715\n",
      "Best Parameters: {'bootstrap': True, 'max_depth': 8, 'min_samples_leaf': 1, 'min_samples_split': 2, 'n_estimators': 48}\n",
      "Overall Test Set Mean Squared Error for num_edges: 0.3743487726108578\n",
      "Best Parameters: {'bootstrap': True, 'max_depth': 8, 'min_samples_leaf': 1, 'min_samples_split': 2, 'n_estimators': 48}\n",
      "Overall Test Set Mean Squared Error for num_edges: 0.41891480597059655\n",
      "Best Parameters: {'bootstrap': True, 'max_depth': 8, 'min_samples_leaf': 1, 'min_samples_split': 2, 'n_estimators': 48}\n",
      "Overall Test Set Mean Squared Error for density: 0.561342065505956\n",
      "Best Parameters: {'bootstrap': True, 'max_depth': 8, 'min_samples_leaf': 1, 'min_samples_split': 2, 'n_estimators': 48}\n",
      "Overall Test Set Mean Squared Error for density: 0.6771794649981517\n",
      "Best Parameters: {'bootstrap': True, 'max_depth': 8, 'min_samples_leaf': 1, 'min_samples_split': 2, 'n_estimators': 48}\n",
      "Overall Test Set Mean Squared Error for density: 0.7276544072108947\n",
      "Best Parameters: {'bootstrap': True, 'max_depth': 11, 'min_samples_leaf': 4, 'min_samples_split': 5, 'n_estimators': 71}\n",
      "Overall Test Set Mean Squared Error for clustering: 1.0006185535727337\n",
      "Best Parameters: {'bootstrap': True, 'max_depth': 16, 'min_samples_leaf': 4, 'min_samples_split': 2, 'n_estimators': 30}\n",
      "Overall Test Set Mean Squared Error for clustering: 1.1361731088984202\n",
      "Best Parameters: {'bootstrap': True, 'max_depth': 8, 'min_samples_leaf': 1, 'min_samples_split': 2, 'n_estimators': 48}\n",
      "Overall Test Set Mean Squared Error for clustering: 1.228341904038356\n",
      "Best Parameters: {'bootstrap': True, 'max_depth': 13, 'min_samples_leaf': 4, 'min_samples_split': 2, 'n_estimators': 12}\n",
      "Overall Test Set Mean Squared Error for assortativity: 2.0729686753168326\n",
      "Best Parameters: {'bootstrap': True, 'max_depth': 9, 'min_samples_leaf': 4, 'min_samples_split': 10, 'n_estimators': 87}\n",
      "Overall Test Set Mean Squared Error for assortativity: 3.283204094462114\n",
      "Best Parameters: {'bootstrap': True, 'max_depth': 13, 'min_samples_leaf': 4, 'min_samples_split': 2, 'n_estimators': 12}\n",
      "Overall Test Set Mean Squared Error for assortativity: 1.9954497296913134\n",
      "Best Parameters: {'bootstrap': True, 'max_depth': 9, 'min_samples_leaf': 4, 'min_samples_split': 10, 'n_estimators': 87}\n",
      "Overall Test Set Mean Squared Error for shortest_path: 1.0671750352114096\n",
      "Best Parameters: {'bootstrap': True, 'max_depth': 11, 'min_samples_leaf': 4, 'min_samples_split': 5, 'n_estimators': 71}\n",
      "Overall Test Set Mean Squared Error for shortest_path: 1.6595591945258357\n",
      "Best Parameters: {'bootstrap': True, 'max_depth': 13, 'min_samples_leaf': 4, 'min_samples_split': 2, 'n_estimators': 12}\n",
      "Overall Test Set Mean Squared Error for shortest_path: 2.4998997717079705\n"
     ]
    }
   ],
   "source": [
    "\n",
    "# List of columns to iterate through\n",
    "columns_to_calculate_mse = ['num_nodes', 'num_edges', 'density', 'clustering', 'assortativity', 'shortest_path']\n",
    "\n",
    "# Dictionary to store the calculated MSE DataFrames for each column\n",
    "mse_per_column_dict = {}\n",
    "\n",
    "# Assuming lag1_df, lag3_df, lag6_df are your lag DataFrames\n",
    "for column in columns_to_calculate_mse:\n",
    "    lag1_mse = calculate_mse_per_period(lag1_df, target_column=column)\n",
    "    lag2_mse = calculate_mse_per_period(lag2_df, target_column=column)\n",
    "    lag3_mse = calculate_mse_per_period(lag3_df, target_column=column)\n",
    "\n",
    "    # Merge the MSE DataFrames on the 'period' column\n",
    "    merged_mse_df = lag1_mse.merge(lag2_mse, on='Period').merge(lag3_mse, on='Period')\n",
    "\n",
    "    # Rename the columns to include the column name and lag\n",
    "    merged_mse_df.columns = ['Period', f'mse_lag1_{column}', f'mse_lag2_{column}', f'mse_lag3_{column}']\n",
    "\n",
    "    # Store the MSE DataFrame for the current column in the dictionary\n",
    "    mse_per_column_dict[column] = merged_mse_df\n",
    "\n",
    "# Create separate DataFrames for each lag\n",
    "lag1_mse = pd.concat([mse_df[f'mse_lag1_{column}'] for column, mse_df in mse_per_column_dict.items()], axis=1)\n",
    "lag2_mse = pd.concat([mse_df[f'mse_lag2_{column}'] for column, mse_df in mse_per_column_dict.items()], axis=1)\n",
    "lag3_mse = pd.concat([mse_df[f'mse_lag3_{column}'] for column, mse_df in mse_per_column_dict.items()], axis=1)\n",
    "\n",
    "# Include the 'period' column in the resulting DataFrames\n",
    "lag1_mse.insert(0, 'Period', mse_per_column_dict[columns_to_calculate_mse[0]]['Period'])\n",
    "lag2_mse.insert(0, 'Period', mse_per_column_dict[columns_to_calculate_mse[0]]['Period'])\n",
    "lag3_mse.insert(0, 'Period', mse_per_column_dict[columns_to_calculate_mse[0]]['Period'])\n"
   ],
   "metadata": {
    "collapsed": false,
    "ExecuteTime": {
     "end_time": "2024-08-17T00:28:05.134011Z",
     "start_time": "2024-08-17T00:27:42.751038Z"
    }
   },
   "id": "7ef9ce9eb1f4ec49"
  },
  {
   "cell_type": "code",
   "execution_count": 65,
   "outputs": [
    {
     "name": "stdout",
     "output_type": "stream",
     "text": [
      "Lag 1 DataFrame:\n",
      "      Period  mse_lag1_num_nodes  mse_lag1_num_edges  mse_lag1_density  \\\n",
      "0 2010-01-01            0.727651            0.009343          0.023102   \n",
      "1 2010-02-01            0.062619            0.006866          0.096702   \n",
      "2 2010-03-01            0.000833            0.073470          0.076178   \n",
      "3 2010-04-01            0.048719            0.000022          0.002782   \n",
      "4 2010-05-01            0.678025            0.000764          0.251749   \n",
      "\n",
      "   mse_lag1_clustering  mse_lag1_assortativity  mse_lag1_shortest_path  \n",
      "0             1.355422                1.333437                0.159844  \n",
      "1             0.527170                0.016641                0.213016  \n",
      "2             1.329008                0.020227                0.024917  \n",
      "3             0.888309                0.063508                0.014446  \n",
      "4             0.981629                0.006163                0.235331  \n",
      "Lag 2 DataFrame:\n",
      "      Period  mse_lag2_num_nodes  mse_lag2_num_edges  mse_lag2_density  \\\n",
      "0 2010-01-01            0.456286            0.009050          0.016853   \n",
      "1 2010-02-01            0.105339            0.002102          0.117260   \n",
      "2 2010-03-01            0.024441            0.065849          0.052064   \n",
      "3 2010-04-01            0.013444            0.003492          0.001562   \n",
      "4 2010-05-01            0.733685            0.000738          0.173435   \n",
      "\n",
      "   mse_lag2_clustering  mse_lag2_assortativity  mse_lag2_shortest_path  \n",
      "0             0.970437                0.958396            3.418722e-02  \n",
      "1             0.771959                0.082278            3.765487e-02  \n",
      "2             0.247207                0.009603            2.333149e-03  \n",
      "3             0.320805                0.021130            4.455271e-07  \n",
      "4             1.462911                0.088436            1.448569e-01  \n",
      "Lag 3 DataFrame:\n",
      "      Period  mse_lag3_num_nodes  mse_lag3_num_edges  mse_lag3_density  \\\n",
      "0 2010-01-01            0.481869            0.012409          0.001376   \n",
      "1 2010-02-01            0.124892            0.009821          0.164293   \n",
      "2 2010-03-01            0.018423            0.051853          0.010567   \n",
      "3 2010-04-01            0.005273            0.009056          0.032757   \n",
      "4 2010-05-01            0.730869            0.003317          0.186444   \n",
      "\n",
      "   mse_lag3_clustering  mse_lag3_assortativity  mse_lag3_shortest_path  \n",
      "0             0.241853                0.847826                0.016066  \n",
      "1             0.260388                0.006810                0.100920  \n",
      "2             0.399012                0.013895                0.001633  \n",
      "3             0.362123                0.183478                0.003884  \n",
      "4             0.957106                0.109276                0.556659  \n"
     ]
    }
   ],
   "source": [
    "\n",
    "# Display the first few rows for verification\n",
    "print(\"Lag 1 DataFrame:\")\n",
    "print(lag1_mse.head())\n",
    "\n",
    "print(\"Lag 2 DataFrame:\")\n",
    "print(lag2_mse.head())\n",
    "\n",
    "print(\"Lag 3 DataFrame:\")\n",
    "print(lag3_mse.head())\n"
   ],
   "metadata": {
    "collapsed": false,
    "ExecuteTime": {
     "end_time": "2024-08-17T00:28:05.149364Z",
     "start_time": "2024-08-17T00:28:05.135609Z"
    }
   },
   "id": "10d8df1ddb4d0871"
  },
  {
   "cell_type": "code",
   "execution_count": 66,
   "outputs": [],
   "source": [
    "\n",
    "def calculate_uncertainty_metrics(mse_df):\n",
    "    \"\"\"\n",
    "    Calculate uncertainty metrics by averaging the MSE values across different lagged predictions.\n",
    "\n",
    "    Parameters:\n",
    "    mse_df (DataFrame): A DataFrame containing MSE values for different lagged predictions.\n",
    "\n",
    "    Returns:\n",
    "    DataFrame: A DataFrame containing the 'Period' and the calculated 'uncertainty'.\n",
    "    \"\"\"\n",
    "    \n",
    "    # Calculate 'uncertainty' as the average of the MSE columns (excluding 'Period')\n",
    "    mse_df['uncertainty'] = mse_df.iloc[:, 1:].mean(axis=1)\n",
    "    \n",
    "    # Keep only the 'Period' and 'uncertainty' columns\n",
    "    uncertainties = mse_df[['Period', 'uncertainty']]\n",
    "    \n",
    "    return uncertainties\n"
   ],
   "metadata": {
    "collapsed": false,
    "ExecuteTime": {
     "end_time": "2024-08-17T00:28:05.149734Z",
     "start_time": "2024-08-17T00:28:05.140765Z"
    }
   },
   "id": "acd946e4b6cca7db"
  },
  {
   "cell_type": "code",
   "execution_count": 67,
   "outputs": [
    {
     "name": "stdout",
     "output_type": "stream",
     "text": [
      "Lag 1 Uncertainty DataFrame: \n",
      "      Period  uncertainty\n",
      "0 2010-01-01     0.601467\n",
      "1 2010-02-01     0.153836\n",
      "2 2010-03-01     0.254106\n",
      "3 2010-04-01     0.169631\n",
      "4 2010-05-01     0.358944\n",
      "Lag 2 Uncertainty DataFrame: \n",
      "      Period  uncertainty\n",
      "0 2010-01-01     0.407535\n",
      "1 2010-02-01     0.186099\n",
      "2 2010-03-01     0.066916\n",
      "3 2010-04-01     0.060072\n",
      "4 2010-05-01     0.434010\n",
      "Lag 2 Uncertainty DataFrame: \n",
      "      Period  uncertainty\n",
      "0 2010-01-01     0.266900\n",
      "1 2010-02-01     0.111188\n",
      "2 2010-03-01     0.082563\n",
      "3 2010-04-01     0.099428\n",
      "4 2010-05-01     0.423945\n"
     ]
    }
   ],
   "source": [
    "\n",
    "# Calculate 'avg_uncertainty' and 'weighted_uncertainty' for each row in mse_df\n",
    "uncertainties_1 = calculate_uncertainty_metrics(lag1_mse)\n",
    "uncertainties_2 = calculate_uncertainty_metrics(lag2_mse)\n",
    "uncertainties_3 = calculate_uncertainty_metrics(lag3_mse)\n",
    "\n",
    "# Display the first few rows for verification\n",
    "print(\"Lag 1 Uncertainty DataFrame: \")\n",
    "print(uncertainties_1.head())\n",
    "\n",
    "print(\"Lag 2 Uncertainty DataFrame: \")\n",
    "print(uncertainties_2.head())\n",
    "\n",
    "print(\"Lag 2 Uncertainty DataFrame: \")\n",
    "print(uncertainties_3.head())\n"
   ],
   "metadata": {
    "collapsed": false,
    "ExecuteTime": {
     "end_time": "2024-08-17T00:28:05.150028Z",
     "start_time": "2024-08-17T00:28:05.146831Z"
    }
   },
   "id": "9ec47a1bfa95a548"
  },
  {
   "cell_type": "code",
   "execution_count": 68,
   "outputs": [
    {
     "data": {
      "text/plain": "<Figure size 1000x400 with 1 Axes>",
      "image/png": "[encoded data removed]"
     },
     "metadata": {},
     "output_type": "display_data"
    }
   ],
   "source": [
    "\n",
    "#Plot uncertainty\n",
    "plt.figure(figsize=(10, 4))\n",
    "plt.plot(uncertainties_1['Period'], uncertainties_1['uncertainty'], label='h=1', linestyle='-')\n",
    "plt.plot(uncertainties_2['Period'], uncertainties_2['uncertainty'], label='h=2', linestyle=':')\n",
    "plt.plot(uncertainties_3['Period'], uncertainties_3['uncertainty'], label='h=3', linestyle='--')\n",
    "\n",
    "# Set the title and labels\n",
    "plt.title('Uncertainty Over Different h-Periods')\n",
    "plt.xlabel('Period')\n",
    "plt.ylabel('Uncertainty')\n",
    "\n",
    "# Adding a legend\n",
    "plt.legend()\n",
    "\n",
    "# Improve the x-axis ticks\n",
    "plt.gca().xaxis.set_major_locator(mdates.YearLocator())\n",
    "plt.gca().xaxis.set_major_formatter(mdates.DateFormatter('%Y'))\n",
    "\n",
    "# Rotate x-labels for better readability\n",
    "plt.xticks(rotation=45)\n",
    "\n",
    "# Ensure the plot layout is tight\n",
    "plt.tight_layout()\n",
    "\n",
    "# Show the plot\n",
    "plt.show()\n"
   ],
   "metadata": {
    "collapsed": false,
    "ExecuteTime": {
     "end_time": "2024-08-17T00:28:05.368853Z",
     "start_time": "2024-08-17T00:28:05.196114Z"
    }
   },
   "id": "db6c09ed8a066672"
  },
  {
   "cell_type": "code",
   "execution_count": 69,
   "outputs": [],
   "source": [
    "# Save to csv\n",
    "uncertainties_1.to_csv('../data/processed/uncertainty_index.csv', index=False, encoding='utf')"
   ],
   "metadata": {
    "collapsed": false,
    "ExecuteTime": {
     "end_time": "2024-08-17T00:28:05.635614Z",
     "start_time": "2024-08-17T00:28:05.370984Z"
    }
   },
   "id": "177c9701cbbe9dbe"
  },
  {
   "cell_type": "code",
   "execution_count": 69,
   "outputs": [],
   "source": [],
   "metadata": {
    "collapsed": false,
    "ExecuteTime": {
     "end_time": "2024-08-17T00:28:05.636318Z",
     "start_time": "2024-08-17T00:28:05.454095Z"
    }
   },
   "id": "267f72c42dbe5d75"
  }
 ],
 "metadata": {
  "kernelspec": {
   "display_name": "Python 3",
   "language": "python",
   "name": "python3"
  },
  "language_info": {
   "codemirror_mode": {
    "name": "ipython",
    "version": 2
   },
   "file_extension": ".py",
   "mimetype": "text/x-python",
   "name": "python",
   "nbconvert_exporter": "python",
   "pygments_lexer": "ipython2",
   "version": "2.7.6"
  }
 },
 "nbformat": 4,
 "nbformat_minor": 5
}
