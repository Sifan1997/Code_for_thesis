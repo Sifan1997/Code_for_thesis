{
 "cells": [
  {
   "cell_type": "code",
   "execution_count": 36,
   "id": "initial_id",
   "metadata": {
    "collapsed": true,
    "ExecuteTime": {
     "end_time": "2024-01-10T09:33:01.491351Z",
     "start_time": "2024-01-10T09:32:59.154148Z"
    }
   },
   "outputs": [],
   "source": [
    "import pandas as pd\n",
    "import matplotlib.pyplot as plt\n",
    "import numpy as np\n",
    "from sklearn.preprocessing import StandardScaler "
   ]
  },
  {
   "cell_type": "code",
   "execution_count": 42,
   "outputs": [
    {
     "data": {
      "text/plain": "      period  num_nodes  num_edges   density  avg_clustering  assortativity  \\\n0    2000M01  -1.947821  -1.448398 -1.414800       -2.189090      -1.259842   \n1    2000M02  -1.527660  -1.407006 -1.627588       -2.567136      -1.201641   \n2    2000M03  -1.656940  -1.395717 -1.466600       -1.322957      -1.220972   \n3    2000M04  -1.656940  -1.399480 -1.482401       -0.880277      -1.406542   \n4    2000M05  -1.753900  -1.393208 -1.359877       -1.129810      -0.920837   \n..       ...        ...        ...       ...             ...            ...   \n280  2023M05   0.960982   0.830711  0.638994        0.813064       0.110855   \n281  2023M06   0.960982   0.767995  0.546720        1.035085      -0.004212   \n282  2023M07   0.767062   0.663886  0.625349        0.366248      -0.044437   \n283  2023M08   0.670102   0.612459  0.666572        1.194386       0.029263   \n284  2023M09   0.670102   0.596152  0.640248        0.972935      -0.088843   \n\n     avg_shortest_path  \n0            -1.018583  \n1            -0.817933  \n2            -0.617283  \n3            -0.521313  \n4            -1.653585  \n..                 ...  \n280          -0.769097  \n281          -0.500082  \n282          -0.589960  \n283          -0.557070  \n284          -1.094481  \n\n[285 rows x 7 columns]",
      "text/html": "<div>\n<style scoped>\n    .dataframe tbody tr th:only-of-type {\n        vertical-align: middle;\n    }\n\n    .dataframe tbody tr th {\n        vertical-align: top;\n    }\n\n    .dataframe thead th {\n        text-align: right;\n    }\n</style>\n<table border=\"1\" class=\"dataframe\">\n  <thead>\n    <tr style=\"text-align: right;\">\n      <th></th>\n      <th>period</th>\n      <th>num_nodes</th>\n      <th>num_edges</th>\n      <th>density</th>\n      <th>avg_clustering</th>\n      <th>assortativity</th>\n      <th>avg_shortest_path</th>\n    </tr>\n  </thead>\n  <tbody>\n    <tr>\n      <th>0</th>\n      <td>2000M01</td>\n      <td>-1.947821</td>\n      <td>-1.448398</td>\n      <td>-1.414800</td>\n      <td>-2.189090</td>\n      <td>-1.259842</td>\n      <td>-1.018583</td>\n    </tr>\n    <tr>\n      <th>1</th>\n      <td>2000M02</td>\n      <td>-1.527660</td>\n      <td>-1.407006</td>\n      <td>-1.627588</td>\n      <td>-2.567136</td>\n      <td>-1.201641</td>\n      <td>-0.817933</td>\n    </tr>\n    <tr>\n      <th>2</th>\n      <td>2000M03</td>\n      <td>-1.656940</td>\n      <td>-1.395717</td>\n      <td>-1.466600</td>\n      <td>-1.322957</td>\n      <td>-1.220972</td>\n      <td>-0.617283</td>\n    </tr>\n    <tr>\n      <th>3</th>\n      <td>2000M04</td>\n      <td>-1.656940</td>\n      <td>-1.399480</td>\n      <td>-1.482401</td>\n      <td>-0.880277</td>\n      <td>-1.406542</td>\n      <td>-0.521313</td>\n    </tr>\n    <tr>\n      <th>4</th>\n      <td>2000M05</td>\n      <td>-1.753900</td>\n      <td>-1.393208</td>\n      <td>-1.359877</td>\n      <td>-1.129810</td>\n      <td>-0.920837</td>\n      <td>-1.653585</td>\n    </tr>\n    <tr>\n      <th>...</th>\n      <td>...</td>\n      <td>...</td>\n      <td>...</td>\n      <td>...</td>\n      <td>...</td>\n      <td>...</td>\n      <td>...</td>\n    </tr>\n    <tr>\n      <th>280</th>\n      <td>2023M05</td>\n      <td>0.960982</td>\n      <td>0.830711</td>\n      <td>0.638994</td>\n      <td>0.813064</td>\n      <td>0.110855</td>\n      <td>-0.769097</td>\n    </tr>\n    <tr>\n      <th>281</th>\n      <td>2023M06</td>\n      <td>0.960982</td>\n      <td>0.767995</td>\n      <td>0.546720</td>\n      <td>1.035085</td>\n      <td>-0.004212</td>\n      <td>-0.500082</td>\n    </tr>\n    <tr>\n      <th>282</th>\n      <td>2023M07</td>\n      <td>0.767062</td>\n      <td>0.663886</td>\n      <td>0.625349</td>\n      <td>0.366248</td>\n      <td>-0.044437</td>\n      <td>-0.589960</td>\n    </tr>\n    <tr>\n      <th>283</th>\n      <td>2023M08</td>\n      <td>0.670102</td>\n      <td>0.612459</td>\n      <td>0.666572</td>\n      <td>1.194386</td>\n      <td>0.029263</td>\n      <td>-0.557070</td>\n    </tr>\n    <tr>\n      <th>284</th>\n      <td>2023M09</td>\n      <td>0.670102</td>\n      <td>0.596152</td>\n      <td>0.640248</td>\n      <td>0.972935</td>\n      <td>-0.088843</td>\n      <td>-1.094481</td>\n    </tr>\n  </tbody>\n</table>\n<p>285 rows × 7 columns</p>\n</div>"
     },
     "execution_count": 42,
     "metadata": {},
     "output_type": "execute_result"
    }
   ],
   "source": [
    "df = pd.read_csv('../data/processed/properties.csv')\n",
    "\n",
    "# Assuming df is your DataFrame\n",
    "numerical_columns = df.columns.difference(['period'])  # Exclude 'Period'\n",
    "\n",
    "# Create a StandardScaler\n",
    "scaler = StandardScaler()  \n",
    "\n",
    "# Standardize the numerical columns\n",
    "df[numerical_columns] = scaler.fit_transform(df[numerical_columns])\n",
    "\n",
    "# Use the interpolate method to fill missing values with interpolation\n",
    "df = df.interpolate()\n",
    "\n",
    "# Sort the DataFrame by the 'period' column\n",
    "df = df.sort_values(by='period')\n",
    "\n",
    "df"
   ],
   "metadata": {
    "collapsed": false,
    "ExecuteTime": {
     "end_time": "2024-01-10T09:44:20.830952Z",
     "start_time": "2024-01-10T09:44:20.795331Z"
    }
   },
   "id": "27fe75d17226d29a"
  },
  {
   "cell_type": "code",
   "execution_count": 42,
   "outputs": [],
   "source": [],
   "metadata": {
    "collapsed": false,
    "ExecuteTime": {
     "end_time": "2024-01-10T09:44:41.419417Z",
     "start_time": "2024-01-10T09:44:41.404675Z"
    }
   },
   "id": "fb6b6c6a7d03a01c"
  },
  {
   "cell_type": "markdown",
   "source": [
    "### Uncertainty for each property"
   ],
   "metadata": {
    "collapsed": false
   },
   "id": "2b11ddcbf958a00"
  },
  {
   "cell_type": "code",
   "execution_count": 43,
   "outputs": [
    {
     "data": {
      "text/plain": "      period  num_nodes  num_edges   density  avg_clustering  assortativity  \\\n3    2000M04   0.033775   0.000821  0.008633        1.584817       0.032647   \n4    2000M05   0.023329   0.000079  0.032690        0.721826       0.134947   \n5    2000M06   0.003134   0.000057  0.002961        0.124749       0.180809   \n6    2000M07   0.007312   0.000297  0.025329        0.147289       0.084700   \n7    2000M08   0.051881   0.000356  0.082869        1.674135       0.105027   \n..       ...        ...        ...       ...             ...            ...   \n280  2023M05   0.026115   0.012263  0.012198        0.009496       0.008705   \n281  2023M06   0.009053   0.009199  0.021009        0.041304       0.028480   \n282  2023M07   0.025418   0.012965  0.002217        0.280995       0.026691   \n283  2023M08   0.059541   0.024824  0.005608        0.285532       0.004403   \n284  2023M09   0.031338   0.011461  0.003221        0.140324       0.007695   \n\n     avg_shortest_path  \n3             0.114824  \n4             1.018092  \n5             0.623717  \n6             0.709033  \n7             6.289414  \n..                 ...  \n280           0.049104  \n281           0.161011  \n282           0.082534  \n283           0.016428  \n284           0.298888  \n\n[282 rows x 7 columns]",
      "text/html": "<div>\n<style scoped>\n    .dataframe tbody tr th:only-of-type {\n        vertical-align: middle;\n    }\n\n    .dataframe tbody tr th {\n        vertical-align: top;\n    }\n\n    .dataframe thead th {\n        text-align: right;\n    }\n</style>\n<table border=\"1\" class=\"dataframe\">\n  <thead>\n    <tr style=\"text-align: right;\">\n      <th></th>\n      <th>period</th>\n      <th>num_nodes</th>\n      <th>num_edges</th>\n      <th>density</th>\n      <th>avg_clustering</th>\n      <th>assortativity</th>\n      <th>avg_shortest_path</th>\n    </tr>\n  </thead>\n  <tbody>\n    <tr>\n      <th>3</th>\n      <td>2000M04</td>\n      <td>0.033775</td>\n      <td>0.000821</td>\n      <td>0.008633</td>\n      <td>1.584817</td>\n      <td>0.032647</td>\n      <td>0.114824</td>\n    </tr>\n    <tr>\n      <th>4</th>\n      <td>2000M05</td>\n      <td>0.023329</td>\n      <td>0.000079</td>\n      <td>0.032690</td>\n      <td>0.721826</td>\n      <td>0.134947</td>\n      <td>1.018092</td>\n    </tr>\n    <tr>\n      <th>5</th>\n      <td>2000M06</td>\n      <td>0.003134</td>\n      <td>0.000057</td>\n      <td>0.002961</td>\n      <td>0.124749</td>\n      <td>0.180809</td>\n      <td>0.623717</td>\n    </tr>\n    <tr>\n      <th>6</th>\n      <td>2000M07</td>\n      <td>0.007312</td>\n      <td>0.000297</td>\n      <td>0.025329</td>\n      <td>0.147289</td>\n      <td>0.084700</td>\n      <td>0.709033</td>\n    </tr>\n    <tr>\n      <th>7</th>\n      <td>2000M08</td>\n      <td>0.051881</td>\n      <td>0.000356</td>\n      <td>0.082869</td>\n      <td>1.674135</td>\n      <td>0.105027</td>\n      <td>6.289414</td>\n    </tr>\n    <tr>\n      <th>...</th>\n      <td>...</td>\n      <td>...</td>\n      <td>...</td>\n      <td>...</td>\n      <td>...</td>\n      <td>...</td>\n      <td>...</td>\n    </tr>\n    <tr>\n      <th>280</th>\n      <td>2023M05</td>\n      <td>0.026115</td>\n      <td>0.012263</td>\n      <td>0.012198</td>\n      <td>0.009496</td>\n      <td>0.008705</td>\n      <td>0.049104</td>\n    </tr>\n    <tr>\n      <th>281</th>\n      <td>2023M06</td>\n      <td>0.009053</td>\n      <td>0.009199</td>\n      <td>0.021009</td>\n      <td>0.041304</td>\n      <td>0.028480</td>\n      <td>0.161011</td>\n    </tr>\n    <tr>\n      <th>282</th>\n      <td>2023M07</td>\n      <td>0.025418</td>\n      <td>0.012965</td>\n      <td>0.002217</td>\n      <td>0.280995</td>\n      <td>0.026691</td>\n      <td>0.082534</td>\n    </tr>\n    <tr>\n      <th>283</th>\n      <td>2023M08</td>\n      <td>0.059541</td>\n      <td>0.024824</td>\n      <td>0.005608</td>\n      <td>0.285532</td>\n      <td>0.004403</td>\n      <td>0.016428</td>\n    </tr>\n    <tr>\n      <th>284</th>\n      <td>2023M09</td>\n      <td>0.031338</td>\n      <td>0.011461</td>\n      <td>0.003221</td>\n      <td>0.140324</td>\n      <td>0.007695</td>\n      <td>0.298888</td>\n    </tr>\n  </tbody>\n</table>\n<p>282 rows × 7 columns</p>\n</div>"
     },
     "execution_count": 43,
     "metadata": {},
     "output_type": "execute_result"
    }
   ],
   "source": [
    "# Specify the value of h (number of periods for squared error calculation)\n",
    "h = 3  # You can adjust this value based on your needs\n",
    "\n",
    "# Create an empty DataFrame to store mean squared errors for each column\n",
    "mse_df = pd.DataFrame({'period': df['period'].iloc[h:]})\n",
    "\n",
    "# Calculate mean squared error for each column (except 'period') over h-periods\n",
    "for column in df.columns[1:]:  # Exclude the 'period' column\n",
    "    mse_mean_list = []\n",
    "    for i in range(h, len(df)):\n",
    "        squared_errors = (df[column].iloc[i - h:i] - df[column].iloc[i]) ** 2\n",
    "        mse_mean = squared_errors.mean()\n",
    "        mse_mean_list.append(mse_mean)\n",
    "    \n",
    "    # Add the mean squared errors for the column to mse_df\n",
    "    mse_df[column] = mse_mean_list\n",
    "\n",
    "# Display the resulting DataFrame\n",
    "mse_df\n"
   ],
   "metadata": {
    "collapsed": false,
    "ExecuteTime": {
     "end_time": "2024-01-10T09:44:42.673825Z",
     "start_time": "2024-01-10T09:44:42.513591Z"
    }
   },
   "id": "acd946e4b6cca7db"
  },
  {
   "cell_type": "code",
   "execution_count": null,
   "outputs": [],
   "source": [],
   "metadata": {
    "collapsed": false
   },
   "id": "b5b73074dd3a6d1c"
  }
 ],
 "metadata": {
  "kernelspec": {
   "display_name": "Python 3",
   "language": "python",
   "name": "python3"
  },
  "language_info": {
   "codemirror_mode": {
    "name": "ipython",
    "version": 2
   },
   "file_extension": ".py",
   "mimetype": "text/x-python",
   "name": "python",
   "nbconvert_exporter": "python",
   "pygments_lexer": "ipython2",
   "version": "2.7.6"
  }
 },
 "nbformat": 4,
 "nbformat_minor": 5
}
