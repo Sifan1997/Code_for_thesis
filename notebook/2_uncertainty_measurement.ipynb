{
 "cells": [
  {
   "cell_type": "code",
   "execution_count": 1179,
   "id": "initial_id",
   "metadata": {
    "collapsed": true,
    "ExecuteTime": {
     "end_time": "2024-07-31T09:38:11.446891Z",
     "start_time": "2024-07-31T09:38:11.387157Z"
    }
   },
   "outputs": [],
   "source": [
    "import pandas as pd\n",
    "import matplotlib.pyplot as plt\n",
    "import numpy as np\n",
    "\n",
    "from sklearn.preprocessing import StandardScaler \n",
    "from sklearn.model_selection import train_test_split, TimeSeriesSplit, RandomizedSearchCV\n",
    "from sklearn.ensemble import RandomForestRegressor\n",
    "from sklearn.metrics import mean_squared_error\n",
    "from scipy.stats import randint\n",
    "\n"
   ]
  },
  {
   "cell_type": "code",
   "execution_count": 1179,
   "outputs": [],
   "source": [],
   "metadata": {
    "collapsed": false,
    "ExecuteTime": {
     "end_time": "2024-07-31T09:38:11.454657Z",
     "start_time": "2024-07-31T09:38:11.447112Z"
    }
   },
   "id": "8004a4d1fb7287e2"
  },
  {
   "cell_type": "markdown",
   "source": [
    "### Read data"
   ],
   "metadata": {
    "collapsed": false
   },
   "id": "13911f0012f1f460"
  },
  {
   "cell_type": "code",
   "execution_count": 1180,
   "outputs": [],
   "source": [
    "# Loda data\n",
    "target = pd.read_csv('../data/processed/properties.csv')\n",
    "features = pd.read_csv('../data/processed/features.csv')\n",
    "\n",
    "# features = features[['Period', 'TPU', 'GPR', 'CORESA', 'CPTOTSAXN', 'DPANUSSPB', 'DXGSRMRCHSACD','DMGSRMRCHSACD', 'IPTOTSAKD', 'IMPCOV', 'NEER', 'REER', 'RETSALESSA', 'TOTRESV', 'UNEMPSA_']]   IMPCOV\n",
    "\n",
    "features = features[['Period', 'TPU', 'GPR', 'CPTOTSAXN', 'DPANUSSPB', 'DXGSRMRCHSACD','DMGSRMRCHSACD', 'IPTOTSAKD', 'IMPCOV', 'NEER', 'REER', 'RETSALESSA', 'TOTRESV', 'UNEMPSA_','GEPU']]\n",
    "\n",
    "# Merge data\n",
    "df = pd.merge(target, features, on='Period')\n",
    "\n",
    "# Convert Period column to datetime\n",
    "df['Period'] = pd.to_datetime(df['Period'])\n"
   ],
   "metadata": {
    "collapsed": false,
    "ExecuteTime": {
     "end_time": "2024-07-31T09:38:11.576975Z",
     "start_time": "2024-07-31T09:38:11.465099Z"
    }
   },
   "id": "1b18a816f19a1a2a"
  },
  {
   "cell_type": "code",
   "execution_count": 1181,
   "outputs": [
    {
     "name": "stdout",
     "output_type": "stream",
     "text": [
      "<class 'pandas.core.frame.DataFrame'>\n",
      "RangeIndex: 164 entries, 0 to 163\n",
      "Data columns (total 21 columns):\n",
      " #   Column         Non-Null Count  Dtype         \n",
      "---  ------         --------------  -----         \n",
      " 0   Period         164 non-null    datetime64[ns]\n",
      " 1   num_nodes      164 non-null    int64         \n",
      " 2   num_edges      164 non-null    int64         \n",
      " 3   density        164 non-null    float64       \n",
      " 4   clustering     164 non-null    float64       \n",
      " 5   assortativity  164 non-null    float64       \n",
      " 6   shortest_path  163 non-null    float64       \n",
      " 7   TPU            164 non-null    float64       \n",
      " 8   GPR            164 non-null    float64       \n",
      " 9   CPTOTSAXN      164 non-null    float64       \n",
      " 10  DPANUSSPB      145 non-null    float64       \n",
      " 11  DXGSRMRCHSACD  164 non-null    float64       \n",
      " 12  DMGSRMRCHSACD  164 non-null    float64       \n",
      " 13  IPTOTSAKD      164 non-null    float64       \n",
      " 14  IMPCOV         164 non-null    float64       \n",
      " 15  NEER           164 non-null    float64       \n",
      " 16  REER           164 non-null    float64       \n",
      " 17  RETSALESSA     164 non-null    float64       \n",
      " 18  TOTRESV        164 non-null    float64       \n",
      " 19  UNEMPSA_       164 non-null    float64       \n",
      " 20  GEPU           164 non-null    float64       \n",
      "dtypes: datetime64[ns](1), float64(18), int64(2)\n",
      "memory usage: 27.0 KB\n"
     ]
    }
   ],
   "source": [
    "df.info()"
   ],
   "metadata": {
    "collapsed": false,
    "ExecuteTime": {
     "end_time": "2024-07-31T09:38:11.581248Z",
     "start_time": "2024-07-31T09:38:11.548876Z"
    }
   },
   "id": "ee331c89c4db50a5"
  },
  {
   "cell_type": "code",
   "execution_count": 1182,
   "outputs": [],
   "source": [
    "# Exclude 'Period'\n",
    "numerical_columns = df.columns.difference(['Period'])  # Exclude 'Period'\n",
    "\n",
    "# Create a StandardScaler\n",
    "scaler = StandardScaler()  \n",
    "\n",
    "# Standardize the numerical columns\n",
    "df[numerical_columns] = scaler.fit_transform(df[numerical_columns])\n",
    "\n",
    "# Use the interpolate method to fill missing values with interpolation\n",
    "df = df.interpolate()\n",
    "\n",
    "# Sort the DataFrame by the 'period' column\n",
    "df = df.sort_values(by='Period')\n"
   ],
   "metadata": {
    "collapsed": false,
    "ExecuteTime": {
     "end_time": "2024-07-31T09:38:11.594377Z",
     "start_time": "2024-07-31T09:38:11.576559Z"
    }
   },
   "id": "27fe75d17226d29a"
  },
  {
   "cell_type": "code",
   "execution_count": 1183,
   "outputs": [
    {
     "data": {
      "text/plain": "      Period  num_nodes  num_edges   density  clustering  assortativity  \\\n0 2010-01-01  -1.907728  -2.123956 -0.662045   -1.736416       0.897781   \n1 2010-02-01  -0.812829  -2.025574 -1.541808    0.673488      -0.766521   \n2 2010-03-01  -1.086554  -1.189334 -0.333355    1.536279      -0.633031   \n3 2010-04-01  -1.360279  -1.907517 -0.913957   -1.713061      -0.709437   \n4 2010-05-01  -2.181453  -1.651725  0.169031    1.351597      -0.365774   \n\n   shortest_path       TPU       GPR  CPTOTSAXN  ...  DXGSRMRCHSACD  \\\n0       1.708130 -0.704058 -0.197764  -1.426643  ...      -1.629180   \n1       0.961073 -0.811993 -0.573908  -1.417138  ...      -1.564621   \n2      -0.242651 -0.626296 -0.802887  -1.407470  ...      -1.466508   \n3       1.308652 -0.684992 -0.295457  -1.395858  ...      -1.446469   \n4      -0.639831 -0.762968 -0.288626  -1.387176  ...      -1.517224   \n\n   DMGSRMRCHSACD  IPTOTSAKD    IMPCOV      NEER      REER  RETSALESSA  \\\n0      -1.734612  -1.962292 -0.116903 -0.682534 -0.874579    0.406478   \n1      -1.603232  -1.937374 -0.421366 -0.457849 -0.730151    0.432561   \n2      -1.690665  -1.831265 -0.112547 -0.553656 -0.882001    0.601025   \n3      -1.709756  -1.776203  0.113687 -0.607243 -0.954863   -0.507697   \n4      -1.806146  -1.716878  0.301746 -0.181691 -0.594848   -0.430295   \n\n    TOTRESV  UNEMPSA_      GEPU  \n0 -2.744138  1.333355 -1.032877  \n1 -2.735926  1.253469 -1.056117  \n2 -2.671689  1.228940 -1.108914  \n3 -2.556674  1.257918 -1.160644  \n4 -2.594208  1.132896 -0.563886  \n\n[5 rows x 21 columns]",
      "text/html": "<div>\n<style scoped>\n    .dataframe tbody tr th:only-of-type {\n        vertical-align: middle;\n    }\n\n    .dataframe tbody tr th {\n        vertical-align: top;\n    }\n\n    .dataframe thead th {\n        text-align: right;\n    }\n</style>\n<table border=\"1\" class=\"dataframe\">\n  <thead>\n    <tr style=\"text-align: right;\">\n      <th></th>\n      <th>Period</th>\n      <th>num_nodes</th>\n      <th>num_edges</th>\n      <th>density</th>\n      <th>clustering</th>\n      <th>assortativity</th>\n      <th>shortest_path</th>\n      <th>TPU</th>\n      <th>GPR</th>\n      <th>CPTOTSAXN</th>\n      <th>...</th>\n      <th>DXGSRMRCHSACD</th>\n      <th>DMGSRMRCHSACD</th>\n      <th>IPTOTSAKD</th>\n      <th>IMPCOV</th>\n      <th>NEER</th>\n      <th>REER</th>\n      <th>RETSALESSA</th>\n      <th>TOTRESV</th>\n      <th>UNEMPSA_</th>\n      <th>GEPU</th>\n    </tr>\n  </thead>\n  <tbody>\n    <tr>\n      <th>0</th>\n      <td>2010-01-01</td>\n      <td>-1.907728</td>\n      <td>-2.123956</td>\n      <td>-0.662045</td>\n      <td>-1.736416</td>\n      <td>0.897781</td>\n      <td>1.708130</td>\n      <td>-0.704058</td>\n      <td>-0.197764</td>\n      <td>-1.426643</td>\n      <td>...</td>\n      <td>-1.629180</td>\n      <td>-1.734612</td>\n      <td>-1.962292</td>\n      <td>-0.116903</td>\n      <td>-0.682534</td>\n      <td>-0.874579</td>\n      <td>0.406478</td>\n      <td>-2.744138</td>\n      <td>1.333355</td>\n      <td>-1.032877</td>\n    </tr>\n    <tr>\n      <th>1</th>\n      <td>2010-02-01</td>\n      <td>-0.812829</td>\n      <td>-2.025574</td>\n      <td>-1.541808</td>\n      <td>0.673488</td>\n      <td>-0.766521</td>\n      <td>0.961073</td>\n      <td>-0.811993</td>\n      <td>-0.573908</td>\n      <td>-1.417138</td>\n      <td>...</td>\n      <td>-1.564621</td>\n      <td>-1.603232</td>\n      <td>-1.937374</td>\n      <td>-0.421366</td>\n      <td>-0.457849</td>\n      <td>-0.730151</td>\n      <td>0.432561</td>\n      <td>-2.735926</td>\n      <td>1.253469</td>\n      <td>-1.056117</td>\n    </tr>\n    <tr>\n      <th>2</th>\n      <td>2010-03-01</td>\n      <td>-1.086554</td>\n      <td>-1.189334</td>\n      <td>-0.333355</td>\n      <td>1.536279</td>\n      <td>-0.633031</td>\n      <td>-0.242651</td>\n      <td>-0.626296</td>\n      <td>-0.802887</td>\n      <td>-1.407470</td>\n      <td>...</td>\n      <td>-1.466508</td>\n      <td>-1.690665</td>\n      <td>-1.831265</td>\n      <td>-0.112547</td>\n      <td>-0.553656</td>\n      <td>-0.882001</td>\n      <td>0.601025</td>\n      <td>-2.671689</td>\n      <td>1.228940</td>\n      <td>-1.108914</td>\n    </tr>\n    <tr>\n      <th>3</th>\n      <td>2010-04-01</td>\n      <td>-1.360279</td>\n      <td>-1.907517</td>\n      <td>-0.913957</td>\n      <td>-1.713061</td>\n      <td>-0.709437</td>\n      <td>1.308652</td>\n      <td>-0.684992</td>\n      <td>-0.295457</td>\n      <td>-1.395858</td>\n      <td>...</td>\n      <td>-1.446469</td>\n      <td>-1.709756</td>\n      <td>-1.776203</td>\n      <td>0.113687</td>\n      <td>-0.607243</td>\n      <td>-0.954863</td>\n      <td>-0.507697</td>\n      <td>-2.556674</td>\n      <td>1.257918</td>\n      <td>-1.160644</td>\n    </tr>\n    <tr>\n      <th>4</th>\n      <td>2010-05-01</td>\n      <td>-2.181453</td>\n      <td>-1.651725</td>\n      <td>0.169031</td>\n      <td>1.351597</td>\n      <td>-0.365774</td>\n      <td>-0.639831</td>\n      <td>-0.762968</td>\n      <td>-0.288626</td>\n      <td>-1.387176</td>\n      <td>...</td>\n      <td>-1.517224</td>\n      <td>-1.806146</td>\n      <td>-1.716878</td>\n      <td>0.301746</td>\n      <td>-0.181691</td>\n      <td>-0.594848</td>\n      <td>-0.430295</td>\n      <td>-2.594208</td>\n      <td>1.132896</td>\n      <td>-0.563886</td>\n    </tr>\n  </tbody>\n</table>\n<p>5 rows × 21 columns</p>\n</div>"
     },
     "execution_count": 1183,
     "metadata": {},
     "output_type": "execute_result"
    }
   ],
   "source": [
    "df.head()"
   ],
   "metadata": {
    "collapsed": false,
    "ExecuteTime": {
     "end_time": "2024-07-31T09:38:11.641958Z",
     "start_time": "2024-07-31T09:38:11.611603Z"
    }
   },
   "id": "c9bb09c7cda9caff"
  },
  {
   "cell_type": "code",
   "execution_count": 1183,
   "outputs": [],
   "source": [],
   "metadata": {
    "collapsed": false,
    "ExecuteTime": {
     "end_time": "2024-07-31T09:38:11.658368Z",
     "start_time": "2024-07-31T09:38:11.615470Z"
    }
   },
   "id": "fb6b6c6a7d03a01c"
  },
  {
   "cell_type": "markdown",
   "source": [
    "### Uncertainty measurement"
   ],
   "metadata": {
    "collapsed": false
   },
   "id": "2b11ddcbf958a00"
  },
  {
   "cell_type": "code",
   "execution_count": 1184,
   "outputs": [],
   "source": [
    "import pandas as pd\n",
    "\n",
    "# Get the actual names of the target columns\n",
    "target_columns = ['num_nodes', 'num_edges', 'density', 'clustering', 'assortativity', 'shortest_path']\n",
    "\n",
    "# Copy the original DataFrame to avoid modifying the original data\n",
    "lag1_df = df.copy()\n",
    "lag2_df = df.copy()\n",
    "lag4_df = df.copy()\n",
    "\n",
    "# Shift target columns by 1, 3, and 6 periods in respective lag DataFrames\n",
    "for column in target_columns:\n",
    "    lag1_df[f'{column}'] = lag1_df[column].shift(1)\n",
    "    lag2_df[f'{column}'] = lag2_df[column].shift(2)\n",
    "    lag4_df[f'{column}'] = lag4_df[column].shift(4)\n",
    "\n",
    "# Shift the Period column\n",
    "lag1_df['Period'] = lag1_df['Period'] - pd.DateOffset(months=1)\n",
    "lag2_df['Period'] = lag2_df['Period'] - pd.DateOffset(months=2)\n",
    "lag4_df['Period'] = lag4_df['Period'] - pd.DateOffset(months=4)\n",
    "\n",
    "# Drop rows with NaN values in lag DataFrames\n",
    "lag1_df = lag1_df.dropna()\n",
    "lag2_df = lag2_df.dropna()\n",
    "lag4_df = lag4_df.dropna()\n"
   ],
   "metadata": {
    "collapsed": false,
    "ExecuteTime": {
     "end_time": "2024-07-31T09:38:11.661045Z",
     "start_time": "2024-07-31T09:38:11.628624Z"
    }
   },
   "id": "31e8a3a723a90c26"
  },
  {
   "cell_type": "code",
   "execution_count": 1185,
   "outputs": [
    {
     "data": {
      "text/plain": "        Period  num_nodes  num_edges   density  clustering  assortativity  \\\n4   2010-01-01  -1.907728  -2.123956 -0.662045   -1.736416       0.897781   \n5   2010-02-01  -0.812829  -2.025574 -1.541808    0.673488      -0.766521   \n6   2010-03-01  -1.086554  -1.189334 -0.333355    1.536279      -0.633031   \n7   2010-04-01  -1.360279  -1.907517 -0.913957   -1.713061      -0.709437   \n8   2010-05-01  -2.181453  -1.651725  0.169031    1.351597      -0.365774   \n..         ...        ...        ...       ...         ...            ...   \n159 2022-12-01   0.829520   0.729101  0.021541   -0.029548      -1.750429   \n160 2023-01-01  -1.907728   0.050270  1.939393    1.503772      -1.010981   \n161 2023-02-01   1.103245   0.532339 -0.433821   -0.656225      -1.214926   \n162 2023-03-01   1.376969   1.653885  0.493051    0.416650      -1.039449   \n163 2023-04-01   0.282070   0.158490 -0.091462    0.440093      -1.267160   \n\n     shortest_path       TPU       GPR  CPTOTSAXN  ...  DXGSRMRCHSACD  \\\n4         1.708130 -0.762968 -0.288626  -1.387176  ...      -1.517224   \n5         0.961073 -0.648748 -0.028929  -1.380546  ...      -1.397324   \n6        -0.242651 -0.623662 -0.620476  -1.366895  ...      -1.357918   \n7         1.308652 -0.602719 -0.564604  -1.351865  ...      -1.291262   \n8        -0.639831 -0.570088 -0.905047  -1.332043  ...      -1.185856   \n..             ...       ...       ...        ...  ...            ...   \n159      -1.148261 -0.524230  0.330380   2.442303  ...       1.705781   \n160      -3.040825 -0.031503  0.387578   2.490868  ...       1.822582   \n161       0.114799 -0.171607  0.460178   2.552205  ...       1.650456   \n162      -1.301886  0.038107  0.345565   2.668025  ...       1.603611   \n163      -1.014949 -0.025574  0.137322   2.792426  ...       1.763981   \n\n     DMGSRMRCHSACD  IPTOTSAKD    IMPCOV      NEER      REER  RETSALESSA  \\\n4        -1.806146  -1.716878  0.301746 -0.181691 -0.594848   -0.430295   \n5        -1.677439  -1.719766  0.033732  0.019529 -0.420047   -0.334323   \n6        -1.592783  -1.692744  0.124748 -0.196988 -0.571097   -0.017825   \n7        -1.576119  -1.656546  0.121644 -0.302384 -0.643085   -0.026127   \n8        -1.482322  -1.615194  0.300772 -0.461550 -0.782745    0.111750   \n..             ...        ...       ...       ...       ...         ...   \n159       1.652313   1.521959 -1.463461  1.289483  1.267040    0.373407   \n160       1.772558   1.624408 -1.700074  1.461327  1.481361    0.440829   \n161       1.744182   1.667872 -1.629963  1.466470  1.426521    0.424683   \n162       1.494509   1.644231 -1.254175  1.183770  1.061321    0.392201   \n163       1.796487   1.712521 -1.724311  1.473953  1.256395    0.411998   \n\n      TOTRESV  UNEMPSA_      GEPU  \n4   -2.594208  1.132896 -0.563886  \n5   -2.556138  1.037405 -0.741009  \n6   -2.360319  1.002800 -0.632830  \n7   -2.335409  0.961246 -0.921952  \n8   -2.063058  0.954884 -0.761340  \n..        ...       ...       ...  \n159  1.135055 -2.074834  0.609680  \n160  1.037951 -2.085408  0.563506  \n161  1.077523 -2.190726  0.582547  \n162  1.140946 -2.121485  0.535618  \n163  1.043394 -2.109281  0.325250  \n\n[160 rows x 21 columns]",
      "text/html": "<div>\n<style scoped>\n    .dataframe tbody tr th:only-of-type {\n        vertical-align: middle;\n    }\n\n    .dataframe tbody tr th {\n        vertical-align: top;\n    }\n\n    .dataframe thead th {\n        text-align: right;\n    }\n</style>\n<table border=\"1\" class=\"dataframe\">\n  <thead>\n    <tr style=\"text-align: right;\">\n      <th></th>\n      <th>Period</th>\n      <th>num_nodes</th>\n      <th>num_edges</th>\n      <th>density</th>\n      <th>clustering</th>\n      <th>assortativity</th>\n      <th>shortest_path</th>\n      <th>TPU</th>\n      <th>GPR</th>\n      <th>CPTOTSAXN</th>\n      <th>...</th>\n      <th>DXGSRMRCHSACD</th>\n      <th>DMGSRMRCHSACD</th>\n      <th>IPTOTSAKD</th>\n      <th>IMPCOV</th>\n      <th>NEER</th>\n      <th>REER</th>\n      <th>RETSALESSA</th>\n      <th>TOTRESV</th>\n      <th>UNEMPSA_</th>\n      <th>GEPU</th>\n    </tr>\n  </thead>\n  <tbody>\n    <tr>\n      <th>4</th>\n      <td>2010-01-01</td>\n      <td>-1.907728</td>\n      <td>-2.123956</td>\n      <td>-0.662045</td>\n      <td>-1.736416</td>\n      <td>0.897781</td>\n      <td>1.708130</td>\n      <td>-0.762968</td>\n      <td>-0.288626</td>\n      <td>-1.387176</td>\n      <td>...</td>\n      <td>-1.517224</td>\n      <td>-1.806146</td>\n      <td>-1.716878</td>\n      <td>0.301746</td>\n      <td>-0.181691</td>\n      <td>-0.594848</td>\n      <td>-0.430295</td>\n      <td>-2.594208</td>\n      <td>1.132896</td>\n      <td>-0.563886</td>\n    </tr>\n    <tr>\n      <th>5</th>\n      <td>2010-02-01</td>\n      <td>-0.812829</td>\n      <td>-2.025574</td>\n      <td>-1.541808</td>\n      <td>0.673488</td>\n      <td>-0.766521</td>\n      <td>0.961073</td>\n      <td>-0.648748</td>\n      <td>-0.028929</td>\n      <td>-1.380546</td>\n      <td>...</td>\n      <td>-1.397324</td>\n      <td>-1.677439</td>\n      <td>-1.719766</td>\n      <td>0.033732</td>\n      <td>0.019529</td>\n      <td>-0.420047</td>\n      <td>-0.334323</td>\n      <td>-2.556138</td>\n      <td>1.037405</td>\n      <td>-0.741009</td>\n    </tr>\n    <tr>\n      <th>6</th>\n      <td>2010-03-01</td>\n      <td>-1.086554</td>\n      <td>-1.189334</td>\n      <td>-0.333355</td>\n      <td>1.536279</td>\n      <td>-0.633031</td>\n      <td>-0.242651</td>\n      <td>-0.623662</td>\n      <td>-0.620476</td>\n      <td>-1.366895</td>\n      <td>...</td>\n      <td>-1.357918</td>\n      <td>-1.592783</td>\n      <td>-1.692744</td>\n      <td>0.124748</td>\n      <td>-0.196988</td>\n      <td>-0.571097</td>\n      <td>-0.017825</td>\n      <td>-2.360319</td>\n      <td>1.002800</td>\n      <td>-0.632830</td>\n    </tr>\n    <tr>\n      <th>7</th>\n      <td>2010-04-01</td>\n      <td>-1.360279</td>\n      <td>-1.907517</td>\n      <td>-0.913957</td>\n      <td>-1.713061</td>\n      <td>-0.709437</td>\n      <td>1.308652</td>\n      <td>-0.602719</td>\n      <td>-0.564604</td>\n      <td>-1.351865</td>\n      <td>...</td>\n      <td>-1.291262</td>\n      <td>-1.576119</td>\n      <td>-1.656546</td>\n      <td>0.121644</td>\n      <td>-0.302384</td>\n      <td>-0.643085</td>\n      <td>-0.026127</td>\n      <td>-2.335409</td>\n      <td>0.961246</td>\n      <td>-0.921952</td>\n    </tr>\n    <tr>\n      <th>8</th>\n      <td>2010-05-01</td>\n      <td>-2.181453</td>\n      <td>-1.651725</td>\n      <td>0.169031</td>\n      <td>1.351597</td>\n      <td>-0.365774</td>\n      <td>-0.639831</td>\n      <td>-0.570088</td>\n      <td>-0.905047</td>\n      <td>-1.332043</td>\n      <td>...</td>\n      <td>-1.185856</td>\n      <td>-1.482322</td>\n      <td>-1.615194</td>\n      <td>0.300772</td>\n      <td>-0.461550</td>\n      <td>-0.782745</td>\n      <td>0.111750</td>\n      <td>-2.063058</td>\n      <td>0.954884</td>\n      <td>-0.761340</td>\n    </tr>\n    <tr>\n      <th>...</th>\n      <td>...</td>\n      <td>...</td>\n      <td>...</td>\n      <td>...</td>\n      <td>...</td>\n      <td>...</td>\n      <td>...</td>\n      <td>...</td>\n      <td>...</td>\n      <td>...</td>\n      <td>...</td>\n      <td>...</td>\n      <td>...</td>\n      <td>...</td>\n      <td>...</td>\n      <td>...</td>\n      <td>...</td>\n      <td>...</td>\n      <td>...</td>\n      <td>...</td>\n      <td>...</td>\n    </tr>\n    <tr>\n      <th>159</th>\n      <td>2022-12-01</td>\n      <td>0.829520</td>\n      <td>0.729101</td>\n      <td>0.021541</td>\n      <td>-0.029548</td>\n      <td>-1.750429</td>\n      <td>-1.148261</td>\n      <td>-0.524230</td>\n      <td>0.330380</td>\n      <td>2.442303</td>\n      <td>...</td>\n      <td>1.705781</td>\n      <td>1.652313</td>\n      <td>1.521959</td>\n      <td>-1.463461</td>\n      <td>1.289483</td>\n      <td>1.267040</td>\n      <td>0.373407</td>\n      <td>1.135055</td>\n      <td>-2.074834</td>\n      <td>0.609680</td>\n    </tr>\n    <tr>\n      <th>160</th>\n      <td>2023-01-01</td>\n      <td>-1.907728</td>\n      <td>0.050270</td>\n      <td>1.939393</td>\n      <td>1.503772</td>\n      <td>-1.010981</td>\n      <td>-3.040825</td>\n      <td>-0.031503</td>\n      <td>0.387578</td>\n      <td>2.490868</td>\n      <td>...</td>\n      <td>1.822582</td>\n      <td>1.772558</td>\n      <td>1.624408</td>\n      <td>-1.700074</td>\n      <td>1.461327</td>\n      <td>1.481361</td>\n      <td>0.440829</td>\n      <td>1.037951</td>\n      <td>-2.085408</td>\n      <td>0.563506</td>\n    </tr>\n    <tr>\n      <th>161</th>\n      <td>2023-02-01</td>\n      <td>1.103245</td>\n      <td>0.532339</td>\n      <td>-0.433821</td>\n      <td>-0.656225</td>\n      <td>-1.214926</td>\n      <td>0.114799</td>\n      <td>-0.171607</td>\n      <td>0.460178</td>\n      <td>2.552205</td>\n      <td>...</td>\n      <td>1.650456</td>\n      <td>1.744182</td>\n      <td>1.667872</td>\n      <td>-1.629963</td>\n      <td>1.466470</td>\n      <td>1.426521</td>\n      <td>0.424683</td>\n      <td>1.077523</td>\n      <td>-2.190726</td>\n      <td>0.582547</td>\n    </tr>\n    <tr>\n      <th>162</th>\n      <td>2023-03-01</td>\n      <td>1.376969</td>\n      <td>1.653885</td>\n      <td>0.493051</td>\n      <td>0.416650</td>\n      <td>-1.039449</td>\n      <td>-1.301886</td>\n      <td>0.038107</td>\n      <td>0.345565</td>\n      <td>2.668025</td>\n      <td>...</td>\n      <td>1.603611</td>\n      <td>1.494509</td>\n      <td>1.644231</td>\n      <td>-1.254175</td>\n      <td>1.183770</td>\n      <td>1.061321</td>\n      <td>0.392201</td>\n      <td>1.140946</td>\n      <td>-2.121485</td>\n      <td>0.535618</td>\n    </tr>\n    <tr>\n      <th>163</th>\n      <td>2023-04-01</td>\n      <td>0.282070</td>\n      <td>0.158490</td>\n      <td>-0.091462</td>\n      <td>0.440093</td>\n      <td>-1.267160</td>\n      <td>-1.014949</td>\n      <td>-0.025574</td>\n      <td>0.137322</td>\n      <td>2.792426</td>\n      <td>...</td>\n      <td>1.763981</td>\n      <td>1.796487</td>\n      <td>1.712521</td>\n      <td>-1.724311</td>\n      <td>1.473953</td>\n      <td>1.256395</td>\n      <td>0.411998</td>\n      <td>1.043394</td>\n      <td>-2.109281</td>\n      <td>0.325250</td>\n    </tr>\n  </tbody>\n</table>\n<p>160 rows × 21 columns</p>\n</div>"
     },
     "execution_count": 1185,
     "metadata": {},
     "output_type": "execute_result"
    }
   ],
   "source": [
    "lag4_df"
   ],
   "metadata": {
    "collapsed": false,
    "ExecuteTime": {
     "end_time": "2024-07-31T09:38:11.741615Z",
     "start_time": "2024-07-31T09:38:11.656930Z"
    }
   },
   "id": "e2a8b5a432c99a1c"
  },
  {
   "cell_type": "code",
   "execution_count": 1186,
   "outputs": [],
   "source": [
    "# ['TPU', 'GPR', 'CORESA', 'CPTOTSAXN', 'DPANUSSPB', 'DXGSRMRCHSACD','DMGSRMRCHSACD', 'IPTOTSAKD', 'IMPCOV', 'NEER', 'REER', 'RETSALESSA', 'TOTRESV', 'UNEMPSA_', 'GEPU']\n",
    "#features = df.columns[[7,8,9,10,11,14,15,16,17,18,20,21]]\n",
    "#features"
   ],
   "metadata": {
    "collapsed": false,
    "ExecuteTime": {
     "end_time": "2024-07-31T09:38:11.743181Z",
     "start_time": "2024-07-31T09:38:11.673724Z"
    }
   },
   "id": "2f56948f9d2db727"
  },
  {
   "cell_type": "code",
   "execution_count": 1187,
   "outputs": [],
   "source": [
    "# Function\n",
    "def perform_random_search_cv(X_train, y_train, random_state=42):\n",
    "    param_dist = {\n",
    "        'n_estimators': randint(10, 100),\n",
    "        'max_depth': [None] + list(np.arange(3, 20)),\n",
    "        'min_samples_split': [2, 5, 10],\n",
    "        'min_samples_leaf': [1, 2, 4],\n",
    "        'bootstrap': [True, False]\n",
    "    }\n",
    "\n",
    "    # Ensure the RandomForestRegressor has a random_state set for reproducibility\n",
    "    rf_model = RandomForestRegressor(random_state=random_state)\n",
    "    tscv = TimeSeriesSplit(n_splits=5)\n",
    "    \n",
    "    # Set the random_state in RandomizedSearchCV for reproducibility\n",
    "    random_search = RandomizedSearchCV(\n",
    "        rf_model, param_distributions=param_dist, n_iter=10, cv=tscv, scoring='neg_mean_squared_error', random_state=random_state\n",
    "    )\n",
    "    random_search.fit(X_train, y_train)\n",
    "\n",
    "    print(\"Best Parameters:\", random_search.best_params_)\n",
    "    return random_search.best_estimator_\n",
    "\n",
    "def calculate_mse_per_period(df, target_column):\n",
    "    features = df.columns[7:]  # Exclude 'period' and targets columns\n",
    "    target = target_column\n",
    "\n",
    "    # Split the dataset into train and test sets based on time\n",
    "    train_size = int(len(df) * 0.8)\n",
    "    train_set, test_set = df[:train_size], df[train_size:]\n",
    "\n",
    "    # Perform cross-validation and random search for hyperparameter tuning on the training set\n",
    "    best_model = perform_random_search_cv(train_set[features], train_set[target])\n",
    "\n",
    "    # Evaluate the best model on the test set\n",
    "    test_predictions = best_model.predict(test_set[features])\n",
    "    overall_test_mse = mean_squared_error(test_set[target], test_predictions)\n",
    "    print(f'Overall Test Set Mean Squared Error for {target_column}: {overall_test_mse}')\n",
    "\n",
    "    # Use the best model to predict on the entire dataset\n",
    "    full_dataset_predictions = best_model.predict(df[features])\n",
    "\n",
    "    # Add the predicted values to the DataFrame\n",
    "    df[f'predicted_{target_column}'] = full_dataset_predictions\n",
    "\n",
    "    # Calculate MSE for each period\n",
    "    mse_per_period = df.groupby('Period').apply(lambda group: mean_squared_error(group[target], group[f'predicted_{target_column}'])).reset_index()\n",
    "    mse_per_period.columns = ['Period', f'mse_{df}']\n",
    "    return mse_per_period"
   ],
   "metadata": {
    "collapsed": false,
    "ExecuteTime": {
     "end_time": "2024-07-31T09:38:11.836923Z",
     "start_time": "2024-07-31T09:38:11.689951Z"
    }
   },
   "id": "bca717c46d5b0495"
  },
  {
   "cell_type": "code",
   "execution_count": 1188,
   "outputs": [
    {
     "name": "stdout",
     "output_type": "stream",
     "text": [
      "Best Parameters: {'bootstrap': True, 'max_depth': 11, 'min_samples_leaf': 4, 'min_samples_split': 5, 'n_estimators': 71}\n",
      "Overall Test Set Mean Squared Error for num_nodes: 0.8426922007367628\n",
      "Best Parameters: {'bootstrap': True, 'max_depth': 9, 'min_samples_leaf': 4, 'min_samples_split': 10, 'n_estimators': 87}\n",
      "Overall Test Set Mean Squared Error for num_nodes: 0.8980024066741636\n",
      "Best Parameters: {'bootstrap': True, 'max_depth': 11, 'min_samples_leaf': 4, 'min_samples_split': 5, 'n_estimators': 71}\n",
      "Overall Test Set Mean Squared Error for num_nodes: 0.9808384839560398\n",
      "Best Parameters: {'bootstrap': True, 'max_depth': 8, 'min_samples_leaf': 1, 'min_samples_split': 2, 'n_estimators': 48}\n",
      "Overall Test Set Mean Squared Error for num_edges: 0.29617819742211715\n",
      "Best Parameters: {'bootstrap': True, 'max_depth': 8, 'min_samples_leaf': 1, 'min_samples_split': 2, 'n_estimators': 48}\n",
      "Overall Test Set Mean Squared Error for num_edges: 0.3743487726108578\n",
      "Best Parameters: {'bootstrap': False, 'max_depth': 3, 'min_samples_leaf': 4, 'min_samples_split': 10, 'n_estimators': 53}\n",
      "Overall Test Set Mean Squared Error for num_edges: 0.9964212496125104\n",
      "Best Parameters: {'bootstrap': True, 'max_depth': 8, 'min_samples_leaf': 1, 'min_samples_split': 2, 'n_estimators': 48}\n",
      "Overall Test Set Mean Squared Error for density: 0.561342065505956\n",
      "Best Parameters: {'bootstrap': True, 'max_depth': 8, 'min_samples_leaf': 1, 'min_samples_split': 2, 'n_estimators': 48}\n",
      "Overall Test Set Mean Squared Error for density: 0.6771794649981517\n",
      "Best Parameters: {'bootstrap': True, 'max_depth': 13, 'min_samples_leaf': 4, 'min_samples_split': 2, 'n_estimators': 12}\n",
      "Overall Test Set Mean Squared Error for density: 0.6180021243641531\n",
      "Best Parameters: {'bootstrap': True, 'max_depth': 11, 'min_samples_leaf': 4, 'min_samples_split': 5, 'n_estimators': 71}\n",
      "Overall Test Set Mean Squared Error for clustering: 1.0006185535727337\n",
      "Best Parameters: {'bootstrap': True, 'max_depth': 16, 'min_samples_leaf': 4, 'min_samples_split': 2, 'n_estimators': 30}\n",
      "Overall Test Set Mean Squared Error for clustering: 1.1361731088984202\n",
      "Best Parameters: {'bootstrap': True, 'max_depth': 9, 'min_samples_leaf': 4, 'min_samples_split': 10, 'n_estimators': 87}\n",
      "Overall Test Set Mean Squared Error for clustering: 1.0608871076541122\n",
      "Best Parameters: {'bootstrap': True, 'max_depth': 13, 'min_samples_leaf': 4, 'min_samples_split': 2, 'n_estimators': 12}\n",
      "Overall Test Set Mean Squared Error for assortativity: 2.0729686753168326\n",
      "Best Parameters: {'bootstrap': True, 'max_depth': 9, 'min_samples_leaf': 4, 'min_samples_split': 10, 'n_estimators': 87}\n",
      "Overall Test Set Mean Squared Error for assortativity: 3.283204094462114\n",
      "Best Parameters: {'bootstrap': True, 'max_depth': 16, 'min_samples_leaf': 4, 'min_samples_split': 2, 'n_estimators': 30}\n",
      "Overall Test Set Mean Squared Error for assortativity: 1.5920797238846442\n",
      "Best Parameters: {'bootstrap': True, 'max_depth': 9, 'min_samples_leaf': 4, 'min_samples_split': 10, 'n_estimators': 87}\n",
      "Overall Test Set Mean Squared Error for shortest_path: 1.0671750352114096\n",
      "Best Parameters: {'bootstrap': True, 'max_depth': 11, 'min_samples_leaf': 4, 'min_samples_split': 5, 'n_estimators': 71}\n",
      "Overall Test Set Mean Squared Error for shortest_path: 1.6595591945258357\n",
      "Best Parameters: {'bootstrap': True, 'max_depth': 11, 'min_samples_leaf': 4, 'min_samples_split': 5, 'n_estimators': 71}\n",
      "Overall Test Set Mean Squared Error for shortest_path: 1.7201801439553797\n"
     ]
    }
   ],
   "source": [
    "# List of columns to iterate through\n",
    "columns_to_calculate_mse = ['num_nodes', 'num_edges', 'density', 'clustering', 'assortativity', 'shortest_path']\n",
    "\n",
    "# Dictionary to store the calculated MSE DataFrames for each column\n",
    "mse_per_column_dict = {}\n",
    "\n",
    "# Assuming lag1_df, lag3_df, lag6_df are your lag DataFrames\n",
    "for column in columns_to_calculate_mse:\n",
    "    lag1_mse = calculate_mse_per_period(lag1_df, target_column=column)\n",
    "    lag2_mse = calculate_mse_per_period(lag2_df, target_column=column)\n",
    "    lag4_mse = calculate_mse_per_period(lag4_df, target_column=column)\n",
    "\n",
    "    # Merge the MSE DataFrames on the 'period' column\n",
    "    merged_mse_df = lag1_mse.merge(lag2_mse, on='Period').merge(lag4_mse, on='Period')\n",
    "\n",
    "    # Rename the columns to include the column name and lag\n",
    "    merged_mse_df.columns = ['Period', f'mse_lag1_{column}', f'mse_lag2_{column}', f'mse_lag4_{column}']\n",
    "\n",
    "    # Store the MSE DataFrame for the current column in the dictionary\n",
    "    mse_per_column_dict[column] = merged_mse_df\n",
    "\n",
    "# Create separate DataFrames for each lag\n",
    "lag1_mse = pd.concat([mse_df[f'mse_lag1_{column}'] for column, mse_df in mse_per_column_dict.items()], axis=1)\n",
    "lag2_mse = pd.concat([mse_df[f'mse_lag2_{column}'] for column, mse_df in mse_per_column_dict.items()], axis=1)\n",
    "lag4_mse = pd.concat([mse_df[f'mse_lag4_{column}'] for column, mse_df in mse_per_column_dict.items()], axis=1)\n",
    "\n",
    "# Include the 'period' column in the resulting DataFrames\n",
    "lag1_mse.insert(0, 'Period', mse_per_column_dict[columns_to_calculate_mse[0]]['Period'])\n",
    "lag2_mse.insert(0, 'Period', mse_per_column_dict[columns_to_calculate_mse[0]]['Period'])\n",
    "lag4_mse.insert(0, 'Period', mse_per_column_dict[columns_to_calculate_mse[0]]['Period'])"
   ],
   "metadata": {
    "collapsed": false,
    "ExecuteTime": {
     "end_time": "2024-07-31T09:38:35.452787Z",
     "start_time": "2024-07-31T09:38:11.732376Z"
    }
   },
   "id": "7ef9ce9eb1f4ec49"
  },
  {
   "cell_type": "code",
   "execution_count": 1189,
   "outputs": [
    {
     "data": {
      "text/plain": "      Period  mse_lag1_num_nodes  mse_lag1_num_edges  mse_lag1_density  \\\n0 2010-01-01            0.727651            0.009343          0.023102   \n1 2010-02-01            0.062619            0.006866          0.096702   \n2 2010-03-01            0.000833            0.073470          0.076178   \n3 2010-04-01            0.048719            0.000022          0.002782   \n4 2010-05-01            0.678025            0.000764          0.251749   \n\n   mse_lag1_clustering  mse_lag1_assortativity  mse_lag1_shortest_path  \n0             1.355422                1.333437                0.159844  \n1             0.527170                0.016641                0.213016  \n2             1.329008                0.020227                0.024917  \n3             0.888309                0.063508                0.014446  \n4             0.981629                0.006163                0.235331  ",
      "text/html": "<div>\n<style scoped>\n    .dataframe tbody tr th:only-of-type {\n        vertical-align: middle;\n    }\n\n    .dataframe tbody tr th {\n        vertical-align: top;\n    }\n\n    .dataframe thead th {\n        text-align: right;\n    }\n</style>\n<table border=\"1\" class=\"dataframe\">\n  <thead>\n    <tr style=\"text-align: right;\">\n      <th></th>\n      <th>Period</th>\n      <th>mse_lag1_num_nodes</th>\n      <th>mse_lag1_num_edges</th>\n      <th>mse_lag1_density</th>\n      <th>mse_lag1_clustering</th>\n      <th>mse_lag1_assortativity</th>\n      <th>mse_lag1_shortest_path</th>\n    </tr>\n  </thead>\n  <tbody>\n    <tr>\n      <th>0</th>\n      <td>2010-01-01</td>\n      <td>0.727651</td>\n      <td>0.009343</td>\n      <td>0.023102</td>\n      <td>1.355422</td>\n      <td>1.333437</td>\n      <td>0.159844</td>\n    </tr>\n    <tr>\n      <th>1</th>\n      <td>2010-02-01</td>\n      <td>0.062619</td>\n      <td>0.006866</td>\n      <td>0.096702</td>\n      <td>0.527170</td>\n      <td>0.016641</td>\n      <td>0.213016</td>\n    </tr>\n    <tr>\n      <th>2</th>\n      <td>2010-03-01</td>\n      <td>0.000833</td>\n      <td>0.073470</td>\n      <td>0.076178</td>\n      <td>1.329008</td>\n      <td>0.020227</td>\n      <td>0.024917</td>\n    </tr>\n    <tr>\n      <th>3</th>\n      <td>2010-04-01</td>\n      <td>0.048719</td>\n      <td>0.000022</td>\n      <td>0.002782</td>\n      <td>0.888309</td>\n      <td>0.063508</td>\n      <td>0.014446</td>\n    </tr>\n    <tr>\n      <th>4</th>\n      <td>2010-05-01</td>\n      <td>0.678025</td>\n      <td>0.000764</td>\n      <td>0.251749</td>\n      <td>0.981629</td>\n      <td>0.006163</td>\n      <td>0.235331</td>\n    </tr>\n  </tbody>\n</table>\n</div>"
     },
     "execution_count": 1189,
     "metadata": {},
     "output_type": "execute_result"
    }
   ],
   "source": [
    "lag1_mse.head()"
   ],
   "metadata": {
    "collapsed": false,
    "ExecuteTime": {
     "end_time": "2024-07-31T09:38:35.455515Z",
     "start_time": "2024-07-31T09:38:35.453296Z"
    }
   },
   "id": "10d8df1ddb4d0871"
  },
  {
   "cell_type": "code",
   "execution_count": 1190,
   "outputs": [
    {
     "data": {
      "text/plain": "      Period  mse_lag2_num_nodes  mse_lag2_num_edges  mse_lag2_density  \\\n0 2010-01-01            0.456286            0.009050          0.016853   \n1 2010-02-01            0.105339            0.002102          0.117260   \n2 2010-03-01            0.024441            0.065849          0.052064   \n3 2010-04-01            0.013444            0.003492          0.001562   \n4 2010-05-01            0.733685            0.000738          0.173435   \n\n   mse_lag2_clustering  mse_lag2_assortativity  mse_lag2_shortest_path  \n0             0.970437                0.958396            3.418722e-02  \n1             0.771959                0.082278            3.765487e-02  \n2             0.247207                0.009603            2.333149e-03  \n3             0.320805                0.021130            4.455271e-07  \n4             1.462911                0.088436            1.448569e-01  ",
      "text/html": "<div>\n<style scoped>\n    .dataframe tbody tr th:only-of-type {\n        vertical-align: middle;\n    }\n\n    .dataframe tbody tr th {\n        vertical-align: top;\n    }\n\n    .dataframe thead th {\n        text-align: right;\n    }\n</style>\n<table border=\"1\" class=\"dataframe\">\n  <thead>\n    <tr style=\"text-align: right;\">\n      <th></th>\n      <th>Period</th>\n      <th>mse_lag2_num_nodes</th>\n      <th>mse_lag2_num_edges</th>\n      <th>mse_lag2_density</th>\n      <th>mse_lag2_clustering</th>\n      <th>mse_lag2_assortativity</th>\n      <th>mse_lag2_shortest_path</th>\n    </tr>\n  </thead>\n  <tbody>\n    <tr>\n      <th>0</th>\n      <td>2010-01-01</td>\n      <td>0.456286</td>\n      <td>0.009050</td>\n      <td>0.016853</td>\n      <td>0.970437</td>\n      <td>0.958396</td>\n      <td>3.418722e-02</td>\n    </tr>\n    <tr>\n      <th>1</th>\n      <td>2010-02-01</td>\n      <td>0.105339</td>\n      <td>0.002102</td>\n      <td>0.117260</td>\n      <td>0.771959</td>\n      <td>0.082278</td>\n      <td>3.765487e-02</td>\n    </tr>\n    <tr>\n      <th>2</th>\n      <td>2010-03-01</td>\n      <td>0.024441</td>\n      <td>0.065849</td>\n      <td>0.052064</td>\n      <td>0.247207</td>\n      <td>0.009603</td>\n      <td>2.333149e-03</td>\n    </tr>\n    <tr>\n      <th>3</th>\n      <td>2010-04-01</td>\n      <td>0.013444</td>\n      <td>0.003492</td>\n      <td>0.001562</td>\n      <td>0.320805</td>\n      <td>0.021130</td>\n      <td>4.455271e-07</td>\n    </tr>\n    <tr>\n      <th>4</th>\n      <td>2010-05-01</td>\n      <td>0.733685</td>\n      <td>0.000738</td>\n      <td>0.173435</td>\n      <td>1.462911</td>\n      <td>0.088436</td>\n      <td>1.448569e-01</td>\n    </tr>\n  </tbody>\n</table>\n</div>"
     },
     "execution_count": 1190,
     "metadata": {},
     "output_type": "execute_result"
    }
   ],
   "source": [
    "lag2_mse.head()"
   ],
   "metadata": {
    "collapsed": false,
    "ExecuteTime": {
     "end_time": "2024-07-31T09:38:35.462131Z",
     "start_time": "2024-07-31T09:38:35.459705Z"
    }
   },
   "id": "5baf7d7c760a3148"
  },
  {
   "cell_type": "code",
   "execution_count": 1191,
   "outputs": [
    {
     "data": {
      "text/plain": "      Period  mse_lag4_num_nodes  mse_lag4_num_edges  mse_lag4_density  \\\n0 2010-01-01            0.364378            0.070559          0.076528   \n1 2010-02-01            0.061879            0.027972          0.176561   \n2 2010-03-01            0.031213            0.147216          0.012159   \n3 2010-04-01            0.001851            0.111888          0.002624   \n4 2010-05-01            0.786471            0.006194          0.439055   \n\n   mse_lag4_clustering  mse_lag4_assortativity  mse_lag4_shortest_path  \n0             2.461625                0.769673                0.189544  \n1             0.106093                0.001796                0.444839  \n2             0.710420                0.015285                0.014381  \n3             2.642221                0.052440                0.047537  \n4             0.746938                0.016113                0.207558  ",
      "text/html": "<div>\n<style scoped>\n    .dataframe tbody tr th:only-of-type {\n        vertical-align: middle;\n    }\n\n    .dataframe tbody tr th {\n        vertical-align: top;\n    }\n\n    .dataframe thead th {\n        text-align: right;\n    }\n</style>\n<table border=\"1\" class=\"dataframe\">\n  <thead>\n    <tr style=\"text-align: right;\">\n      <th></th>\n      <th>Period</th>\n      <th>mse_lag4_num_nodes</th>\n      <th>mse_lag4_num_edges</th>\n      <th>mse_lag4_density</th>\n      <th>mse_lag4_clustering</th>\n      <th>mse_lag4_assortativity</th>\n      <th>mse_lag4_shortest_path</th>\n    </tr>\n  </thead>\n  <tbody>\n    <tr>\n      <th>0</th>\n      <td>2010-01-01</td>\n      <td>0.364378</td>\n      <td>0.070559</td>\n      <td>0.076528</td>\n      <td>2.461625</td>\n      <td>0.769673</td>\n      <td>0.189544</td>\n    </tr>\n    <tr>\n      <th>1</th>\n      <td>2010-02-01</td>\n      <td>0.061879</td>\n      <td>0.027972</td>\n      <td>0.176561</td>\n      <td>0.106093</td>\n      <td>0.001796</td>\n      <td>0.444839</td>\n    </tr>\n    <tr>\n      <th>2</th>\n      <td>2010-03-01</td>\n      <td>0.031213</td>\n      <td>0.147216</td>\n      <td>0.012159</td>\n      <td>0.710420</td>\n      <td>0.015285</td>\n      <td>0.014381</td>\n    </tr>\n    <tr>\n      <th>3</th>\n      <td>2010-04-01</td>\n      <td>0.001851</td>\n      <td>0.111888</td>\n      <td>0.002624</td>\n      <td>2.642221</td>\n      <td>0.052440</td>\n      <td>0.047537</td>\n    </tr>\n    <tr>\n      <th>4</th>\n      <td>2010-05-01</td>\n      <td>0.786471</td>\n      <td>0.006194</td>\n      <td>0.439055</td>\n      <td>0.746938</td>\n      <td>0.016113</td>\n      <td>0.207558</td>\n    </tr>\n  </tbody>\n</table>\n</div>"
     },
     "execution_count": 1191,
     "metadata": {},
     "output_type": "execute_result"
    }
   ],
   "source": [
    "lag4_mse.head()"
   ],
   "metadata": {
    "collapsed": false,
    "ExecuteTime": {
     "end_time": "2024-07-31T09:38:35.482826Z",
     "start_time": "2024-07-31T09:38:35.465348Z"
    }
   },
   "id": "285c728dd6148832"
  },
  {
   "cell_type": "code",
   "execution_count": 1192,
   "outputs": [],
   "source": [
    "\n",
    "def calculate_uncertainty_metrics(mse_df):\n",
    "    # Calculate 'uncertainty' as the average of the columns (excluding 'Period')\n",
    "    mse_df['uncertainty'] = mse_df.iloc[:, 1:].mean(axis=1)\n",
    "    \n",
    "    # Keep only the 'Period' and 'uncertainty' columns\n",
    "    uncertainties = mse_df[['Period', 'uncertainty']]\n",
    "    \n",
    "    return uncertainties\n"
   ],
   "metadata": {
    "collapsed": false,
    "ExecuteTime": {
     "end_time": "2024-07-31T09:38:35.483300Z",
     "start_time": "2024-07-31T09:38:35.469324Z"
    }
   },
   "id": "acd946e4b6cca7db"
  },
  {
   "cell_type": "code",
   "execution_count": 1193,
   "outputs": [],
   "source": [
    "\n",
    "# Calculate 'avg_uncertainty' and 'weighted_uncertainty' for each row in mse_df\n",
    "uncertainties_1 = calculate_uncertainty_metrics(lag1_mse)\n",
    "uncertainties_2 = calculate_uncertainty_metrics(lag2_mse)\n",
    "uncertainties_4 = calculate_uncertainty_metrics(lag4_mse)\n",
    "\n"
   ],
   "metadata": {
    "collapsed": false,
    "ExecuteTime": {
     "end_time": "2024-07-31T09:38:35.484004Z",
     "start_time": "2024-07-31T09:38:35.474186Z"
    }
   },
   "id": "9ec47a1bfa95a548"
  },
  {
   "cell_type": "code",
   "execution_count": 1194,
   "outputs": [
    {
     "data": {
      "text/plain": "        Period  uncertainty\n0   2010-01-01     0.601467\n1   2010-02-01     0.153836\n2   2010-03-01     0.254106\n3   2010-04-01     0.169631\n4   2010-05-01     0.358944\n..         ...          ...\n155 2022-12-01     1.438426\n156 2023-01-01     3.734089\n157 2023-02-01     1.108370\n158 2023-03-01     1.139219\n159 2023-04-01     1.162030\n\n[160 rows x 2 columns]",
      "text/html": "<div>\n<style scoped>\n    .dataframe tbody tr th:only-of-type {\n        vertical-align: middle;\n    }\n\n    .dataframe tbody tr th {\n        vertical-align: top;\n    }\n\n    .dataframe thead th {\n        text-align: right;\n    }\n</style>\n<table border=\"1\" class=\"dataframe\">\n  <thead>\n    <tr style=\"text-align: right;\">\n      <th></th>\n      <th>Period</th>\n      <th>uncertainty</th>\n    </tr>\n  </thead>\n  <tbody>\n    <tr>\n      <th>0</th>\n      <td>2010-01-01</td>\n      <td>0.601467</td>\n    </tr>\n    <tr>\n      <th>1</th>\n      <td>2010-02-01</td>\n      <td>0.153836</td>\n    </tr>\n    <tr>\n      <th>2</th>\n      <td>2010-03-01</td>\n      <td>0.254106</td>\n    </tr>\n    <tr>\n      <th>3</th>\n      <td>2010-04-01</td>\n      <td>0.169631</td>\n    </tr>\n    <tr>\n      <th>4</th>\n      <td>2010-05-01</td>\n      <td>0.358944</td>\n    </tr>\n    <tr>\n      <th>...</th>\n      <td>...</td>\n      <td>...</td>\n    </tr>\n    <tr>\n      <th>155</th>\n      <td>2022-12-01</td>\n      <td>1.438426</td>\n    </tr>\n    <tr>\n      <th>156</th>\n      <td>2023-01-01</td>\n      <td>3.734089</td>\n    </tr>\n    <tr>\n      <th>157</th>\n      <td>2023-02-01</td>\n      <td>1.108370</td>\n    </tr>\n    <tr>\n      <th>158</th>\n      <td>2023-03-01</td>\n      <td>1.139219</td>\n    </tr>\n    <tr>\n      <th>159</th>\n      <td>2023-04-01</td>\n      <td>1.162030</td>\n    </tr>\n  </tbody>\n</table>\n<p>160 rows × 2 columns</p>\n</div>"
     },
     "execution_count": 1194,
     "metadata": {},
     "output_type": "execute_result"
    }
   ],
   "source": [
    "uncertainties_1"
   ],
   "metadata": {
    "collapsed": false,
    "ExecuteTime": {
     "end_time": "2024-07-31T09:38:35.593523Z",
     "start_time": "2024-07-31T09:38:35.481837Z"
    }
   },
   "id": "7a1763070698827b"
  },
  {
   "cell_type": "code",
   "execution_count": 1195,
   "outputs": [],
   "source": [
    "# # Convert Period column to datetime\n",
    "# uncertainties_1['Period'] = pd.to_datetime(uncertainties_1['Period'])\n",
    "# uncertainties_2['Period'] = pd.to_datetime(uncertainties_2['Period'])\n",
    "# uncertainties_4['Period'] = pd.to_datetime(uncertainties_4['Period'])\n",
    "\n",
    "# # Shift the Period column\n",
    "# uncertainties_1['Period'] = uncertainties_1['Period'] - pd.DateOffset(months=1)\n",
    "# uncertainties_2['Period'] = uncertainties_2['Period'] - pd.DateOffset(months=2)\n",
    "# uncertainties_4['Period'] = uncertainties_4['Period'] - pd.DateOffset(months=4)\n"
   ],
   "metadata": {
    "collapsed": false,
    "ExecuteTime": {
     "end_time": "2024-07-31T09:38:35.594622Z",
     "start_time": "2024-07-31T09:38:35.484538Z"
    }
   },
   "id": "970a7d7ce5b0ae6"
  },
  {
   "cell_type": "code",
   "execution_count": 1196,
   "outputs": [
    {
     "data": {
      "text/plain": "        Period  uncertainty\n0   2010-01-01     0.601467\n1   2010-02-01     0.153836\n2   2010-03-01     0.254106\n3   2010-04-01     0.169631\n4   2010-05-01     0.358944\n..         ...          ...\n155 2022-12-01     1.438426\n156 2023-01-01     3.734089\n157 2023-02-01     1.108370\n158 2023-03-01     1.139219\n159 2023-04-01     1.162030\n\n[160 rows x 2 columns]",
      "text/html": "<div>\n<style scoped>\n    .dataframe tbody tr th:only-of-type {\n        vertical-align: middle;\n    }\n\n    .dataframe tbody tr th {\n        vertical-align: top;\n    }\n\n    .dataframe thead th {\n        text-align: right;\n    }\n</style>\n<table border=\"1\" class=\"dataframe\">\n  <thead>\n    <tr style=\"text-align: right;\">\n      <th></th>\n      <th>Period</th>\n      <th>uncertainty</th>\n    </tr>\n  </thead>\n  <tbody>\n    <tr>\n      <th>0</th>\n      <td>2010-01-01</td>\n      <td>0.601467</td>\n    </tr>\n    <tr>\n      <th>1</th>\n      <td>2010-02-01</td>\n      <td>0.153836</td>\n    </tr>\n    <tr>\n      <th>2</th>\n      <td>2010-03-01</td>\n      <td>0.254106</td>\n    </tr>\n    <tr>\n      <th>3</th>\n      <td>2010-04-01</td>\n      <td>0.169631</td>\n    </tr>\n    <tr>\n      <th>4</th>\n      <td>2010-05-01</td>\n      <td>0.358944</td>\n    </tr>\n    <tr>\n      <th>...</th>\n      <td>...</td>\n      <td>...</td>\n    </tr>\n    <tr>\n      <th>155</th>\n      <td>2022-12-01</td>\n      <td>1.438426</td>\n    </tr>\n    <tr>\n      <th>156</th>\n      <td>2023-01-01</td>\n      <td>3.734089</td>\n    </tr>\n    <tr>\n      <th>157</th>\n      <td>2023-02-01</td>\n      <td>1.108370</td>\n    </tr>\n    <tr>\n      <th>158</th>\n      <td>2023-03-01</td>\n      <td>1.139219</td>\n    </tr>\n    <tr>\n      <th>159</th>\n      <td>2023-04-01</td>\n      <td>1.162030</td>\n    </tr>\n  </tbody>\n</table>\n<p>160 rows × 2 columns</p>\n</div>"
     },
     "execution_count": 1196,
     "metadata": {},
     "output_type": "execute_result"
    }
   ],
   "source": [
    "uncertainties_1\n"
   ],
   "metadata": {
    "collapsed": false,
    "ExecuteTime": {
     "end_time": "2024-07-31T09:38:35.595164Z",
     "start_time": "2024-07-31T09:38:35.489265Z"
    }
   },
   "id": "b2779d75b1a64fda"
  },
  {
   "cell_type": "code",
   "execution_count": 1197,
   "outputs": [
    {
     "data": {
      "text/plain": "        Period  uncertainty\n0   2010-01-01     0.407535\n1   2010-02-01     0.186099\n2   2010-03-01     0.066916\n3   2010-04-01     0.060072\n4   2010-05-01     0.434010\n..         ...          ...\n155 2022-12-01     2.051904\n156 2023-01-01     4.536946\n157 2023-02-01     1.405718\n158 2023-03-01     1.368388\n159 2023-04-01     1.932325\n\n[160 rows x 2 columns]",
      "text/html": "<div>\n<style scoped>\n    .dataframe tbody tr th:only-of-type {\n        vertical-align: middle;\n    }\n\n    .dataframe tbody tr th {\n        vertical-align: top;\n    }\n\n    .dataframe thead th {\n        text-align: right;\n    }\n</style>\n<table border=\"1\" class=\"dataframe\">\n  <thead>\n    <tr style=\"text-align: right;\">\n      <th></th>\n      <th>Period</th>\n      <th>uncertainty</th>\n    </tr>\n  </thead>\n  <tbody>\n    <tr>\n      <th>0</th>\n      <td>2010-01-01</td>\n      <td>0.407535</td>\n    </tr>\n    <tr>\n      <th>1</th>\n      <td>2010-02-01</td>\n      <td>0.186099</td>\n    </tr>\n    <tr>\n      <th>2</th>\n      <td>2010-03-01</td>\n      <td>0.066916</td>\n    </tr>\n    <tr>\n      <th>3</th>\n      <td>2010-04-01</td>\n      <td>0.060072</td>\n    </tr>\n    <tr>\n      <th>4</th>\n      <td>2010-05-01</td>\n      <td>0.434010</td>\n    </tr>\n    <tr>\n      <th>...</th>\n      <td>...</td>\n      <td>...</td>\n    </tr>\n    <tr>\n      <th>155</th>\n      <td>2022-12-01</td>\n      <td>2.051904</td>\n    </tr>\n    <tr>\n      <th>156</th>\n      <td>2023-01-01</td>\n      <td>4.536946</td>\n    </tr>\n    <tr>\n      <th>157</th>\n      <td>2023-02-01</td>\n      <td>1.405718</td>\n    </tr>\n    <tr>\n      <th>158</th>\n      <td>2023-03-01</td>\n      <td>1.368388</td>\n    </tr>\n    <tr>\n      <th>159</th>\n      <td>2023-04-01</td>\n      <td>1.932325</td>\n    </tr>\n  </tbody>\n</table>\n<p>160 rows × 2 columns</p>\n</div>"
     },
     "execution_count": 1197,
     "metadata": {},
     "output_type": "execute_result"
    }
   ],
   "source": [
    "uncertainties_2"
   ],
   "metadata": {
    "collapsed": false,
    "ExecuteTime": {
     "end_time": "2024-07-31T09:38:35.609045Z",
     "start_time": "2024-07-31T09:38:35.495882Z"
    }
   },
   "id": "19c0e85c7b4e8603"
  },
  {
   "cell_type": "code",
   "execution_count": 1198,
   "outputs": [
    {
     "data": {
      "text/plain": "        Period  uncertainty\n0   2010-01-01     0.655385\n1   2010-02-01     0.136523\n2   2010-03-01     0.155112\n3   2010-04-01     0.476427\n4   2010-05-01     0.367055\n..         ...          ...\n155 2022-12-01     1.350067\n156 2023-01-01     4.321826\n157 2023-02-01     0.956086\n158 2023-03-01     0.974047\n159 2023-04-01     1.263151\n\n[160 rows x 2 columns]",
      "text/html": "<div>\n<style scoped>\n    .dataframe tbody tr th:only-of-type {\n        vertical-align: middle;\n    }\n\n    .dataframe tbody tr th {\n        vertical-align: top;\n    }\n\n    .dataframe thead th {\n        text-align: right;\n    }\n</style>\n<table border=\"1\" class=\"dataframe\">\n  <thead>\n    <tr style=\"text-align: right;\">\n      <th></th>\n      <th>Period</th>\n      <th>uncertainty</th>\n    </tr>\n  </thead>\n  <tbody>\n    <tr>\n      <th>0</th>\n      <td>2010-01-01</td>\n      <td>0.655385</td>\n    </tr>\n    <tr>\n      <th>1</th>\n      <td>2010-02-01</td>\n      <td>0.136523</td>\n    </tr>\n    <tr>\n      <th>2</th>\n      <td>2010-03-01</td>\n      <td>0.155112</td>\n    </tr>\n    <tr>\n      <th>3</th>\n      <td>2010-04-01</td>\n      <td>0.476427</td>\n    </tr>\n    <tr>\n      <th>4</th>\n      <td>2010-05-01</td>\n      <td>0.367055</td>\n    </tr>\n    <tr>\n      <th>...</th>\n      <td>...</td>\n      <td>...</td>\n    </tr>\n    <tr>\n      <th>155</th>\n      <td>2022-12-01</td>\n      <td>1.350067</td>\n    </tr>\n    <tr>\n      <th>156</th>\n      <td>2023-01-01</td>\n      <td>4.321826</td>\n    </tr>\n    <tr>\n      <th>157</th>\n      <td>2023-02-01</td>\n      <td>0.956086</td>\n    </tr>\n    <tr>\n      <th>158</th>\n      <td>2023-03-01</td>\n      <td>0.974047</td>\n    </tr>\n    <tr>\n      <th>159</th>\n      <td>2023-04-01</td>\n      <td>1.263151</td>\n    </tr>\n  </tbody>\n</table>\n<p>160 rows × 2 columns</p>\n</div>"
     },
     "execution_count": 1198,
     "metadata": {},
     "output_type": "execute_result"
    }
   ],
   "source": [
    "uncertainties_4"
   ],
   "metadata": {
    "collapsed": false,
    "ExecuteTime": {
     "end_time": "2024-07-31T09:38:35.609826Z",
     "start_time": "2024-07-31T09:38:35.503989Z"
    }
   },
   "id": "c8872f94818bbac"
  },
  {
   "cell_type": "code",
   "execution_count": 1204,
   "outputs": [
    {
     "data": {
      "text/plain": "<Figure size 1000x400 with 1 Axes>",
      "image/png": "[encoded data removed]"
     },
     "metadata": {},
     "output_type": "display_data"
    }
   ],
   "source": [
    "# Plot 'avg_uncertainty'\n",
    "plt.figure(figsize=(10, 4))\n",
    "plt.plot(uncertainties_1['Period'], uncertainties_1['uncertainty'], label='h=1', linestyle='-')\n",
    "plt.plot(uncertainties_2['Period'], uncertainties_2['uncertainty'], label='h=2', linestyle=':')\n",
    "plt.plot(uncertainties_4['Period'], uncertainties_4['uncertainty'], label='h=4', linestyle='--')\n",
    "\n",
    "\n",
    "plt.title('Uncertainty Over Different h-Periods')\n",
    "plt.xlabel('Period')\n",
    "plt.ylabel('Uncertainty')\n",
    "plt.legend()\n",
    "\n",
    "# Set x-axis ticks at intervals of 12 periods and rotate x-labels\n",
    "plt.xticks(uncertainties_1['Period'][::12], rotation=45)\n",
    "plt.show()\n",
    "\n"
   ],
   "metadata": {
    "collapsed": false,
    "ExecuteTime": {
     "end_time": "2024-07-31T10:00:03.548337Z",
     "start_time": "2024-07-31T10:00:03.272934Z"
    }
   },
   "id": "db6c09ed8a066672"
  },
  {
   "cell_type": "code",
   "execution_count": 1199,
   "outputs": [],
   "source": [],
   "metadata": {
    "collapsed": false,
    "ExecuteTime": {
     "end_time": "2024-07-31T09:38:35.797594Z",
     "start_time": "2024-07-31T09:38:35.715432Z"
    }
   },
   "id": "9668a1b2b7b18705"
  },
  {
   "cell_type": "code",
   "execution_count": 1200,
   "outputs": [],
   "source": [
    "# Save to csv\n",
    "uncertainties_1.to_csv('../data/processed/uncertainty_index.csv', index=False, encoding='utf')"
   ],
   "metadata": {
    "collapsed": false,
    "ExecuteTime": {
     "end_time": "2024-07-31T09:38:35.832076Z",
     "start_time": "2024-07-31T09:38:35.722494Z"
    }
   },
   "id": "177c9701cbbe9dbe"
  },
  {
   "cell_type": "code",
   "execution_count": 1200,
   "outputs": [],
   "source": [],
   "metadata": {
    "collapsed": false,
    "ExecuteTime": {
     "end_time": "2024-07-31T09:38:35.832711Z",
     "start_time": "2024-07-31T09:38:35.728643Z"
    }
   },
   "id": "267f72c42dbe5d75"
  }
 ],
 "metadata": {
  "kernelspec": {
   "display_name": "Python 3",
   "language": "python",
   "name": "python3"
  },
  "language_info": {
   "codemirror_mode": {
    "name": "ipython",
    "version": 2
   },
   "file_extension": ".py",
   "mimetype": "text/x-python",
   "name": "python",
   "nbconvert_exporter": "python",
   "pygments_lexer": "ipython2",
   "version": "2.7.6"
  }
 },
 "nbformat": 4,
 "nbformat_minor": 5
}
