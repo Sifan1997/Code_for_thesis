{
 "cells": [
  {
   "cell_type": "code",
   "execution_count": 1,
   "metadata": {
    "collapsed": true,
    "ExecuteTime": {
     "end_time": "2024-01-10T18:39:25.060479Z",
     "start_time": "2024-01-10T18:39:24.062902Z"
    }
   },
   "outputs": [],
   "source": [
    "import pandas as pd\n",
    "import numpy as np\n",
    "import os\n",
    "import matplotlib.pyplot as plt"
   ]
  },
  {
   "cell_type": "code",
   "execution_count": 1,
   "outputs": [],
   "source": [],
   "metadata": {
    "collapsed": false,
    "ExecuteTime": {
     "end_time": "2024-01-10T18:39:25.060936Z",
     "start_time": "2024-01-10T18:39:25.058282Z"
    }
   }
  },
  {
   "cell_type": "markdown",
   "source": [
    "### Read the monthly trade data from Jan 2000 to Sep 2023"
   ],
   "metadata": {
    "collapsed": false
   }
  },
  {
   "cell_type": "markdown",
   "source": [
    "The time range is that the trade data for most countries are updated till Sep 2023"
   ],
   "metadata": {
    "collapsed": false
   }
  },
  {
   "cell_type": "code",
   "execution_count": 2,
   "outputs": [],
   "source": [
    "# Specify the path to the folder containing CSV files\n",
    "folder_path = '../data/raw/MonthlyTradeData'\n",
    "\n",
    "# Get a list of all files in the folder\n",
    "files = [file for file in os.listdir(folder_path)]\n",
    "\n",
    "# Create an empty list to store DataFrames\n",
    "dfs = []\n",
    "\n",
    "# Loop through each CSV file and read it into a DataFrame\n",
    "for file in files:\n",
    "    file_path = os.path.join(folder_path, file)\n",
    "    df = pd.read_csv(file_path, encoding='unicode_escape')\n",
    "    dfs.append(df)\n",
    "\n",
    "# Concatenate all DataFrames into a single DataFrame if needed\n",
    "monthly_TradeData = pd.concat(dfs)\n",
    "\n",
    "monthly_TradeData = monthly_TradeData[(monthly_TradeData['Period']<=202309)]\n",
    "\n",
    "\n",
    "# Keep the necessary columns\n",
    "monthly_TradeData = monthly_TradeData[['Period','ReporterISO','ReporterDesc','PartnerISO','PartnerDesc','PrimaryValue']]\n",
    "\n",
    "# Save to csv\n",
    "monthly_TradeData.to_csv('../data/processed/monthly_TradeData.csv',index=False)"
   ],
   "metadata": {
    "collapsed": false,
    "ExecuteTime": {
     "end_time": "2024-01-10T18:39:28.178277Z",
     "start_time": "2024-01-10T18:39:25.059480Z"
    }
   }
  },
  {
   "cell_type": "code",
   "execution_count": 3,
   "outputs": [
    {
     "name": "stdout",
     "output_type": "stream",
     "text": [
      "<class 'pandas.core.frame.DataFrame'>\n",
      "Index: 564999 entries, 0 to 37901\n",
      "Data columns (total 6 columns):\n",
      " #   Column        Non-Null Count   Dtype  \n",
      "---  ------        --------------   -----  \n",
      " 0   Period        564999 non-null  int64  \n",
      " 1   ReporterISO   564999 non-null  object \n",
      " 2   ReporterDesc  564999 non-null  object \n",
      " 3   PartnerISO    564999 non-null  object \n",
      " 4   PartnerDesc   564999 non-null  object \n",
      " 5   PrimaryValue  564999 non-null  float64\n",
      "dtypes: float64(1), int64(1), object(4)\n",
      "memory usage: 30.2+ MB\n"
     ]
    }
   ],
   "source": [
    "monthly_TradeData.info()"
   ],
   "metadata": {
    "collapsed": false,
    "ExecuteTime": {
     "end_time": "2024-01-10T18:39:28.226329Z",
     "start_time": "2024-01-10T18:39:28.216717Z"
    }
   }
  },
  {
   "cell_type": "markdown",
   "source": [
    "### Get trade volumn data"
   ],
   "metadata": {
    "collapsed": false
   }
  },
  {
   "cell_type": "code",
   "execution_count": 4,
   "outputs": [],
   "source": [
    "# Get the world monthly trade data\n",
    "\n",
    "world_trade_data = monthly_TradeData[monthly_TradeData['PartnerDesc'] == 'World']\n",
    "world_trade_data = world_trade_data[['Period','ReporterDesc','PrimaryValue']]\n",
    "\n",
    "# Group by 'Period' and sum the 'PrimaryValue' within each period\n",
    "trade_volume = world_trade_data.groupby('Period')['PrimaryValue'].sum().reset_index()\n",
    "\n",
    "# Assuming 'Period' is currently an integer column\n",
    "trade_volume['Period'] = pd.to_datetime(trade_volume['Period'], format='%Y%m')\n",
    "\n",
    "# Extract year and month\n",
    "trade_volume['year'] = trade_volume['Period'].dt.year\n",
    "trade_volume['month'] = trade_volume['Period'].dt.month\n",
    "\n",
    "# Format 'Period' in the desired way\n",
    "trade_volume['period'] = trade_volume['Period'].dt.strftime('%YM%m')\n",
    "\n",
    "# Drop unnecessary columns\n",
    "trade_volume = trade_volume[['period', 'PrimaryValue']]\n",
    "\n",
    "trade_volume.to_csv('../data/processed/trade_volume.csv',index=False)"
   ],
   "metadata": {
    "collapsed": false,
    "ExecuteTime": {
     "end_time": "2024-01-10T18:39:28.295958Z",
     "start_time": "2024-01-10T18:39:28.246218Z"
    }
   }
  },
  {
   "cell_type": "code",
   "execution_count": 4,
   "outputs": [],
   "source": [],
   "metadata": {
    "collapsed": false,
    "ExecuteTime": {
     "end_time": "2024-01-10T18:39:28.296437Z",
     "start_time": "2024-01-10T18:39:28.259687Z"
    }
   }
  },
  {
   "cell_type": "markdown",
   "source": [
    "### Monthly trade data"
   ],
   "metadata": {
    "collapsed": false
   }
  },
  {
   "cell_type": "code",
   "execution_count": 5,
   "outputs": [],
   "source": [
    "# Pre-processing data\n",
    "\n",
    "# Define a function to strip whitespace for categorical values\n",
    "def strip_categorical(value):\n",
    "    if isinstance(value, str):\n",
    "        return value.strip()\n",
    "    return value\n",
    "\n",
    "def replace_and_delete_countries(df):\n",
    "    # Apply the function to the entire DataFrame\n",
    "    df = df.applymap(strip_categorical)\n",
    "    \n",
    "    # Replace \"Other Asia, nes\" (S19) to Taiwan,China (TWM)\n",
    "    df['ReporterISO'] = df['ReporterISO'].replace('S19', 'TWN')\n",
    "    df.loc[df['ReporterISO'] == 'TWN', 'ReporterDesc'] = 'China, Taiwan'\n",
    "    \n",
    "    df['PartnerISO'] = df['PartnerISO'].replace('S19', 'TWN')\n",
    "    df.loc[df['PartnerISO'] == 'TWN', 'PartnerDesc'] = 'China, Taiwan'\n",
    "    \n",
    "    # Delete other desc containing ', nes'\n",
    "    # Replace values containing ', nes' with NaN\n",
    "    df.loc[df['ReporterDesc'].str.contains(', nes', case=False, na=False), 'ReporterDesc'] = np.nan\n",
    "    df.loc[df['PartnerDesc'].str.contains(', nes', case=False, na=False), 'PartnerDesc'] = np.nan\n",
    "    # Delete rows containing Nan\n",
    "    df = df.dropna()\n",
    "    \n",
    "    # Delete 'Free Zone', 'Bunkers', 'Special Categories', 'World', 'Neutral zone' \n",
    "    to_delete = ['Free Zone','Free Zones','Bunkers','Special Categories','World','Neutral Zone']\n",
    "    \n",
    "    # Delete rows where source is in the list of countries\n",
    "    df = df[~df['ReporterDesc'].isin(to_delete)]\n",
    "    # Delete rows where target is in the list of countries\n",
    "    df = df[~df['PartnerDesc'].isin(to_delete)]\n",
    "\n",
    "    return df\n"
   ],
   "metadata": {
    "collapsed": false,
    "ExecuteTime": {
     "end_time": "2024-01-10T18:39:28.296804Z",
     "start_time": "2024-01-10T18:39:28.263420Z"
    }
   }
  },
  {
   "cell_type": "code",
   "execution_count": 6,
   "outputs": [
    {
     "name": "stdout",
     "output_type": "stream",
     "text": [
      "<class 'pandas.core.frame.DataFrame'>\n",
      "Index: 545537 entries, 0 to 37901\n",
      "Data columns (total 6 columns):\n",
      " #   Column        Non-Null Count   Dtype  \n",
      "---  ------        --------------   -----  \n",
      " 0   Period        545537 non-null  int64  \n",
      " 1   ReporterISO   545537 non-null  object \n",
      " 2   ReporterDesc  545537 non-null  object \n",
      " 3   PartnerISO    545537 non-null  object \n",
      " 4   PartnerDesc   545537 non-null  object \n",
      " 5   PrimaryValue  545537 non-null  float64\n",
      "dtypes: float64(1), int64(1), object(4)\n",
      "memory usage: 29.1+ MB\n"
     ]
    }
   ],
   "source": [
    "monthly_TradeData = replace_and_delete_countries(monthly_TradeData)\n",
    "monthly_TradeData.info()\n",
    "\n",
    "# Save to csv\n",
    "monthly_TradeData.to_csv('../data/processed/monthly_TradeData.csv',index=False)"
   ],
   "metadata": {
    "collapsed": false,
    "ExecuteTime": {
     "end_time": "2024-01-10T18:39:29.768269Z",
     "start_time": "2024-01-10T18:39:28.265935Z"
    }
   }
  },
  {
   "cell_type": "code",
   "execution_count": 6,
   "outputs": [],
   "source": [],
   "metadata": {
    "collapsed": false,
    "ExecuteTime": {
     "end_time": "2024-01-10T18:39:29.773280Z",
     "start_time": "2024-01-10T18:39:29.769151Z"
    }
   }
  },
  {
   "cell_type": "code",
   "execution_count": 6,
   "outputs": [],
   "source": [],
   "metadata": {
    "collapsed": false,
    "ExecuteTime": {
     "end_time": "2024-01-10T18:39:29.774261Z",
     "start_time": "2024-01-10T18:39:29.772144Z"
    }
   }
  },
  {
   "cell_type": "markdown",
   "source": [
    "### Get the country list"
   ],
   "metadata": {
    "collapsed": false
   }
  },
  {
   "cell_type": "code",
   "execution_count": 7,
   "outputs": [],
   "source": [
    "# Creaet Appendix for country name and ISO code\n",
    "def get_country_list(df):\n",
    "    df = df[['ReporterISO','ReporterDesc','PartnerISO','PartnerDesc']]\n",
    "\n",
    "    # Obtain the countries in the links\n",
    "    countries_code = pd.concat([df[['ReporterISO']].rename(columns={'ReporterISO': 'ISO'}),df[['PartnerISO']].rename(columns={'PartnerISO': 'ISO'})]).drop_duplicates()\n",
    "    \n",
    "    # Match company info with selected companies\n",
    "    countries = pd.merge(countries_code,df,left_on='ISO', right_on='ReporterISO', how='left')\n",
    "    countries = countries[['ISO','ReporterDesc']].rename(columns={'ReporterDesc':'Name'}).drop_duplicates()\n",
    "    \n",
    "    countries = pd.merge(countries, df, left_on='ISO',right_on='PartnerISO', how='left')\n",
    "    countries = countries[['ISO','PartnerDesc']].rename(columns={'PartnerDesc':'Name'}).drop_duplicates()\n",
    "    \n",
    "    return countries\n",
    "\n"
   ],
   "metadata": {
    "collapsed": false,
    "ExecuteTime": {
     "end_time": "2024-01-10T18:39:29.779784Z",
     "start_time": "2024-01-10T18:39:29.775221Z"
    }
   }
  },
  {
   "cell_type": "code",
   "execution_count": 8,
   "outputs": [],
   "source": [
    "countries = get_country_list(monthly_TradeData)\n",
    "countries.to_csv('../data/processed/countries.csv',index=False, encoding='utf')"
   ],
   "metadata": {
    "collapsed": false,
    "ExecuteTime": {
     "end_time": "2024-01-10T18:39:30.143261Z",
     "start_time": "2024-01-10T18:39:29.778672Z"
    }
   }
  },
  {
   "cell_type": "code",
   "execution_count": 9,
   "outputs": [
    {
     "name": "stdout",
     "output_type": "stream",
     "text": [
      "<class 'pandas.core.frame.DataFrame'>\n",
      "Index: 238 entries, 0 to 545525\n",
      "Data columns (total 2 columns):\n",
      " #   Column  Non-Null Count  Dtype \n",
      "---  ------  --------------  ----- \n",
      " 0   ISO     238 non-null    object\n",
      " 1   Name    238 non-null    object\n",
      "dtypes: object(2)\n",
      "memory usage: 5.6+ KB\n"
     ]
    }
   ],
   "source": [
    "countries.info()\n"
   ],
   "metadata": {
    "collapsed": false,
    "ExecuteTime": {
     "end_time": "2024-01-10T18:39:30.148586Z",
     "start_time": "2024-01-10T18:39:30.145391Z"
    }
   }
  },
  {
   "cell_type": "code",
   "execution_count": 9,
   "outputs": [],
   "source": [],
   "metadata": {
    "collapsed": false,
    "ExecuteTime": {
     "end_time": "2024-01-10T18:39:30.150380Z",
     "start_time": "2024-01-10T18:39:30.148111Z"
    }
   }
  },
  {
   "cell_type": "markdown",
   "source": [
    "### Read EPU DATA"
   ],
   "metadata": {
    "collapsed": false
   }
  },
  {
   "cell_type": "code",
   "execution_count": 10,
   "outputs": [],
   "source": [
    "# Define the range of rows you want to read (37:321)\n",
    "epu = pd.read_excel('../data/raw/Global_Policy_Uncertainty_Data.xlsx').iloc[36:321]\n",
    "\n",
    "# Assuming df is your DataFrame\n",
    "epu['period'] = epu['Year'].astype(str) + 'M' + epu['Month'].astype(int).apply(lambda x: f'{x:02d}')\n",
    "\n",
    "# Select columns\n",
    "epu = epu[[\"period\", \"GEPU_current\",\"GEPU_ppp\"]]\n",
    "\n",
    "epu.to_csv('../data/processed/epu.csv', index=False, encoding='utf')"
   ],
   "metadata": {
    "collapsed": false,
    "ExecuteTime": {
     "end_time": "2024-01-10T18:39:30.252022Z",
     "start_time": "2024-01-10T18:39:30.151871Z"
    }
   }
  },
  {
   "cell_type": "code",
   "execution_count": 11,
   "outputs": [
    {
     "data": {
      "text/plain": "      period  GEPU_current    GEPU_ppp\n36   2000M01     63.738693   61.930168\n37   2000M02     58.820887   53.231096\n38   2000M03     61.289983   58.165654\n39   2000M04     64.557214   61.171080\n40   2000M05     87.164595   84.551517\n..       ...           ...         ...\n316  2023M05    228.814279  227.546243\n317  2023M06    231.438806  240.770257\n318  2023M07    228.340938  238.605431\n319  2023M08    213.460434  226.492244\n320  2023M09    246.491249  259.500746\n\n[285 rows x 3 columns]",
      "text/html": "<div>\n<style scoped>\n    .dataframe tbody tr th:only-of-type {\n        vertical-align: middle;\n    }\n\n    .dataframe tbody tr th {\n        vertical-align: top;\n    }\n\n    .dataframe thead th {\n        text-align: right;\n    }\n</style>\n<table border=\"1\" class=\"dataframe\">\n  <thead>\n    <tr style=\"text-align: right;\">\n      <th></th>\n      <th>period</th>\n      <th>GEPU_current</th>\n      <th>GEPU_ppp</th>\n    </tr>\n  </thead>\n  <tbody>\n    <tr>\n      <th>36</th>\n      <td>2000M01</td>\n      <td>63.738693</td>\n      <td>61.930168</td>\n    </tr>\n    <tr>\n      <th>37</th>\n      <td>2000M02</td>\n      <td>58.820887</td>\n      <td>53.231096</td>\n    </tr>\n    <tr>\n      <th>38</th>\n      <td>2000M03</td>\n      <td>61.289983</td>\n      <td>58.165654</td>\n    </tr>\n    <tr>\n      <th>39</th>\n      <td>2000M04</td>\n      <td>64.557214</td>\n      <td>61.171080</td>\n    </tr>\n    <tr>\n      <th>40</th>\n      <td>2000M05</td>\n      <td>87.164595</td>\n      <td>84.551517</td>\n    </tr>\n    <tr>\n      <th>...</th>\n      <td>...</td>\n      <td>...</td>\n      <td>...</td>\n    </tr>\n    <tr>\n      <th>316</th>\n      <td>2023M05</td>\n      <td>228.814279</td>\n      <td>227.546243</td>\n    </tr>\n    <tr>\n      <th>317</th>\n      <td>2023M06</td>\n      <td>231.438806</td>\n      <td>240.770257</td>\n    </tr>\n    <tr>\n      <th>318</th>\n      <td>2023M07</td>\n      <td>228.340938</td>\n      <td>238.605431</td>\n    </tr>\n    <tr>\n      <th>319</th>\n      <td>2023M08</td>\n      <td>213.460434</td>\n      <td>226.492244</td>\n    </tr>\n    <tr>\n      <th>320</th>\n      <td>2023M09</td>\n      <td>246.491249</td>\n      <td>259.500746</td>\n    </tr>\n  </tbody>\n</table>\n<p>285 rows × 3 columns</p>\n</div>"
     },
     "execution_count": 11,
     "metadata": {},
     "output_type": "execute_result"
    }
   ],
   "source": [
    "epu"
   ],
   "metadata": {
    "collapsed": false,
    "ExecuteTime": {
     "end_time": "2024-01-10T18:39:30.262741Z",
     "start_time": "2024-01-10T18:39:30.254058Z"
    }
   }
  },
  {
   "cell_type": "code",
   "execution_count": 11,
   "outputs": [],
   "source": [],
   "metadata": {
    "collapsed": false,
    "ExecuteTime": {
     "end_time": "2024-01-10T18:39:30.263724Z",
     "start_time": "2024-01-10T18:39:30.260487Z"
    }
   }
  },
  {
   "cell_type": "markdown",
   "source": [
    "### Get economical indicators"
   ],
   "metadata": {
    "collapsed": false
   }
  },
  {
   "cell_type": "code",
   "execution_count": 126,
   "outputs": [],
   "source": [
    "gem = pd.read_excel('../data/raw/P_Data_Extract_From_Global_Economic_Monitor_(GEM).xlsx', sheet_name='Data', index_col=None)\n",
    "gem = gem.transpose().iloc[3:]\n",
    "\n",
    "# Make the first row the columns\n",
    "gem.columns = gem.iloc[0]\n",
    "gem = gem[1:]\n",
    "\n",
    "# Move the existing index to a regular column\n",
    "gem.reset_index(inplace=True)\n",
    "\n",
    "# Rename the column 'Series Code' to 'period'\n",
    "gem = gem.rename(columns={'index': 'period'})"
   ],
   "metadata": {
    "collapsed": false,
    "ExecuteTime": {
     "end_time": "2024-01-10T22:15:58.077210Z",
     "start_time": "2024-01-10T22:15:57.828619Z"
    }
   }
  },
  {
   "cell_type": "code",
   "execution_count": 129,
   "outputs": [],
   "source": [
    "# Keep only the part before the blank in the rows under column 'period'\n",
    "gem['period'] = gem['period'].str.split().str[0]\n",
    "\n",
    "# Keep rows only when 'period' matches the format '2000M01' and is between 2000M01 and 2023M09\n",
    "gem = gem[gem['period'].str.match(r'^\\d{4}M\\d{2}$')]\n",
    "gem = gem[(gem['period'] >= '2000M01') & (gem['period'] <= '2023M09')]\n",
    "\n",
    "# Reset the index\n",
    "gem = gem.reset_index(drop=True)\n",
    "\n",
    "# Replace '..' to NA\n",
    "gem.replace('..', np.nan, inplace=True)\n",
    "\n",
    "# Drop the columns with missing values\n",
    "gem = gem.drop(gem.columns[[1, 2, 4, 7, 8, 15, 16, 17, 18, 29, 32, 33, 34, 37, 38, 39, 40, 41]], axis=1) "
   ],
   "metadata": {
    "collapsed": false,
    "ExecuteTime": {
     "end_time": "2024-01-10T22:16:07.896313Z",
     "start_time": "2024-01-10T22:16:07.862809Z"
    }
   }
  },
  {
   "cell_type": "code",
   "execution_count": 130,
   "outputs": [
    {
     "name": "stdout",
     "output_type": "stream",
     "text": [
      "<class 'pandas.core.frame.DataFrame'>\n",
      "RangeIndex: 285 entries, 0 to 284\n",
      "Data columns (total 24 columns):\n",
      " #   Column         Non-Null Count  Dtype  \n",
      "---  ------         --------------  -----  \n",
      " 0   period         285 non-null    object \n",
      " 1   CPTOTSAXMZGY   285 non-null    float64\n",
      " 2   CPTOTSAXN      285 non-null    float64\n",
      " 3   CPTOTNSXN      285 non-null    float64\n",
      " 4   DXGSRMRCHNSKD  284 non-null    float64\n",
      " 5   DXGSRMRCHSAKD  284 non-null    float64\n",
      " 6   DXGSRMRCHNSCD  284 non-null    float64\n",
      " 7   DXGSRMRCHSACD  285 non-null    float64\n",
      " 8   DXGSRMRCHNSXD  284 non-null    float64\n",
      " 9   DXGSRMRCHSAXD  284 non-null    float64\n",
      " 10  DMGSRMRCHNSKD  285 non-null    float64\n",
      " 11  DMGSRMRCHSAKD  285 non-null    float64\n",
      " 12  DMGSRMRCHNSCD  285 non-null    float64\n",
      " 13  DMGSRMRCHSACD  285 non-null    float64\n",
      " 14  DMGSRMRCHNSXD  285 non-null    float64\n",
      " 15  DMGSRMRCHSAXD  285 non-null    float64\n",
      " 16  IPTOTSAKD      285 non-null    float64\n",
      " 17  IPTOTNSKD      285 non-null    float64\n",
      " 18  IMPCOV         285 non-null    float64\n",
      " 19  NEER           285 non-null    float64\n",
      " 20  REER           285 non-null    float64\n",
      " 21  RETSALESSA     285 non-null    float64\n",
      " 22  TOTRESV        285 non-null    float64\n",
      " 23  UNEMPSA_       285 non-null    float64\n",
      "dtypes: float64(23), object(1)\n",
      "memory usage: 53.6+ KB\n"
     ]
    }
   ],
   "source": [
    "gem.info()\n",
    "\n"
   ],
   "metadata": {
    "collapsed": false,
    "ExecuteTime": {
     "end_time": "2024-01-10T22:16:08.708560Z",
     "start_time": "2024-01-10T22:16:08.700523Z"
    }
   }
  },
  {
   "cell_type": "code",
   "execution_count": 118,
   "outputs": [
    {
     "data": {
      "text/plain": "Series Code   period CPTOTSAXMZGY   CPTOTSAXN   CPTOTNSXN   DXGSRMRCHNSKD  \\\n0            2000M01     3.331233   76.089042   76.187607   603570.494027   \n1            2000M02     3.217972   76.318397   76.498747    645874.06741   \n2            2000M03     3.349364    76.49801   76.722562    712067.80501   \n3            2000M04     3.309353   76.454511    76.79724   646830.553236   \n4            2000M05      3.26087   76.617165   76.893728    689188.09898   \n..               ...          ...         ...         ...             ...   \n280          2023M05     6.162588  160.950844  161.714278  1672907.064792   \n281          2023M06     5.505415  161.872466  162.730666  1747828.860253   \n282          2023M07     4.663212  163.743367  164.561039  1715651.111318   \n283          2023M08      4.83871  165.781302  166.253043  1784765.211186   \n284          2023M09     4.616461  167.065814  167.287011              ..   \n\nSeries Code   DXGSRMRCHSAKD   DXGSRMRCHNSCD   DXGSRMRCHSACD DXGSRMRCHNSXD  \\\n0             646992.754705   549745.057492   484771.067659      0.910822   \n1             668974.209085   581562.534648   496700.992153      0.900427   \n2             675380.405799   648577.497194   497995.743462      0.910837   \n3             656800.385386   587409.248873    482444.39569      0.908135   \n4             696843.801889   618193.695929    506354.66755      0.896988   \n..                      ...             ...             ...           ...   \n280          1424598.443873  2578162.677328  1818976.591413      1.541127   \n281          1428851.360884  2609381.557185  1783450.870157      1.492927   \n282          1414302.241717  2482137.645621  1776108.339534      1.446761   \n283          1437152.288776  2488170.323064  1803101.451389      1.394116   \n284                      ..              ..  1809157.474188            ..   \n\nSeries Code DXGSRMRCHSAXD  ... DMGSRMRCHNSXD DMGSRMRCHSAXD  \\\n0                0.749268  ...      1.158197      1.169108   \n1                0.742482  ...      1.240184       1.33128   \n2                0.737356  ...      1.181816      1.183658   \n3                0.734537  ...      1.142846      1.249991   \n4                 0.72664  ...      1.256758      1.203989   \n..                    ...  ...           ...           ...   \n280              1.276835  ...      2.999744      1.694048   \n281              1.248171  ...      2.998843      1.743142   \n282               1.25582  ...      2.694866      1.545504   \n283              1.254635  ...      2.915684      1.643972   \n284                    ..  ...      2.992842      1.664151   \n\nSeries Code             IPTOTSAKD             IPTOTNSKD    IMPCOV        NEER  \\\n0             996722297161.402954  1006717398677.819946  2.476091  883.756875   \n1            1010231591451.280029  1052488832529.719971  2.063868  896.988312   \n2            1014446901200.689941   1132079427767.77002  2.330691  903.555596   \n3            1018282923026.209961  1035701575222.280029  2.299383  910.134906   \n4            1029953678352.949951  1081396014216.920044  2.225832  931.339312   \n..                            ...                   ...       ...         ...   \n280          1850681471999.689941  1877598944154.570068   4.21073  103.076979   \n281          1857853598008.159912  1983728714628.689941  4.255415  103.082491   \n282          1854203312227.719971   1834557463089.27002  4.417223  102.642779   \n283          1867221764955.860107  1819872012895.429932  4.241427  103.092791   \n284           1872402066399.52002   1916120714612.48999  4.251073  103.741103   \n\nSeries Code        REER  RETSALESSA          TOTRESV  UNEMPSA_  \n0            104.048961   61.870157   1942120.491463  8.614909  \n1            104.329262   62.339465   1947144.763624  8.620393  \n2            104.515925   62.045241   1972074.537912  8.500496  \n3            104.679618   60.628472   1977662.800024  8.448069  \n4            105.262834   60.970381    1991119.35196  8.425447  \n..                  ...         ...              ...       ...  \n280          104.164061  101.669815  13319501.540237  5.756757  \n281           104.06007  101.581524  13367343.690657   5.67182  \n282          103.388379  101.394009   13443345.99006   5.74869  \n283          103.754428  101.496583  13327210.132698  5.781676  \n284           104.39845  101.488145  13134395.335311  5.752535  \n\n[285 rows x 24 columns]",
      "text/html": "<div>\n<style scoped>\n    .dataframe tbody tr th:only-of-type {\n        vertical-align: middle;\n    }\n\n    .dataframe tbody tr th {\n        vertical-align: top;\n    }\n\n    .dataframe thead th {\n        text-align: right;\n    }\n</style>\n<table border=\"1\" class=\"dataframe\">\n  <thead>\n    <tr style=\"text-align: right;\">\n      <th>Series Code</th>\n      <th>period</th>\n      <th>CPTOTSAXMZGY</th>\n      <th>CPTOTSAXN</th>\n      <th>CPTOTNSXN</th>\n      <th>DXGSRMRCHNSKD</th>\n      <th>DXGSRMRCHSAKD</th>\n      <th>DXGSRMRCHNSCD</th>\n      <th>DXGSRMRCHSACD</th>\n      <th>DXGSRMRCHNSXD</th>\n      <th>DXGSRMRCHSAXD</th>\n      <th>...</th>\n      <th>DMGSRMRCHNSXD</th>\n      <th>DMGSRMRCHSAXD</th>\n      <th>IPTOTSAKD</th>\n      <th>IPTOTNSKD</th>\n      <th>IMPCOV</th>\n      <th>NEER</th>\n      <th>REER</th>\n      <th>RETSALESSA</th>\n      <th>TOTRESV</th>\n      <th>UNEMPSA_</th>\n    </tr>\n  </thead>\n  <tbody>\n    <tr>\n      <th>0</th>\n      <td>2000M01</td>\n      <td>3.331233</td>\n      <td>76.089042</td>\n      <td>76.187607</td>\n      <td>603570.494027</td>\n      <td>646992.754705</td>\n      <td>549745.057492</td>\n      <td>484771.067659</td>\n      <td>0.910822</td>\n      <td>0.749268</td>\n      <td>...</td>\n      <td>1.158197</td>\n      <td>1.169108</td>\n      <td>996722297161.402954</td>\n      <td>1006717398677.819946</td>\n      <td>2.476091</td>\n      <td>883.756875</td>\n      <td>104.048961</td>\n      <td>61.870157</td>\n      <td>1942120.491463</td>\n      <td>8.614909</td>\n    </tr>\n    <tr>\n      <th>1</th>\n      <td>2000M02</td>\n      <td>3.217972</td>\n      <td>76.318397</td>\n      <td>76.498747</td>\n      <td>645874.06741</td>\n      <td>668974.209085</td>\n      <td>581562.534648</td>\n      <td>496700.992153</td>\n      <td>0.900427</td>\n      <td>0.742482</td>\n      <td>...</td>\n      <td>1.240184</td>\n      <td>1.33128</td>\n      <td>1010231591451.280029</td>\n      <td>1052488832529.719971</td>\n      <td>2.063868</td>\n      <td>896.988312</td>\n      <td>104.329262</td>\n      <td>62.339465</td>\n      <td>1947144.763624</td>\n      <td>8.620393</td>\n    </tr>\n    <tr>\n      <th>2</th>\n      <td>2000M03</td>\n      <td>3.349364</td>\n      <td>76.49801</td>\n      <td>76.722562</td>\n      <td>712067.80501</td>\n      <td>675380.405799</td>\n      <td>648577.497194</td>\n      <td>497995.743462</td>\n      <td>0.910837</td>\n      <td>0.737356</td>\n      <td>...</td>\n      <td>1.181816</td>\n      <td>1.183658</td>\n      <td>1014446901200.689941</td>\n      <td>1132079427767.77002</td>\n      <td>2.330691</td>\n      <td>903.555596</td>\n      <td>104.515925</td>\n      <td>62.045241</td>\n      <td>1972074.537912</td>\n      <td>8.500496</td>\n    </tr>\n    <tr>\n      <th>3</th>\n      <td>2000M04</td>\n      <td>3.309353</td>\n      <td>76.454511</td>\n      <td>76.79724</td>\n      <td>646830.553236</td>\n      <td>656800.385386</td>\n      <td>587409.248873</td>\n      <td>482444.39569</td>\n      <td>0.908135</td>\n      <td>0.734537</td>\n      <td>...</td>\n      <td>1.142846</td>\n      <td>1.249991</td>\n      <td>1018282923026.209961</td>\n      <td>1035701575222.280029</td>\n      <td>2.299383</td>\n      <td>910.134906</td>\n      <td>104.679618</td>\n      <td>60.628472</td>\n      <td>1977662.800024</td>\n      <td>8.448069</td>\n    </tr>\n    <tr>\n      <th>4</th>\n      <td>2000M05</td>\n      <td>3.26087</td>\n      <td>76.617165</td>\n      <td>76.893728</td>\n      <td>689188.09898</td>\n      <td>696843.801889</td>\n      <td>618193.695929</td>\n      <td>506354.66755</td>\n      <td>0.896988</td>\n      <td>0.72664</td>\n      <td>...</td>\n      <td>1.256758</td>\n      <td>1.203989</td>\n      <td>1029953678352.949951</td>\n      <td>1081396014216.920044</td>\n      <td>2.225832</td>\n      <td>931.339312</td>\n      <td>105.262834</td>\n      <td>60.970381</td>\n      <td>1991119.35196</td>\n      <td>8.425447</td>\n    </tr>\n    <tr>\n      <th>...</th>\n      <td>...</td>\n      <td>...</td>\n      <td>...</td>\n      <td>...</td>\n      <td>...</td>\n      <td>...</td>\n      <td>...</td>\n      <td>...</td>\n      <td>...</td>\n      <td>...</td>\n      <td>...</td>\n      <td>...</td>\n      <td>...</td>\n      <td>...</td>\n      <td>...</td>\n      <td>...</td>\n      <td>...</td>\n      <td>...</td>\n      <td>...</td>\n      <td>...</td>\n      <td>...</td>\n    </tr>\n    <tr>\n      <th>280</th>\n      <td>2023M05</td>\n      <td>6.162588</td>\n      <td>160.950844</td>\n      <td>161.714278</td>\n      <td>1672907.064792</td>\n      <td>1424598.443873</td>\n      <td>2578162.677328</td>\n      <td>1818976.591413</td>\n      <td>1.541127</td>\n      <td>1.276835</td>\n      <td>...</td>\n      <td>2.999744</td>\n      <td>1.694048</td>\n      <td>1850681471999.689941</td>\n      <td>1877598944154.570068</td>\n      <td>4.21073</td>\n      <td>103.076979</td>\n      <td>104.164061</td>\n      <td>101.669815</td>\n      <td>13319501.540237</td>\n      <td>5.756757</td>\n    </tr>\n    <tr>\n      <th>281</th>\n      <td>2023M06</td>\n      <td>5.505415</td>\n      <td>161.872466</td>\n      <td>162.730666</td>\n      <td>1747828.860253</td>\n      <td>1428851.360884</td>\n      <td>2609381.557185</td>\n      <td>1783450.870157</td>\n      <td>1.492927</td>\n      <td>1.248171</td>\n      <td>...</td>\n      <td>2.998843</td>\n      <td>1.743142</td>\n      <td>1857853598008.159912</td>\n      <td>1983728714628.689941</td>\n      <td>4.255415</td>\n      <td>103.082491</td>\n      <td>104.06007</td>\n      <td>101.581524</td>\n      <td>13367343.690657</td>\n      <td>5.67182</td>\n    </tr>\n    <tr>\n      <th>282</th>\n      <td>2023M07</td>\n      <td>4.663212</td>\n      <td>163.743367</td>\n      <td>164.561039</td>\n      <td>1715651.111318</td>\n      <td>1414302.241717</td>\n      <td>2482137.645621</td>\n      <td>1776108.339534</td>\n      <td>1.446761</td>\n      <td>1.25582</td>\n      <td>...</td>\n      <td>2.694866</td>\n      <td>1.545504</td>\n      <td>1854203312227.719971</td>\n      <td>1834557463089.27002</td>\n      <td>4.417223</td>\n      <td>102.642779</td>\n      <td>103.388379</td>\n      <td>101.394009</td>\n      <td>13443345.99006</td>\n      <td>5.74869</td>\n    </tr>\n    <tr>\n      <th>283</th>\n      <td>2023M08</td>\n      <td>4.83871</td>\n      <td>165.781302</td>\n      <td>166.253043</td>\n      <td>1784765.211186</td>\n      <td>1437152.288776</td>\n      <td>2488170.323064</td>\n      <td>1803101.451389</td>\n      <td>1.394116</td>\n      <td>1.254635</td>\n      <td>...</td>\n      <td>2.915684</td>\n      <td>1.643972</td>\n      <td>1867221764955.860107</td>\n      <td>1819872012895.429932</td>\n      <td>4.241427</td>\n      <td>103.092791</td>\n      <td>103.754428</td>\n      <td>101.496583</td>\n      <td>13327210.132698</td>\n      <td>5.781676</td>\n    </tr>\n    <tr>\n      <th>284</th>\n      <td>2023M09</td>\n      <td>4.616461</td>\n      <td>167.065814</td>\n      <td>167.287011</td>\n      <td>..</td>\n      <td>..</td>\n      <td>..</td>\n      <td>1809157.474188</td>\n      <td>..</td>\n      <td>..</td>\n      <td>...</td>\n      <td>2.992842</td>\n      <td>1.664151</td>\n      <td>1872402066399.52002</td>\n      <td>1916120714612.48999</td>\n      <td>4.251073</td>\n      <td>103.741103</td>\n      <td>104.39845</td>\n      <td>101.488145</td>\n      <td>13134395.335311</td>\n      <td>5.752535</td>\n    </tr>\n  </tbody>\n</table>\n<p>285 rows × 24 columns</p>\n</div>"
     },
     "execution_count": 118,
     "metadata": {},
     "output_type": "execute_result"
    }
   ],
   "source": [
    "gem"
   ],
   "metadata": {
    "collapsed": false,
    "ExecuteTime": {
     "end_time": "2024-01-10T22:14:21.962215Z",
     "start_time": "2024-01-10T22:14:21.920940Z"
    }
   }
  },
  {
   "cell_type": "code",
   "execution_count": null,
   "outputs": [],
   "source": [
    ".."
   ],
   "metadata": {
    "collapsed": false
   }
  }
 ],
 "metadata": {
  "kernelspec": {
   "display_name": "Python 3",
   "language": "python",
   "name": "python3"
  },
  "language_info": {
   "codemirror_mode": {
    "name": "ipython",
    "version": 2
   },
   "file_extension": ".py",
   "mimetype": "text/x-python",
   "name": "python",
   "nbconvert_exporter": "python",
   "pygments_lexer": "ipython2",
   "version": "2.7.6"
  }
 },
 "nbformat": 4,
 "nbformat_minor": 0
}
