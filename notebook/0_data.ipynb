{
 "cells": [
  {
   "cell_type": "code",
   "execution_count": 397,
   "metadata": {
    "collapsed": true,
    "ExecuteTime": {
     "end_time": "2024-01-13T22:47:56.829467Z",
     "start_time": "2024-01-13T22:47:56.727532Z"
    }
   },
   "outputs": [],
   "source": [
    "import pandas as pd\n",
    "import numpy as np\n",
    "import os\n"
   ]
  },
  {
   "cell_type": "code",
   "execution_count": 397,
   "outputs": [],
   "source": [],
   "metadata": {
    "collapsed": false,
    "ExecuteTime": {
     "end_time": "2024-01-13T22:47:56.849638Z",
     "start_time": "2024-01-13T22:47:56.799544Z"
    }
   }
  },
  {
   "cell_type": "markdown",
   "source": [
    "### Read the UN Comtrade data"
   ],
   "metadata": {
    "collapsed": false
   }
  },
  {
   "cell_type": "markdown",
   "source": [
    "The time range is that the trade data for most countries are updated till Sep 2023"
   ],
   "metadata": {
    "collapsed": false
   }
  },
  {
   "cell_type": "code",
   "execution_count": 516,
   "outputs": [],
   "source": [
    "# Specify the path to the folder containing CSV files\n",
    "folder_path = '../data/raw/MonthlyTradeData'\n",
    "\n",
    "# Get a list of all files in the folder\n",
    "files = [file for file in os.listdir(folder_path)]\n",
    "\n",
    "# Create an empty list to store DataFrames\n",
    "dfs = []\n",
    "\n",
    "# Loop through each CSV file and read it into a DataFrame\n",
    "for file in files:\n",
    "    file_path = os.path.join(folder_path, file)\n",
    "    df = pd.read_csv(file_path, encoding='unicode_escape')\n",
    "    dfs.append(df)\n",
    "\n",
    "# Concatenate all DataFrames into a single DataFrame if needed\n",
    "monthly_TradeData = pd.concat(dfs)\n",
    "\n",
    "# Filter the date \n",
    "monthly_TradeData = monthly_TradeData[(monthly_TradeData['Period']<=202309)]\n",
    "\n",
    "# Keep the necessary columns\n",
    "monthly_TradeData = monthly_TradeData[['Period','ReporterISO','ReporterDesc','PartnerISO','PartnerDesc','PrimaryValue']]\n"
   ],
   "metadata": {
    "collapsed": false,
    "ExecuteTime": {
     "end_time": "2024-01-15T05:02:40.114559Z",
     "start_time": "2024-01-15T05:02:36.799576Z"
    }
   }
  },
  {
   "cell_type": "markdown",
   "source": [
    "Pre-processing data"
   ],
   "metadata": {
    "collapsed": false
   }
  },
  {
   "cell_type": "code",
   "execution_count": 517,
   "outputs": [],
   "source": [
    "\n",
    "# Define a function to strip whitespace for categorical values\n",
    "def strip_categorical(value):\n",
    "    if isinstance(value, str):\n",
    "        return value.strip()\n",
    "    return value\n",
    "\n",
    "def replace_and_delete_countries(df):\n",
    "    # Apply the function to the entire DataFrame\n",
    "    df = df.applymap(strip_categorical)\n",
    "    \n",
    "    # Replace \"Other Asia, nes\" (S19) to Taiwan,China (TWM)\n",
    "    df['ReporterISO'] = df['ReporterISO'].replace('S19', 'TWN')\n",
    "    df.loc[df['ReporterISO'] == 'TWN', 'ReporterDesc'] = 'China, Taiwan'\n",
    "    \n",
    "    df['PartnerISO'] = df['PartnerISO'].replace('S19', 'TWN')\n",
    "    df.loc[df['PartnerISO'] == 'TWN', 'PartnerDesc'] = 'China, Taiwan'\n",
    "    \n",
    "    # Delete other desc containing ', nes'\n",
    "    # Replace values containing ', nes' with NaN\n",
    "    df.loc[df['ReporterDesc'].str.contains(', nes', case=False, na=False), 'ReporterDesc'] = np.nan\n",
    "    df.loc[df['PartnerDesc'].str.contains(', nes', case=False, na=False), 'PartnerDesc'] = np.nan\n",
    "    # Delete rows containing Nan\n",
    "    df = df.dropna()\n",
    "    \n",
    "    # Delete 'Free Zone', 'Bunkers', 'Special Categories', 'World', 'Neutral zone' \n",
    "    to_delete = ['Free Zone','Free Zones','Bunkers','Special Categories','World','Neutral Zone']\n",
    "    \n",
    "    # Delete rows where source is in the list of countries\n",
    "    df = df[~df['ReporterDesc'].isin(to_delete)]\n",
    "    # Delete rows where target is in the list of countries\n",
    "    df = df[~df['PartnerDesc'].isin(to_delete)]\n",
    "\n",
    "    return df\n",
    "\n",
    "# Apply the function on monthly_TradeData\n",
    "monthly_TradeData = replace_and_delete_countries(monthly_TradeData)"
   ],
   "metadata": {
    "collapsed": false,
    "ExecuteTime": {
     "end_time": "2024-01-15T05:02:41.257161Z",
     "start_time": "2024-01-15T05:02:40.118824Z"
    }
   }
  },
  {
   "cell_type": "code",
   "execution_count": 518,
   "outputs": [
    {
     "data": {
      "text/plain": "   Period ReporterISO ReporterDesc PartnerISO PartnerDesc  PrimaryValue\n0  200101         NOR       Norway        FIN     Finland   1087262.245\n1  200101         CHE  Switzerland        FIN     Finland    942722.476\n2  200101         FRA       France        THA    Thailand   7555251.056\n3  200101         ITA        Italy        THA    Thailand     60642.913\n4  200101         CHE  Switzerland        THA    Thailand    752574.318",
      "text/html": "<div>\n<style scoped>\n    .dataframe tbody tr th:only-of-type {\n        vertical-align: middle;\n    }\n\n    .dataframe tbody tr th {\n        vertical-align: top;\n    }\n\n    .dataframe thead th {\n        text-align: right;\n    }\n</style>\n<table border=\"1\" class=\"dataframe\">\n  <thead>\n    <tr style=\"text-align: right;\">\n      <th></th>\n      <th>Period</th>\n      <th>ReporterISO</th>\n      <th>ReporterDesc</th>\n      <th>PartnerISO</th>\n      <th>PartnerDesc</th>\n      <th>PrimaryValue</th>\n    </tr>\n  </thead>\n  <tbody>\n    <tr>\n      <th>0</th>\n      <td>200101</td>\n      <td>NOR</td>\n      <td>Norway</td>\n      <td>FIN</td>\n      <td>Finland</td>\n      <td>1087262.245</td>\n    </tr>\n    <tr>\n      <th>1</th>\n      <td>200101</td>\n      <td>CHE</td>\n      <td>Switzerland</td>\n      <td>FIN</td>\n      <td>Finland</td>\n      <td>942722.476</td>\n    </tr>\n    <tr>\n      <th>2</th>\n      <td>200101</td>\n      <td>FRA</td>\n      <td>France</td>\n      <td>THA</td>\n      <td>Thailand</td>\n      <td>7555251.056</td>\n    </tr>\n    <tr>\n      <th>3</th>\n      <td>200101</td>\n      <td>ITA</td>\n      <td>Italy</td>\n      <td>THA</td>\n      <td>Thailand</td>\n      <td>60642.913</td>\n    </tr>\n    <tr>\n      <th>4</th>\n      <td>200101</td>\n      <td>CHE</td>\n      <td>Switzerland</td>\n      <td>THA</td>\n      <td>Thailand</td>\n      <td>752574.318</td>\n    </tr>\n  </tbody>\n</table>\n</div>"
     },
     "execution_count": 518,
     "metadata": {},
     "output_type": "execute_result"
    }
   ],
   "source": [
    "monthly_TradeData.head()"
   ],
   "metadata": {
    "collapsed": false,
    "ExecuteTime": {
     "end_time": "2024-01-15T05:02:49.347723Z",
     "start_time": "2024-01-15T05:02:49.320129Z"
    }
   }
  },
  {
   "cell_type": "code",
   "execution_count": 519,
   "outputs": [
    {
     "name": "stdout",
     "output_type": "stream",
     "text": [
      "<class 'pandas.core.frame.DataFrame'>\n",
      "Index: 545537 entries, 0 to 37901\n",
      "Data columns (total 6 columns):\n",
      " #   Column        Non-Null Count   Dtype  \n",
      "---  ------        --------------   -----  \n",
      " 0   Period        545537 non-null  int64  \n",
      " 1   ReporterISO   545537 non-null  object \n",
      " 2   ReporterDesc  545537 non-null  object \n",
      " 3   PartnerISO    545537 non-null  object \n",
      " 4   PartnerDesc   545537 non-null  object \n",
      " 5   PrimaryValue  545537 non-null  float64\n",
      "dtypes: float64(1), int64(1), object(4)\n",
      "memory usage: 29.1+ MB\n"
     ]
    }
   ],
   "source": [
    "monthly_TradeData.info()"
   ],
   "metadata": {
    "collapsed": false,
    "ExecuteTime": {
     "end_time": "2024-01-15T05:02:51.864237Z",
     "start_time": "2024-01-15T05:02:51.799317Z"
    }
   }
  },
  {
   "cell_type": "code",
   "execution_count": 520,
   "outputs": [],
   "source": [
    "# Save to csv\n",
    "monthly_TradeData.to_csv('../data/processed/monthly_TradeData.csv',index=False)"
   ],
   "metadata": {
    "collapsed": false,
    "ExecuteTime": {
     "end_time": "2024-01-15T05:02:57.174969Z",
     "start_time": "2024-01-15T05:02:55.860394Z"
    }
   }
  },
  {
   "cell_type": "code",
   "execution_count": 402,
   "outputs": [],
   "source": [],
   "metadata": {
    "collapsed": false,
    "ExecuteTime": {
     "end_time": "2024-01-13T22:48:02.659598Z",
     "start_time": "2024-01-13T22:48:02.656263Z"
    }
   }
  },
  {
   "cell_type": "markdown",
   "source": [
    "Get the country list for all countries appeared in monthly_TradeData"
   ],
   "metadata": {
    "collapsed": false
   }
  },
  {
   "cell_type": "code",
   "execution_count": 521,
   "outputs": [],
   "source": [
    "# Creaet Appendix for country name and ISO code\n",
    "def get_country_list(df):\n",
    "    df = df[['ReporterISO','ReporterDesc','PartnerISO','PartnerDesc']]\n",
    "\n",
    "    # Obtain the countries in the links\n",
    "    countries_code = pd.concat([df[['ReporterISO']].rename(columns={'ReporterISO': 'ISO'}),df[['PartnerISO']].rename(columns={'PartnerISO': 'ISO'})]).drop_duplicates()\n",
    "    \n",
    "    # Match company info with selected companies\n",
    "    countries = pd.merge(countries_code,df,left_on='ISO', right_on='ReporterISO', how='left')\n",
    "    countries = countries[['ISO','ReporterDesc']].rename(columns={'ReporterDesc':'Name'}).drop_duplicates()\n",
    "    \n",
    "    # Merge data\n",
    "    countries = pd.merge(countries, df, left_on='ISO',right_on='PartnerISO', how='left')\n",
    "    \n",
    "    # Rename columns\n",
    "    countries = countries[['ISO','PartnerDesc']].rename(columns={'PartnerDesc':'Name'}).drop_duplicates()\n",
    "    \n",
    "    return countries\n",
    "\n",
    "# Apply function\n",
    "countries = get_country_list(monthly_TradeData)"
   ],
   "metadata": {
    "collapsed": false,
    "ExecuteTime": {
     "end_time": "2024-01-15T05:05:09.376153Z",
     "start_time": "2024-01-15T05:05:09.361806Z"
    }
   }
  },
  {
   "cell_type": "code",
   "execution_count": 404,
   "outputs": [],
   "source": [
    "# Apply function\n",
    "countries = get_country_list(monthly_TradeData)"
   ],
   "metadata": {
    "collapsed": false,
    "ExecuteTime": {
     "end_time": "2024-01-13T22:48:03.047552Z",
     "start_time": "2024-01-13T22:48:02.666433Z"
    }
   }
  },
  {
   "cell_type": "code",
   "execution_count": 522,
   "outputs": [
    {
     "data": {
      "text/plain": "      ISO        Name\n0     DZA     Algeria\n2068  AGO      Angola\n3542  AZE  Azerbaijan\n5407  ARG   Argentina\n9169  AUS   Australia",
      "text/html": "<div>\n<style scoped>\n    .dataframe tbody tr th:only-of-type {\n        vertical-align: middle;\n    }\n\n    .dataframe tbody tr th {\n        vertical-align: top;\n    }\n\n    .dataframe thead th {\n        text-align: right;\n    }\n</style>\n<table border=\"1\" class=\"dataframe\">\n  <thead>\n    <tr style=\"text-align: right;\">\n      <th></th>\n      <th>ISO</th>\n      <th>Name</th>\n    </tr>\n  </thead>\n  <tbody>\n    <tr>\n      <th>0</th>\n      <td>DZA</td>\n      <td>Algeria</td>\n    </tr>\n    <tr>\n      <th>2068</th>\n      <td>AGO</td>\n      <td>Angola</td>\n    </tr>\n    <tr>\n      <th>3542</th>\n      <td>AZE</td>\n      <td>Azerbaijan</td>\n    </tr>\n    <tr>\n      <th>5407</th>\n      <td>ARG</td>\n      <td>Argentina</td>\n    </tr>\n    <tr>\n      <th>9169</th>\n      <td>AUS</td>\n      <td>Australia</td>\n    </tr>\n  </tbody>\n</table>\n</div>"
     },
     "execution_count": 522,
     "metadata": {},
     "output_type": "execute_result"
    }
   ],
   "source": [
    "countries.head()"
   ],
   "metadata": {
    "collapsed": false,
    "ExecuteTime": {
     "end_time": "2024-01-15T05:05:46.225076Z",
     "start_time": "2024-01-15T05:05:46.205430Z"
    }
   }
  },
  {
   "cell_type": "code",
   "execution_count": 523,
   "outputs": [
    {
     "name": "stdout",
     "output_type": "stream",
     "text": [
      "<class 'pandas.core.frame.DataFrame'>\n",
      "Index: 237 entries, 0 to 477318\n",
      "Data columns (total 2 columns):\n",
      " #   Column  Non-Null Count  Dtype \n",
      "---  ------  --------------  ----- \n",
      " 0   ISO     237 non-null    object\n",
      " 1   Name    237 non-null    object\n",
      "dtypes: object(2)\n",
      "memory usage: 5.6+ KB\n"
     ]
    }
   ],
   "source": [
    "countries.info()\n"
   ],
   "metadata": {
    "collapsed": false,
    "ExecuteTime": {
     "end_time": "2024-01-15T05:05:52.185997Z",
     "start_time": "2024-01-15T05:05:52.157272Z"
    }
   }
  },
  {
   "cell_type": "code",
   "execution_count": 524,
   "outputs": [],
   "source": [
    "# Save to csv file\n",
    "countries.to_csv('../data/processed/countries.csv',index=False, encoding='utf')"
   ],
   "metadata": {
    "collapsed": false,
    "ExecuteTime": {
     "end_time": "2024-01-15T05:06:12.490049Z",
     "start_time": "2024-01-15T05:06:12.464627Z"
    }
   }
  },
  {
   "cell_type": "code",
   "execution_count": 405,
   "outputs": [],
   "source": [],
   "metadata": {
    "collapsed": false,
    "ExecuteTime": {
     "end_time": "2024-01-13T22:48:03.056273Z",
     "start_time": "2024-01-13T22:48:03.052377Z"
    }
   }
  },
  {
   "cell_type": "markdown",
   "source": [
    "### Get feature data"
   ],
   "metadata": {
    "collapsed": false
   }
  },
  {
   "cell_type": "markdown",
   "source": [
    "TPU -- Trade policy uncertainty index https://www.policyuncertainty.com/trade_cimpr.html"
   ],
   "metadata": {
    "collapsed": false
   }
  },
  {
   "cell_type": "code",
   "execution_count": 534,
   "outputs": [],
   "source": [
    "# Read data\n",
    "tpu = pd.read_excel('../data/raw/tpu_web_latest.xlsx', sheet_name='TPU_MONTHLY', index_col=None)\n",
    "\n",
    "# Select columns\n",
    "tpu = tpu[['DATE','TPU']]\n",
    "\n",
    "# Rename 'month' to 'period'\n",
    "tpu = tpu.rename(columns={'DATE': 'period'})\n",
    "\n",
    "# Keep 'period' matches the format '2000M01'\n",
    "tpu['period'] = pd.to_datetime(tpu['period']).dt.strftime('%YM%m')\n",
    "\n",
    "# Filter the 'period' when it is between 2000M01 and 2023M09\n",
    "tpu = tpu[(tpu['period'] >= '2000M01') & (tpu['period'] <= '2023M09')]"
   ],
   "metadata": {
    "collapsed": false,
    "ExecuteTime": {
     "end_time": "2024-01-15T05:11:28.241328Z",
     "start_time": "2024-01-15T05:11:28.172535Z"
    }
   }
  },
  {
   "cell_type": "code",
   "execution_count": 535,
   "outputs": [
    {
     "name": "stdout",
     "output_type": "stream",
     "text": [
      "<class 'pandas.core.frame.DataFrame'>\n",
      "Index: 285 entries, 480 to 764\n",
      "Data columns (total 2 columns):\n",
      " #   Column  Non-Null Count  Dtype  \n",
      "---  ------  --------------  -----  \n",
      " 0   period  285 non-null    object \n",
      " 1   TPU     285 non-null    float64\n",
      "dtypes: float64(1), object(1)\n",
      "memory usage: 6.7+ KB\n"
     ]
    }
   ],
   "source": [
    "tpu.info()"
   ],
   "metadata": {
    "collapsed": false,
    "ExecuteTime": {
     "end_time": "2024-01-15T05:11:31.161322Z",
     "start_time": "2024-01-15T05:11:31.135581Z"
    }
   }
  },
  {
   "cell_type": "code",
   "execution_count": 535,
   "outputs": [],
   "source": [],
   "metadata": {
    "collapsed": false,
    "ExecuteTime": {
     "end_time": "2024-01-15T05:11:32.068106Z",
     "start_time": "2024-01-15T05:11:32.040006Z"
    }
   }
  },
  {
   "cell_type": "markdown",
   "source": [
    "GPR -- Geopolitical Risk Index https://www.matteoiacoviello.com/gpr.htm"
   ],
   "metadata": {
    "collapsed": false
   }
  },
  {
   "cell_type": "code",
   "execution_count": 537,
   "outputs": [],
   "source": [
    "# Read data\n",
    "gpr = pd.read_excel('../data/raw/data_gpr_export.xls', sheet_name='Data', index_col=None)\n",
    "\n",
    "# Rename 'month' to 'period'\n",
    "gpr = gpr.rename(columns={'month': 'period'})\n",
    "\n",
    "# Keep 'period' matches the format '2000M01'\n",
    "gpr['period'] = pd.to_datetime(gpr['period']).dt.strftime('%YM%m')\n",
    "\n",
    "# Filter the 'period' when it is between 2000M01 and 2023M09\n",
    "gpr = gpr[(gpr['period'] >= '2000M01') & (gpr['period'] <= '2023M09')]\n",
    "\n",
    "# don't keep country specific index\n",
    "gpr = gpr[['period', 'GPR']]"
   ],
   "metadata": {
    "collapsed": false,
    "ExecuteTime": {
     "end_time": "2024-01-15T05:12:18.814061Z",
     "start_time": "2024-01-15T05:12:18.669528Z"
    }
   }
  },
  {
   "cell_type": "code",
   "execution_count": 538,
   "outputs": [
    {
     "name": "stdout",
     "output_type": "stream",
     "text": [
      "<class 'pandas.core.frame.DataFrame'>\n",
      "Index: 285 entries, 1200 to 1484\n",
      "Data columns (total 2 columns):\n",
      " #   Column  Non-Null Count  Dtype  \n",
      "---  ------  --------------  -----  \n",
      " 0   period  285 non-null    object \n",
      " 1   GPR     285 non-null    float64\n",
      "dtypes: float64(1), object(1)\n",
      "memory usage: 6.7+ KB\n"
     ]
    }
   ],
   "source": [
    "gpr.info()"
   ],
   "metadata": {
    "collapsed": false,
    "ExecuteTime": {
     "end_time": "2024-01-15T05:12:19.603735Z",
     "start_time": "2024-01-15T05:12:19.572440Z"
    }
   }
  },
  {
   "cell_type": "code",
   "execution_count": 411,
   "outputs": [],
   "source": [],
   "metadata": {
    "collapsed": false,
    "ExecuteTime": {
     "end_time": "2024-01-13T22:48:04.156514Z",
     "start_time": "2024-01-13T22:48:03.770724Z"
    }
   }
  },
  {
   "cell_type": "markdown",
   "source": [],
   "metadata": {
    "collapsed": false
   }
  },
  {
   "cell_type": "markdown",
   "source": [
    "GEM -- Global economic monitor index https://databank.worldbank.org/source/global-economic-monitor-(gem)#"
   ],
   "metadata": {
    "collapsed": false
   }
  },
  {
   "cell_type": "code",
   "execution_count": 539,
   "outputs": [],
   "source": [
    "# Read ata\n",
    "gem = pd.read_excel('../data/raw/P_Data_Extract_From_Global_Economic_Monitor_(GEM).xlsx', sheet_name='Data', \n",
    "index_col=None)\n",
    "gem = gem.transpose().iloc[3:]\n",
    "\n",
    "# Make the first row the columns\n",
    "gem.columns = gem.iloc[0]\n",
    "gem = gem[1:]\n",
    "\n",
    "# Move the existing index to a regular column\n",
    "gem.reset_index(inplace=True)\n",
    "\n",
    "# Rename the column 'Series Code' to 'period'\n",
    "gem = gem.rename(columns={'index': 'period'})\n"
   ],
   "metadata": {
    "collapsed": false,
    "ExecuteTime": {
     "end_time": "2024-01-15T05:12:58.793545Z",
     "start_time": "2024-01-15T05:12:58.625373Z"
    }
   }
  },
  {
   "cell_type": "code",
   "execution_count": 540,
   "outputs": [],
   "source": [
    "# Keep only the part before the blank in the rows under column 'period'\n",
    "gem['period'] = gem['period'].str.split().str[0]\n",
    "\n",
    "# Keep rows only when 'period' matches the format '2000M01' and is between 2000M01 and 2023M09\n",
    "gem = gem[gem['period'].str.match(r'^\\d{4}M\\d{2}$')]\n",
    "gem = gem[(gem['period'] >= '2000M01') & (gem['period'] <= '2023M09')]\n",
    "\n",
    "# Reset the index\n",
    "gem = gem.reset_index(drop=True)\n",
    "\n",
    "# Replace '..' to NA\n",
    "gem.replace('..', np.nan, inplace=True)\n",
    "\n",
    "# Keep the columns\n",
    "gem = gem[['period','CPTOTSAXN','DXGSRMRCHSACD', 'DMGSRMRCHSACD', 'IPTOTSAKD', 'IMPCOV', 'NEER', 'REER', 'RETSALESSA', 'TOTRESV' ,'UNEMPSA_']] \n"
   ],
   "metadata": {
    "collapsed": false,
    "ExecuteTime": {
     "end_time": "2024-01-15T05:13:20.924293Z",
     "start_time": "2024-01-15T05:13:20.870190Z"
    }
   }
  },
  {
   "cell_type": "code",
   "execution_count": 541,
   "outputs": [
    {
     "name": "stdout",
     "output_type": "stream",
     "text": [
      "<class 'pandas.core.frame.DataFrame'>\n",
      "RangeIndex: 285 entries, 0 to 284\n",
      "Data columns (total 11 columns):\n",
      " #   Column         Non-Null Count  Dtype  \n",
      "---  ------         --------------  -----  \n",
      " 0   period         285 non-null    object \n",
      " 1   CPTOTSAXN      285 non-null    float64\n",
      " 2   DXGSRMRCHSACD  285 non-null    float64\n",
      " 3   DMGSRMRCHSACD  285 non-null    float64\n",
      " 4   IPTOTSAKD      285 non-null    float64\n",
      " 5   IMPCOV         285 non-null    float64\n",
      " 6   NEER           285 non-null    float64\n",
      " 7   REER           285 non-null    float64\n",
      " 8   RETSALESSA     285 non-null    float64\n",
      " 9   TOTRESV        285 non-null    float64\n",
      " 10  UNEMPSA_       285 non-null    float64\n",
      "dtypes: float64(10), object(1)\n",
      "memory usage: 24.6+ KB\n"
     ]
    }
   ],
   "source": [
    "gem.info()"
   ],
   "metadata": {
    "collapsed": false,
    "ExecuteTime": {
     "end_time": "2024-01-15T05:13:21.640801Z",
     "start_time": "2024-01-15T05:13:21.569547Z"
    }
   }
  },
  {
   "cell_type": "code",
   "execution_count": 415,
   "outputs": [],
   "source": [],
   "metadata": {
    "collapsed": false,
    "ExecuteTime": {
     "end_time": "2024-01-13T22:48:04.226081Z",
     "start_time": "2024-01-13T22:48:04.202260Z"
    }
   }
  },
  {
   "cell_type": "markdown",
   "source": [
    "Construct feature matrix"
   ],
   "metadata": {
    "collapsed": false
   }
  },
  {
   "cell_type": "code",
   "execution_count": 542,
   "outputs": [],
   "source": [
    "# Merge tpu, gpr, gem into the features data\n",
    "merged_data = pd.merge(tpu, gpr, on='period')\n",
    "features = pd.merge(merged_data, gem, on='period')\n",
    "\n",
    "# save to csv\n",
    "features.to_csv('../data/processed/features.csv', index=False)"
   ],
   "metadata": {
    "collapsed": false,
    "ExecuteTime": {
     "end_time": "2024-01-15T05:13:48.789566Z",
     "start_time": "2024-01-15T05:13:48.763326Z"
    }
   }
  },
  {
   "cell_type": "code",
   "execution_count": 543,
   "outputs": [
    {
     "data": {
      "text/plain": "    period        TPU        GPR  CPTOTSAXN  DXGSRMRCHSACD  DMGSRMRCHSACD  \\\n0  2000M01  32.117348  64.457809  76.089042  484771.067659  784349.502592   \n1  2000M02  28.175856  63.541721  76.318397  496700.992153  943444.352810   \n2  2000M03  36.838506  50.101986  76.498010  497995.743462  846133.068963   \n3  2000M04  35.281040  48.682739  76.454511  482444.395690  860083.949923   \n4  2000M05  49.327563  79.482880  76.617165  506354.667550  894550.760808   \n\n      IPTOTSAKD    IMPCOV        NEER        REER  RETSALESSA       TOTRESV  \\\n0  9.967223e+11  2.476091  883.756875  104.048961   61.870157  1.942120e+06   \n1  1.010232e+12  2.063868  896.988312  104.329262   62.339465  1.947145e+06   \n2  1.014447e+12  2.330691  903.555596  104.515925   62.045241  1.972075e+06   \n3  1.018283e+12  2.299383  910.134906  104.679618   60.628472  1.977663e+06   \n4  1.029954e+12  2.225832  931.339312  105.262834   60.970381  1.991119e+06   \n\n   UNEMPSA_  \n0  8.614909  \n1  8.620393  \n2  8.500496  \n3  8.448069  \n4  8.425447  ",
      "text/html": "<div>\n<style scoped>\n    .dataframe tbody tr th:only-of-type {\n        vertical-align: middle;\n    }\n\n    .dataframe tbody tr th {\n        vertical-align: top;\n    }\n\n    .dataframe thead th {\n        text-align: right;\n    }\n</style>\n<table border=\"1\" class=\"dataframe\">\n  <thead>\n    <tr style=\"text-align: right;\">\n      <th></th>\n      <th>period</th>\n      <th>TPU</th>\n      <th>GPR</th>\n      <th>CPTOTSAXN</th>\n      <th>DXGSRMRCHSACD</th>\n      <th>DMGSRMRCHSACD</th>\n      <th>IPTOTSAKD</th>\n      <th>IMPCOV</th>\n      <th>NEER</th>\n      <th>REER</th>\n      <th>RETSALESSA</th>\n      <th>TOTRESV</th>\n      <th>UNEMPSA_</th>\n    </tr>\n  </thead>\n  <tbody>\n    <tr>\n      <th>0</th>\n      <td>2000M01</td>\n      <td>32.117348</td>\n      <td>64.457809</td>\n      <td>76.089042</td>\n      <td>484771.067659</td>\n      <td>784349.502592</td>\n      <td>9.967223e+11</td>\n      <td>2.476091</td>\n      <td>883.756875</td>\n      <td>104.048961</td>\n      <td>61.870157</td>\n      <td>1.942120e+06</td>\n      <td>8.614909</td>\n    </tr>\n    <tr>\n      <th>1</th>\n      <td>2000M02</td>\n      <td>28.175856</td>\n      <td>63.541721</td>\n      <td>76.318397</td>\n      <td>496700.992153</td>\n      <td>943444.352810</td>\n      <td>1.010232e+12</td>\n      <td>2.063868</td>\n      <td>896.988312</td>\n      <td>104.329262</td>\n      <td>62.339465</td>\n      <td>1.947145e+06</td>\n      <td>8.620393</td>\n    </tr>\n    <tr>\n      <th>2</th>\n      <td>2000M03</td>\n      <td>36.838506</td>\n      <td>50.101986</td>\n      <td>76.498010</td>\n      <td>497995.743462</td>\n      <td>846133.068963</td>\n      <td>1.014447e+12</td>\n      <td>2.330691</td>\n      <td>903.555596</td>\n      <td>104.515925</td>\n      <td>62.045241</td>\n      <td>1.972075e+06</td>\n      <td>8.500496</td>\n    </tr>\n    <tr>\n      <th>3</th>\n      <td>2000M04</td>\n      <td>35.281040</td>\n      <td>48.682739</td>\n      <td>76.454511</td>\n      <td>482444.395690</td>\n      <td>860083.949923</td>\n      <td>1.018283e+12</td>\n      <td>2.299383</td>\n      <td>910.134906</td>\n      <td>104.679618</td>\n      <td>60.628472</td>\n      <td>1.977663e+06</td>\n      <td>8.448069</td>\n    </tr>\n    <tr>\n      <th>4</th>\n      <td>2000M05</td>\n      <td>49.327563</td>\n      <td>79.482880</td>\n      <td>76.617165</td>\n      <td>506354.667550</td>\n      <td>894550.760808</td>\n      <td>1.029954e+12</td>\n      <td>2.225832</td>\n      <td>931.339312</td>\n      <td>105.262834</td>\n      <td>60.970381</td>\n      <td>1.991119e+06</td>\n      <td>8.425447</td>\n    </tr>\n  </tbody>\n</table>\n</div>"
     },
     "execution_count": 543,
     "metadata": {},
     "output_type": "execute_result"
    }
   ],
   "source": [
    "features.head()"
   ],
   "metadata": {
    "collapsed": false,
    "ExecuteTime": {
     "end_time": "2024-01-15T05:13:49.283671Z",
     "start_time": "2024-01-15T05:13:49.277150Z"
    }
   }
  },
  {
   "cell_type": "code",
   "execution_count": 544,
   "outputs": [
    {
     "name": "stdout",
     "output_type": "stream",
     "text": [
      "<class 'pandas.core.frame.DataFrame'>\n",
      "RangeIndex: 285 entries, 0 to 284\n",
      "Data columns (total 13 columns):\n",
      " #   Column         Non-Null Count  Dtype  \n",
      "---  ------         --------------  -----  \n",
      " 0   period         285 non-null    object \n",
      " 1   TPU            285 non-null    float64\n",
      " 2   GPR            285 non-null    float64\n",
      " 3   CPTOTSAXN      285 non-null    float64\n",
      " 4   DXGSRMRCHSACD  285 non-null    float64\n",
      " 5   DMGSRMRCHSACD  285 non-null    float64\n",
      " 6   IPTOTSAKD      285 non-null    float64\n",
      " 7   IMPCOV         285 non-null    float64\n",
      " 8   NEER           285 non-null    float64\n",
      " 9   REER           285 non-null    float64\n",
      " 10  RETSALESSA     285 non-null    float64\n",
      " 11  TOTRESV        285 non-null    float64\n",
      " 12  UNEMPSA_       285 non-null    float64\n",
      "dtypes: float64(12), object(1)\n",
      "memory usage: 29.1+ KB\n"
     ]
    }
   ],
   "source": [
    "features.info()"
   ],
   "metadata": {
    "collapsed": false,
    "ExecuteTime": {
     "end_time": "2024-01-15T05:13:49.837910Z",
     "start_time": "2024-01-15T05:13:49.797697Z"
    }
   }
  },
  {
   "cell_type": "code",
   "execution_count": null,
   "outputs": [],
   "source": [],
   "metadata": {
    "collapsed": false
   }
  },
  {
   "cell_type": "markdown",
   "source": [
    "### Get the Iudustry Production data "
   ],
   "metadata": {
    "collapsed": false
   }
  },
  {
   "cell_type": "markdown",
   "source": [
    "IP  https://fred.stlouisfed.org/series/IPHITEK2S"
   ],
   "metadata": {
    "collapsed": false
   }
  },
  {
   "cell_type": "code",
   "execution_count": 546,
   "outputs": [],
   "source": [
    "# Read data\n",
    "ip = pd.read_csv('../data/raw/IPHITEK2S.csv', encoding='unicode_escape')\n",
    "\n",
    "# Rename columns\n",
    "ip = ip.rename(columns={'DATE': 'period','IPHITEK2S':'ip'})\n",
    "\n",
    "# Keep rows only when 'period' matches the format '2000M01' and is between 2000M01 and 2023M09\n",
    "ip['period'] = pd.to_datetime(ip['period']).dt.strftime('%YM%m')\n",
    "ip = ip[(ip['period'] >= '2000M01') & (ip['period'] <= '2023M09')]\n"
   ],
   "metadata": {
    "collapsed": false,
    "ExecuteTime": {
     "end_time": "2024-01-15T05:17:38.401055Z",
     "start_time": "2024-01-15T05:17:38.337911Z"
    }
   }
  },
  {
   "cell_type": "code",
   "execution_count": 548,
   "outputs": [
    {
     "name": "stdout",
     "output_type": "stream",
     "text": [
      "<class 'pandas.core.frame.DataFrame'>\n",
      "Index: 285 entries, 396 to 680\n",
      "Data columns (total 2 columns):\n",
      " #   Column  Non-Null Count  Dtype  \n",
      "---  ------  --------------  -----  \n",
      " 0   period  285 non-null    object \n",
      " 1   ip      285 non-null    float64\n",
      "dtypes: float64(1), object(1)\n",
      "memory usage: 6.7+ KB\n"
     ]
    }
   ],
   "source": [
    "ip.info()"
   ],
   "metadata": {
    "collapsed": false,
    "ExecuteTime": {
     "end_time": "2024-01-15T05:18:08.601549Z",
     "start_time": "2024-01-15T05:18:08.593768Z"
    }
   }
  },
  {
   "cell_type": "code",
   "execution_count": null,
   "outputs": [],
   "source": [
    "# Save to csv\n",
    "ip.to_csv('../data/processed/ip.csv', index = False)"
   ],
   "metadata": {
    "collapsed": false
   }
  }
 ],
 "metadata": {
  "kernelspec": {
   "display_name": "Python 3",
   "language": "python",
   "name": "python3"
  },
  "language_info": {
   "codemirror_mode": {
    "name": "ipython",
    "version": 2
   },
   "file_extension": ".py",
   "mimetype": "text/x-python",
   "name": "python",
   "nbconvert_exporter": "python",
   "pygments_lexer": "ipython2",
   "version": "2.7.6"
  }
 },
 "nbformat": 4,
 "nbformat_minor": 0
}
