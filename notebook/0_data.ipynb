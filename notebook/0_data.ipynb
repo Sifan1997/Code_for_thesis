{
 "cells": [
  {
   "cell_type": "code",
   "execution_count": 1,
   "metadata": {
    "collapsed": true,
    "ExecuteTime": {
     "end_time": "2024-01-10T18:39:25.060479Z",
     "start_time": "2024-01-10T18:39:24.062902Z"
    }
   },
   "outputs": [],
   "source": [
    "import pandas as pd\n",
    "import numpy as np\n",
    "import os\n",
    "import matplotlib.pyplot as plt"
   ]
  },
  {
   "cell_type": "code",
   "execution_count": 1,
   "outputs": [],
   "source": [],
   "metadata": {
    "collapsed": false,
    "ExecuteTime": {
     "end_time": "2024-01-10T18:39:25.060936Z",
     "start_time": "2024-01-10T18:39:25.058282Z"
    }
   }
  },
  {
   "cell_type": "markdown",
   "source": [
    "### Read the monthly trade data from Jan 2000 to Sep 2023"
   ],
   "metadata": {
    "collapsed": false
   }
  },
  {
   "cell_type": "markdown",
   "source": [
    "The time range is that the trade data for most countries are updated till Sep 2023"
   ],
   "metadata": {
    "collapsed": false
   }
  },
  {
   "cell_type": "code",
   "execution_count": 2,
   "outputs": [],
   "source": [
    "# Specify the path to the folder containing CSV files\n",
    "folder_path = '../data/raw/MonthlyTradeData'\n",
    "\n",
    "# Get a list of all files in the folder\n",
    "files = [file for file in os.listdir(folder_path)]\n",
    "\n",
    "# Create an empty list to store DataFrames\n",
    "dfs = []\n",
    "\n",
    "# Loop through each CSV file and read it into a DataFrame\n",
    "for file in files:\n",
    "    file_path = os.path.join(folder_path, file)\n",
    "    df = pd.read_csv(file_path, encoding='unicode_escape')\n",
    "    dfs.append(df)\n",
    "\n",
    "# Concatenate all DataFrames into a single DataFrame if needed\n",
    "monthly_TradeData = pd.concat(dfs)\n",
    "\n",
    "monthly_TradeData = monthly_TradeData[(monthly_TradeData['Period']<=202309)]\n",
    "\n",
    "\n",
    "# Keep the necessary columns\n",
    "monthly_TradeData = monthly_TradeData[['Period','ReporterISO','ReporterDesc','PartnerISO','PartnerDesc','PrimaryValue']]\n",
    "\n",
    "# Save to csv\n",
    "monthly_TradeData.to_csv('../data/processed/monthly_TradeData.csv',index=False)"
   ],
   "metadata": {
    "collapsed": false,
    "ExecuteTime": {
     "end_time": "2024-01-10T18:39:28.178277Z",
     "start_time": "2024-01-10T18:39:25.059480Z"
    }
   }
  },
  {
   "cell_type": "code",
   "execution_count": 3,
   "outputs": [
    {
     "name": "stdout",
     "output_type": "stream",
     "text": [
      "<class 'pandas.core.frame.DataFrame'>\n",
      "Index: 564999 entries, 0 to 37901\n",
      "Data columns (total 6 columns):\n",
      " #   Column        Non-Null Count   Dtype  \n",
      "---  ------        --------------   -----  \n",
      " 0   Period        564999 non-null  int64  \n",
      " 1   ReporterISO   564999 non-null  object \n",
      " 2   ReporterDesc  564999 non-null  object \n",
      " 3   PartnerISO    564999 non-null  object \n",
      " 4   PartnerDesc   564999 non-null  object \n",
      " 5   PrimaryValue  564999 non-null  float64\n",
      "dtypes: float64(1), int64(1), object(4)\n",
      "memory usage: 30.2+ MB\n"
     ]
    }
   ],
   "source": [
    "monthly_TradeData.info()"
   ],
   "metadata": {
    "collapsed": false,
    "ExecuteTime": {
     "end_time": "2024-01-10T18:39:28.226329Z",
     "start_time": "2024-01-10T18:39:28.216717Z"
    }
   }
  },
  {
   "cell_type": "markdown",
   "source": [
    "### Get trade volumn data"
   ],
   "metadata": {
    "collapsed": false
   }
  },
  {
   "cell_type": "code",
   "execution_count": 4,
   "outputs": [],
   "source": [
    "# Get the world monthly trade data\n",
    "\n",
    "world_trade_data = monthly_TradeData[monthly_TradeData['PartnerDesc'] == 'World']\n",
    "world_trade_data = world_trade_data[['Period','ReporterDesc','PrimaryValue']]\n",
    "\n",
    "# Group by 'Period' and sum the 'PrimaryValue' within each period\n",
    "trade_volume = world_trade_data.groupby('Period')['PrimaryValue'].sum().reset_index()\n",
    "\n",
    "# Assuming 'Period' is currently an integer column\n",
    "trade_volume['Period'] = pd.to_datetime(trade_volume['Period'], format='%Y%m')\n",
    "\n",
    "# Extract year and month\n",
    "trade_volume['year'] = trade_volume['Period'].dt.year\n",
    "trade_volume['month'] = trade_volume['Period'].dt.month\n",
    "\n",
    "# Format 'Period' in the desired way\n",
    "trade_volume['period'] = trade_volume['Period'].dt.strftime('%YM%m')\n",
    "\n",
    "# Drop unnecessary columns\n",
    "trade_volume = trade_volume[['period', 'PrimaryValue']]\n",
    "\n",
    "trade_volume.to_csv('../data/processed/trade_volume.csv',index=False)"
   ],
   "metadata": {
    "collapsed": false,
    "ExecuteTime": {
     "end_time": "2024-01-10T18:39:28.295958Z",
     "start_time": "2024-01-10T18:39:28.246218Z"
    }
   }
  },
  {
   "cell_type": "code",
   "execution_count": 4,
   "outputs": [],
   "source": [],
   "metadata": {
    "collapsed": false,
    "ExecuteTime": {
     "end_time": "2024-01-10T18:39:28.296437Z",
     "start_time": "2024-01-10T18:39:28.259687Z"
    }
   }
  },
  {
   "cell_type": "markdown",
   "source": [
    "### Monthly trade data"
   ],
   "metadata": {
    "collapsed": false
   }
  },
  {
   "cell_type": "code",
   "execution_count": 5,
   "outputs": [],
   "source": [
    "# Pre-processing data\n",
    "\n",
    "# Define a function to strip whitespace for categorical values\n",
    "def strip_categorical(value):\n",
    "    if isinstance(value, str):\n",
    "        return value.strip()\n",
    "    return value\n",
    "\n",
    "def replace_and_delete_countries(df):\n",
    "    # Apply the function to the entire DataFrame\n",
    "    df = df.applymap(strip_categorical)\n",
    "    \n",
    "    # Replace \"Other Asia, nes\" (S19) to Taiwan,China (TWM)\n",
    "    df['ReporterISO'] = df['ReporterISO'].replace('S19', 'TWN')\n",
    "    df.loc[df['ReporterISO'] == 'TWN', 'ReporterDesc'] = 'China, Taiwan'\n",
    "    \n",
    "    df['PartnerISO'] = df['PartnerISO'].replace('S19', 'TWN')\n",
    "    df.loc[df['PartnerISO'] == 'TWN', 'PartnerDesc'] = 'China, Taiwan'\n",
    "    \n",
    "    # Delete other desc containing ', nes'\n",
    "    # Replace values containing ', nes' with NaN\n",
    "    df.loc[df['ReporterDesc'].str.contains(', nes', case=False, na=False), 'ReporterDesc'] = np.nan\n",
    "    df.loc[df['PartnerDesc'].str.contains(', nes', case=False, na=False), 'PartnerDesc'] = np.nan\n",
    "    # Delete rows containing Nan\n",
    "    df = df.dropna()\n",
    "    \n",
    "    # Delete 'Free Zone', 'Bunkers', 'Special Categories', 'World', 'Neutral zone' \n",
    "    to_delete = ['Free Zone','Free Zones','Bunkers','Special Categories','World','Neutral Zone']\n",
    "    \n",
    "    # Delete rows where source is in the list of countries\n",
    "    df = df[~df['ReporterDesc'].isin(to_delete)]\n",
    "    # Delete rows where target is in the list of countries\n",
    "    df = df[~df['PartnerDesc'].isin(to_delete)]\n",
    "\n",
    "    return df\n"
   ],
   "metadata": {
    "collapsed": false,
    "ExecuteTime": {
     "end_time": "2024-01-10T18:39:28.296804Z",
     "start_time": "2024-01-10T18:39:28.263420Z"
    }
   }
  },
  {
   "cell_type": "code",
   "execution_count": 6,
   "outputs": [
    {
     "name": "stdout",
     "output_type": "stream",
     "text": [
      "<class 'pandas.core.frame.DataFrame'>\n",
      "Index: 545537 entries, 0 to 37901\n",
      "Data columns (total 6 columns):\n",
      " #   Column        Non-Null Count   Dtype  \n",
      "---  ------        --------------   -----  \n",
      " 0   Period        545537 non-null  int64  \n",
      " 1   ReporterISO   545537 non-null  object \n",
      " 2   ReporterDesc  545537 non-null  object \n",
      " 3   PartnerISO    545537 non-null  object \n",
      " 4   PartnerDesc   545537 non-null  object \n",
      " 5   PrimaryValue  545537 non-null  float64\n",
      "dtypes: float64(1), int64(1), object(4)\n",
      "memory usage: 29.1+ MB\n"
     ]
    }
   ],
   "source": [
    "monthly_TradeData = replace_and_delete_countries(monthly_TradeData)\n",
    "monthly_TradeData.info()\n",
    "\n",
    "# Save to csv\n",
    "monthly_TradeData.to_csv('../data/processed/monthly_TradeData.csv',index=False)"
   ],
   "metadata": {
    "collapsed": false,
    "ExecuteTime": {
     "end_time": "2024-01-10T18:39:29.768269Z",
     "start_time": "2024-01-10T18:39:28.265935Z"
    }
   }
  },
  {
   "cell_type": "code",
   "execution_count": 6,
   "outputs": [],
   "source": [],
   "metadata": {
    "collapsed": false,
    "ExecuteTime": {
     "end_time": "2024-01-10T18:39:29.773280Z",
     "start_time": "2024-01-10T18:39:29.769151Z"
    }
   }
  },
  {
   "cell_type": "code",
   "execution_count": 6,
   "outputs": [],
   "source": [],
   "metadata": {
    "collapsed": false,
    "ExecuteTime": {
     "end_time": "2024-01-10T18:39:29.774261Z",
     "start_time": "2024-01-10T18:39:29.772144Z"
    }
   }
  },
  {
   "cell_type": "markdown",
   "source": [
    "### Get the country list"
   ],
   "metadata": {
    "collapsed": false
   }
  },
  {
   "cell_type": "code",
   "execution_count": 7,
   "outputs": [],
   "source": [
    "# Creaet Appendix for country name and ISO code\n",
    "def get_country_list(df):\n",
    "    df = df[['ReporterISO','ReporterDesc','PartnerISO','PartnerDesc']]\n",
    "\n",
    "    # Obtain the countries in the links\n",
    "    countries_code = pd.concat([df[['ReporterISO']].rename(columns={'ReporterISO': 'ISO'}),df[['PartnerISO']].rename(columns={'PartnerISO': 'ISO'})]).drop_duplicates()\n",
    "    \n",
    "    # Match company info with selected companies\n",
    "    countries = pd.merge(countries_code,df,left_on='ISO', right_on='ReporterISO', how='left')\n",
    "    countries = countries[['ISO','ReporterDesc']].rename(columns={'ReporterDesc':'Name'}).drop_duplicates()\n",
    "    \n",
    "    countries = pd.merge(countries, df, left_on='ISO',right_on='PartnerISO', how='left')\n",
    "    countries = countries[['ISO','PartnerDesc']].rename(columns={'PartnerDesc':'Name'}).drop_duplicates()\n",
    "    \n",
    "    return countries\n",
    "\n"
   ],
   "metadata": {
    "collapsed": false,
    "ExecuteTime": {
     "end_time": "2024-01-10T18:39:29.779784Z",
     "start_time": "2024-01-10T18:39:29.775221Z"
    }
   }
  },
  {
   "cell_type": "code",
   "execution_count": 8,
   "outputs": [],
   "source": [
    "countries = get_country_list(monthly_TradeData)\n",
    "countries.to_csv('../data/processed/countries.csv',index=False, encoding='utf')"
   ],
   "metadata": {
    "collapsed": false,
    "ExecuteTime": {
     "end_time": "2024-01-10T18:39:30.143261Z",
     "start_time": "2024-01-10T18:39:29.778672Z"
    }
   }
  },
  {
   "cell_type": "code",
   "execution_count": 9,
   "outputs": [
    {
     "name": "stdout",
     "output_type": "stream",
     "text": [
      "<class 'pandas.core.frame.DataFrame'>\n",
      "Index: 238 entries, 0 to 545525\n",
      "Data columns (total 2 columns):\n",
      " #   Column  Non-Null Count  Dtype \n",
      "---  ------  --------------  ----- \n",
      " 0   ISO     238 non-null    object\n",
      " 1   Name    238 non-null    object\n",
      "dtypes: object(2)\n",
      "memory usage: 5.6+ KB\n"
     ]
    }
   ],
   "source": [
    "countries.info()\n"
   ],
   "metadata": {
    "collapsed": false,
    "ExecuteTime": {
     "end_time": "2024-01-10T18:39:30.148586Z",
     "start_time": "2024-01-10T18:39:30.145391Z"
    }
   }
  },
  {
   "cell_type": "code",
   "execution_count": 9,
   "outputs": [],
   "source": [],
   "metadata": {
    "collapsed": false,
    "ExecuteTime": {
     "end_time": "2024-01-10T18:39:30.150380Z",
     "start_time": "2024-01-10T18:39:30.148111Z"
    }
   }
  },
  {
   "cell_type": "markdown",
   "source": [
    "### Read EPU DATA"
   ],
   "metadata": {
    "collapsed": false
   }
  },
  {
   "cell_type": "code",
   "execution_count": 156,
   "outputs": [],
   "source": [
    "# Define the range of rows you want to read (37:321)\n",
    "epu = pd.read_excel('../data/raw/Global_Policy_Uncertainty_Data.xlsx').iloc[36:321]\n",
    "\n",
    "# Assuming df is your DataFrame\n",
    "epu['period'] = epu['Year'].astype(str) + 'M' + epu['Month'].astype(int).apply(lambda x: f'{x:02d}')\n",
    "\n",
    "# Select columns\n",
    "epu = epu[[\"period\", \"GEPU_current\"]]\n",
    "\n",
    "epu.to_csv('../data/processed/epu.csv', index=False, encoding='utf')"
   ],
   "metadata": {
    "collapsed": false,
    "ExecuteTime": {
     "end_time": "2024-01-12T08:06:57.539547Z",
     "start_time": "2024-01-12T08:06:57.427467Z"
    }
   }
  },
  {
   "cell_type": "code",
   "execution_count": 157,
   "outputs": [
    {
     "data": {
      "text/plain": "      period  GEPU_current\n36   2000M01     63.738693\n37   2000M02     58.820887\n38   2000M03     61.289983\n39   2000M04     64.557214\n40   2000M05     87.164595\n..       ...           ...\n316  2023M05    228.814279\n317  2023M06    231.438806\n318  2023M07    228.340938\n319  2023M08    213.460434\n320  2023M09    246.491249\n\n[285 rows x 2 columns]",
      "text/html": "<div>\n<style scoped>\n    .dataframe tbody tr th:only-of-type {\n        vertical-align: middle;\n    }\n\n    .dataframe tbody tr th {\n        vertical-align: top;\n    }\n\n    .dataframe thead th {\n        text-align: right;\n    }\n</style>\n<table border=\"1\" class=\"dataframe\">\n  <thead>\n    <tr style=\"text-align: right;\">\n      <th></th>\n      <th>period</th>\n      <th>GEPU_current</th>\n    </tr>\n  </thead>\n  <tbody>\n    <tr>\n      <th>36</th>\n      <td>2000M01</td>\n      <td>63.738693</td>\n    </tr>\n    <tr>\n      <th>37</th>\n      <td>2000M02</td>\n      <td>58.820887</td>\n    </tr>\n    <tr>\n      <th>38</th>\n      <td>2000M03</td>\n      <td>61.289983</td>\n    </tr>\n    <tr>\n      <th>39</th>\n      <td>2000M04</td>\n      <td>64.557214</td>\n    </tr>\n    <tr>\n      <th>40</th>\n      <td>2000M05</td>\n      <td>87.164595</td>\n    </tr>\n    <tr>\n      <th>...</th>\n      <td>...</td>\n      <td>...</td>\n    </tr>\n    <tr>\n      <th>316</th>\n      <td>2023M05</td>\n      <td>228.814279</td>\n    </tr>\n    <tr>\n      <th>317</th>\n      <td>2023M06</td>\n      <td>231.438806</td>\n    </tr>\n    <tr>\n      <th>318</th>\n      <td>2023M07</td>\n      <td>228.340938</td>\n    </tr>\n    <tr>\n      <th>319</th>\n      <td>2023M08</td>\n      <td>213.460434</td>\n    </tr>\n    <tr>\n      <th>320</th>\n      <td>2023M09</td>\n      <td>246.491249</td>\n    </tr>\n  </tbody>\n</table>\n<p>285 rows × 2 columns</p>\n</div>"
     },
     "execution_count": 157,
     "metadata": {},
     "output_type": "execute_result"
    }
   ],
   "source": [
    "epu"
   ],
   "metadata": {
    "collapsed": false,
    "ExecuteTime": {
     "end_time": "2024-01-12T08:06:58.971032Z",
     "start_time": "2024-01-12T08:06:58.958340Z"
    }
   }
  },
  {
   "cell_type": "code",
   "execution_count": 11,
   "outputs": [],
   "source": [],
   "metadata": {
    "collapsed": false,
    "ExecuteTime": {
     "end_time": "2024-01-10T18:39:30.263724Z",
     "start_time": "2024-01-10T18:39:30.260487Z"
    }
   }
  },
  {
   "cell_type": "markdown",
   "source": [
    "### Get economical indicators"
   ],
   "metadata": {
    "collapsed": false
   }
  },
  {
   "cell_type": "code",
   "execution_count": 158,
   "outputs": [],
   "source": [
    "gem = pd.read_excel('../data/raw/P_Data_Extract_From_Global_Economic_Monitor_(GEM).xlsx', sheet_name='Data', index_col=None)\n",
    "gem = gem.transpose().iloc[3:]\n",
    "\n",
    "# Make the first row the columns\n",
    "gem.columns = gem.iloc[0]\n",
    "gem = gem[1:]\n",
    "\n",
    "# Move the existing index to a regular column\n",
    "gem.reset_index(inplace=True)\n",
    "\n",
    "# Rename the column 'Series Code' to 'period'\n",
    "gem = gem.rename(columns={'index': 'period'})"
   ],
   "metadata": {
    "collapsed": false,
    "ExecuteTime": {
     "end_time": "2024-01-12T08:07:03.149807Z",
     "start_time": "2024-01-12T08:07:03.014769Z"
    }
   }
  },
  {
   "cell_type": "code",
   "execution_count": 159,
   "outputs": [],
   "source": [
    "# Keep only the part before the blank in the rows under column 'period'\n",
    "gem['period'] = gem['period'].str.split().str[0]\n",
    "\n",
    "# Keep rows only when 'period' matches the format '2000M01' and is between 2000M01 and 2023M09\n",
    "gem = gem[gem['period'].str.match(r'^\\d{4}M\\d{2}$')]\n",
    "gem = gem[(gem['period'] >= '2000M01') & (gem['period'] <= '2023M09')]\n",
    "\n",
    "# Reset the index\n",
    "gem = gem.reset_index(drop=True)\n",
    "\n",
    "# Replace '..' to NA\n",
    "gem.replace('..', np.nan, inplace=True)\n",
    "\n",
    "# Keep the columns\n",
    "cpi = gem[['period','CPTOTNSXN']] # CPI"
   ],
   "metadata": {
    "collapsed": false,
    "ExecuteTime": {
     "end_time": "2024-01-12T08:07:04.045893Z",
     "start_time": "2024-01-12T08:07:04.039192Z"
    }
   }
  },
  {
   "cell_type": "code",
   "execution_count": 160,
   "outputs": [
    {
     "name": "stdout",
     "output_type": "stream",
     "text": [
      "<class 'pandas.core.frame.DataFrame'>\n",
      "RangeIndex: 285 entries, 0 to 284\n",
      "Data columns (total 2 columns):\n",
      " #   Column     Non-Null Count  Dtype  \n",
      "---  ------     --------------  -----  \n",
      " 0   period     285 non-null    object \n",
      " 1   CPTOTNSXN  285 non-null    float64\n",
      "dtypes: float64(1), object(1)\n",
      "memory usage: 4.6+ KB\n"
     ]
    }
   ],
   "source": [
    "cpi.info()"
   ],
   "metadata": {
    "collapsed": false,
    "ExecuteTime": {
     "end_time": "2024-01-12T08:07:05.306266Z",
     "start_time": "2024-01-12T08:07:05.296031Z"
    }
   }
  },
  {
   "cell_type": "code",
   "execution_count": 161,
   "outputs": [],
   "source": [
    "cpi.to_csv('../data/processed/cpi.csv', index=False, encoding='utf')"
   ],
   "metadata": {
    "collapsed": false,
    "ExecuteTime": {
     "end_time": "2024-01-12T08:07:06.863818Z",
     "start_time": "2024-01-12T08:07:06.850622Z"
    }
   }
  },
  {
   "cell_type": "code",
   "execution_count": null,
   "outputs": [],
   "source": [],
   "metadata": {
    "collapsed": false
   }
  }
 ],
 "metadata": {
  "kernelspec": {
   "display_name": "Python 3",
   "language": "python",
   "name": "python3"
  },
  "language_info": {
   "codemirror_mode": {
    "name": "ipython",
    "version": 2
   },
   "file_extension": ".py",
   "mimetype": "text/x-python",
   "name": "python",
   "nbconvert_exporter": "python",
   "pygments_lexer": "ipython2",
   "version": "2.7.6"
  }
 },
 "nbformat": 4,
 "nbformat_minor": 0
}
