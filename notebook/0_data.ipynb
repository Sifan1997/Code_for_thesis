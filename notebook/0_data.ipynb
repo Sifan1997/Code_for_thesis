{
 "cells": [
  {
   "cell_type": "code",
   "execution_count": 1,
   "metadata": {
    "collapsed": true,
    "ExecuteTime": {
     "end_time": "2024-01-10T18:39:25.060479Z",
     "start_time": "2024-01-10T18:39:24.062902Z"
    }
   },
   "outputs": [],
   "source": [
    "import pandas as pd\n",
    "import numpy as np\n",
    "import os\n",
    "import matplotlib.pyplot as plt"
   ]
  },
  {
   "cell_type": "code",
   "execution_count": 1,
   "outputs": [],
   "source": [],
   "metadata": {
    "collapsed": false,
    "ExecuteTime": {
     "end_time": "2024-01-10T18:39:25.060936Z",
     "start_time": "2024-01-10T18:39:25.058282Z"
    }
   }
  },
  {
   "cell_type": "markdown",
   "source": [
    "### Read the monthly trade data from Jan 2000 to Sep 2023"
   ],
   "metadata": {
    "collapsed": false
   }
  },
  {
   "cell_type": "markdown",
   "source": [
    "The time range is that the trade data for most countries are updated till Sep 2023"
   ],
   "metadata": {
    "collapsed": false
   }
  },
  {
   "cell_type": "code",
   "execution_count": 2,
   "outputs": [],
   "source": [
    "# Specify the path to the folder containing CSV files\n",
    "folder_path = '../data/raw/MonthlyTradeData'\n",
    "\n",
    "# Get a list of all files in the folder\n",
    "files = [file for file in os.listdir(folder_path)]\n",
    "\n",
    "# Create an empty list to store DataFrames\n",
    "dfs = []\n",
    "\n",
    "# Loop through each CSV file and read it into a DataFrame\n",
    "for file in files:\n",
    "    file_path = os.path.join(folder_path, file)\n",
    "    df = pd.read_csv(file_path, encoding='unicode_escape')\n",
    "    dfs.append(df)\n",
    "\n",
    "# Concatenate all DataFrames into a single DataFrame if needed\n",
    "monthly_TradeData = pd.concat(dfs)\n",
    "\n",
    "monthly_TradeData = monthly_TradeData[(monthly_TradeData['Period']<=202309)]\n",
    "\n",
    "\n",
    "# Keep the necessary columns\n",
    "monthly_TradeData = monthly_TradeData[['Period','ReporterISO','ReporterDesc','PartnerISO','PartnerDesc','PrimaryValue']]\n",
    "\n",
    "# Save to csv\n",
    "monthly_TradeData.to_csv('../data/processed/monthly_TradeData.csv',index=False)"
   ],
   "metadata": {
    "collapsed": false,
    "ExecuteTime": {
     "end_time": "2024-01-10T18:39:28.178277Z",
     "start_time": "2024-01-10T18:39:25.059480Z"
    }
   }
  },
  {
   "cell_type": "code",
   "execution_count": 3,
   "outputs": [
    {
     "name": "stdout",
     "output_type": "stream",
     "text": [
      "<class 'pandas.core.frame.DataFrame'>\n",
      "Index: 564999 entries, 0 to 37901\n",
      "Data columns (total 6 columns):\n",
      " #   Column        Non-Null Count   Dtype  \n",
      "---  ------        --------------   -----  \n",
      " 0   Period        564999 non-null  int64  \n",
      " 1   ReporterISO   564999 non-null  object \n",
      " 2   ReporterDesc  564999 non-null  object \n",
      " 3   PartnerISO    564999 non-null  object \n",
      " 4   PartnerDesc   564999 non-null  object \n",
      " 5   PrimaryValue  564999 non-null  float64\n",
      "dtypes: float64(1), int64(1), object(4)\n",
      "memory usage: 30.2+ MB\n"
     ]
    }
   ],
   "source": [
    "monthly_TradeData.info()"
   ],
   "metadata": {
    "collapsed": false,
    "ExecuteTime": {
     "end_time": "2024-01-10T18:39:28.226329Z",
     "start_time": "2024-01-10T18:39:28.216717Z"
    }
   }
  },
  {
   "cell_type": "markdown",
   "source": [
    "### Get trade volumn data"
   ],
   "metadata": {
    "collapsed": false
   }
  },
  {
   "cell_type": "code",
   "execution_count": 4,
   "outputs": [],
   "source": [
    "# Get the world monthly trade data\n",
    "\n",
    "world_trade_data = monthly_TradeData[monthly_TradeData['PartnerDesc'] == 'World']\n",
    "world_trade_data = world_trade_data[['Period','ReporterDesc','PrimaryValue']]\n",
    "\n",
    "# Group by 'Period' and sum the 'PrimaryValue' within each period\n",
    "trade_volume = world_trade_data.groupby('Period')['PrimaryValue'].sum().reset_index()\n",
    "\n",
    "# Assuming 'Period' is currently an integer column\n",
    "trade_volume['Period'] = pd.to_datetime(trade_volume['Period'], format='%Y%m')\n",
    "\n",
    "# Extract year and month\n",
    "trade_volume['year'] = trade_volume['Period'].dt.year\n",
    "trade_volume['month'] = trade_volume['Period'].dt.month\n",
    "\n",
    "# Format 'Period' in the desired way\n",
    "trade_volume['period'] = trade_volume['Period'].dt.strftime('%YM%m')\n",
    "\n",
    "# Drop unnecessary columns\n",
    "trade_volume = trade_volume[['period', 'PrimaryValue']]\n",
    "\n",
    "trade_volume.to_csv('../data/processed/trade_volume.csv',index=False)"
   ],
   "metadata": {
    "collapsed": false,
    "ExecuteTime": {
     "end_time": "2024-01-10T18:39:28.295958Z",
     "start_time": "2024-01-10T18:39:28.246218Z"
    }
   }
  },
  {
   "cell_type": "code",
   "execution_count": 4,
   "outputs": [],
   "source": [],
   "metadata": {
    "collapsed": false,
    "ExecuteTime": {
     "end_time": "2024-01-10T18:39:28.296437Z",
     "start_time": "2024-01-10T18:39:28.259687Z"
    }
   }
  },
  {
   "cell_type": "markdown",
   "source": [
    "### Monthly trade data"
   ],
   "metadata": {
    "collapsed": false
   }
  },
  {
   "cell_type": "code",
   "execution_count": 5,
   "outputs": [],
   "source": [
    "# Pre-processing data\n",
    "\n",
    "# Define a function to strip whitespace for categorical values\n",
    "def strip_categorical(value):\n",
    "    if isinstance(value, str):\n",
    "        return value.strip()\n",
    "    return value\n",
    "\n",
    "def replace_and_delete_countries(df):\n",
    "    # Apply the function to the entire DataFrame\n",
    "    df = df.applymap(strip_categorical)\n",
    "    \n",
    "    # Replace \"Other Asia, nes\" (S19) to Taiwan,China (TWM)\n",
    "    df['ReporterISO'] = df['ReporterISO'].replace('S19', 'TWN')\n",
    "    df.loc[df['ReporterISO'] == 'TWN', 'ReporterDesc'] = 'China, Taiwan'\n",
    "    \n",
    "    df['PartnerISO'] = df['PartnerISO'].replace('S19', 'TWN')\n",
    "    df.loc[df['PartnerISO'] == 'TWN', 'PartnerDesc'] = 'China, Taiwan'\n",
    "    \n",
    "    # Delete other desc containing ', nes'\n",
    "    # Replace values containing ', nes' with NaN\n",
    "    df.loc[df['ReporterDesc'].str.contains(', nes', case=False, na=False), 'ReporterDesc'] = np.nan\n",
    "    df.loc[df['PartnerDesc'].str.contains(', nes', case=False, na=False), 'PartnerDesc'] = np.nan\n",
    "    # Delete rows containing Nan\n",
    "    df = df.dropna()\n",
    "    \n",
    "    # Delete 'Free Zone', 'Bunkers', 'Special Categories', 'World', 'Neutral zone' \n",
    "    to_delete = ['Free Zone','Free Zones','Bunkers','Special Categories','World','Neutral Zone']\n",
    "    \n",
    "    # Delete rows where source is in the list of countries\n",
    "    df = df[~df['ReporterDesc'].isin(to_delete)]\n",
    "    # Delete rows where target is in the list of countries\n",
    "    df = df[~df['PartnerDesc'].isin(to_delete)]\n",
    "\n",
    "    return df\n"
   ],
   "metadata": {
    "collapsed": false,
    "ExecuteTime": {
     "end_time": "2024-01-10T18:39:28.296804Z",
     "start_time": "2024-01-10T18:39:28.263420Z"
    }
   }
  },
  {
   "cell_type": "code",
   "execution_count": 6,
   "outputs": [
    {
     "name": "stdout",
     "output_type": "stream",
     "text": [
      "<class 'pandas.core.frame.DataFrame'>\n",
      "Index: 545537 entries, 0 to 37901\n",
      "Data columns (total 6 columns):\n",
      " #   Column        Non-Null Count   Dtype  \n",
      "---  ------        --------------   -----  \n",
      " 0   Period        545537 non-null  int64  \n",
      " 1   ReporterISO   545537 non-null  object \n",
      " 2   ReporterDesc  545537 non-null  object \n",
      " 3   PartnerISO    545537 non-null  object \n",
      " 4   PartnerDesc   545537 non-null  object \n",
      " 5   PrimaryValue  545537 non-null  float64\n",
      "dtypes: float64(1), int64(1), object(4)\n",
      "memory usage: 29.1+ MB\n"
     ]
    }
   ],
   "source": [
    "monthly_TradeData = replace_and_delete_countries(monthly_TradeData)\n",
    "monthly_TradeData.info()\n",
    "\n",
    "# Save to csv\n",
    "monthly_TradeData.to_csv('../data/processed/monthly_TradeData.csv',index=False)"
   ],
   "metadata": {
    "collapsed": false,
    "ExecuteTime": {
     "end_time": "2024-01-10T18:39:29.768269Z",
     "start_time": "2024-01-10T18:39:28.265935Z"
    }
   }
  },
  {
   "cell_type": "code",
   "execution_count": 6,
   "outputs": [],
   "source": [],
   "metadata": {
    "collapsed": false,
    "ExecuteTime": {
     "end_time": "2024-01-10T18:39:29.773280Z",
     "start_time": "2024-01-10T18:39:29.769151Z"
    }
   }
  },
  {
   "cell_type": "code",
   "execution_count": 6,
   "outputs": [],
   "source": [],
   "metadata": {
    "collapsed": false,
    "ExecuteTime": {
     "end_time": "2024-01-10T18:39:29.774261Z",
     "start_time": "2024-01-10T18:39:29.772144Z"
    }
   }
  },
  {
   "cell_type": "markdown",
   "source": [
    "### Get the country list"
   ],
   "metadata": {
    "collapsed": false
   }
  },
  {
   "cell_type": "code",
   "execution_count": 7,
   "outputs": [],
   "source": [
    "# Creaet Appendix for country name and ISO code\n",
    "def get_country_list(df):\n",
    "    df = df[['ReporterISO','ReporterDesc','PartnerISO','PartnerDesc']]\n",
    "\n",
    "    # Obtain the countries in the links\n",
    "    countries_code = pd.concat([df[['ReporterISO']].rename(columns={'ReporterISO': 'ISO'}),df[['PartnerISO']].rename(columns={'PartnerISO': 'ISO'})]).drop_duplicates()\n",
    "    \n",
    "    # Match company info with selected companies\n",
    "    countries = pd.merge(countries_code,df,left_on='ISO', right_on='ReporterISO', how='left')\n",
    "    countries = countries[['ISO','ReporterDesc']].rename(columns={'ReporterDesc':'Name'}).drop_duplicates()\n",
    "    \n",
    "    countries = pd.merge(countries, df, left_on='ISO',right_on='PartnerISO', how='left')\n",
    "    countries = countries[['ISO','PartnerDesc']].rename(columns={'PartnerDesc':'Name'}).drop_duplicates()\n",
    "    \n",
    "    return countries\n",
    "\n"
   ],
   "metadata": {
    "collapsed": false,
    "ExecuteTime": {
     "end_time": "2024-01-10T18:39:29.779784Z",
     "start_time": "2024-01-10T18:39:29.775221Z"
    }
   }
  },
  {
   "cell_type": "code",
   "execution_count": 8,
   "outputs": [],
   "source": [
    "countries = get_country_list(monthly_TradeData)\n",
    "countries.to_csv('../data/processed/countries.csv',index=False, encoding='utf')"
   ],
   "metadata": {
    "collapsed": false,
    "ExecuteTime": {
     "end_time": "2024-01-10T18:39:30.143261Z",
     "start_time": "2024-01-10T18:39:29.778672Z"
    }
   }
  },
  {
   "cell_type": "code",
   "execution_count": 9,
   "outputs": [
    {
     "name": "stdout",
     "output_type": "stream",
     "text": [
      "<class 'pandas.core.frame.DataFrame'>\n",
      "Index: 238 entries, 0 to 545525\n",
      "Data columns (total 2 columns):\n",
      " #   Column  Non-Null Count  Dtype \n",
      "---  ------  --------------  ----- \n",
      " 0   ISO     238 non-null    object\n",
      " 1   Name    238 non-null    object\n",
      "dtypes: object(2)\n",
      "memory usage: 5.6+ KB\n"
     ]
    }
   ],
   "source": [
    "countries.info()\n"
   ],
   "metadata": {
    "collapsed": false,
    "ExecuteTime": {
     "end_time": "2024-01-10T18:39:30.148586Z",
     "start_time": "2024-01-10T18:39:30.145391Z"
    }
   }
  },
  {
   "cell_type": "code",
   "execution_count": 9,
   "outputs": [],
   "source": [],
   "metadata": {
    "collapsed": false,
    "ExecuteTime": {
     "end_time": "2024-01-10T18:39:30.150380Z",
     "start_time": "2024-01-10T18:39:30.148111Z"
    }
   }
  },
  {
   "cell_type": "markdown",
   "source": [
    "### Read EPU Data https://www.policyuncertainty.com"
   ],
   "metadata": {
    "collapsed": false
   }
  },
  {
   "cell_type": "code",
   "execution_count": 156,
   "outputs": [],
   "source": [
    "# Define the range of rows you want to read (37:321)\n",
    "epu = pd.read_excel('../data/raw/Global_Policy_Uncertainty_Data.xlsx').iloc[36:321]\n",
    "\n",
    "# Assuming df is your DataFrame\n",
    "epu['period'] = epu['Year'].astype(str) + 'M' + epu['Month'].astype(int).apply(lambda x: f'{x:02d}')\n",
    "\n",
    "# Select columns\n",
    "epu = epu[[\"period\", \"GEPU_current\"]]\n",
    "\n",
    "epu.to_csv('../data/processed/epu.csv', index=False, encoding='utf')"
   ],
   "metadata": {
    "collapsed": false,
    "ExecuteTime": {
     "end_time": "2024-01-12T08:06:57.539547Z",
     "start_time": "2024-01-12T08:06:57.427467Z"
    }
   }
  },
  {
   "cell_type": "code",
   "execution_count": 157,
   "outputs": [
    {
     "data": {
      "text/plain": "      period  GEPU_current\n36   2000M01     63.738693\n37   2000M02     58.820887\n38   2000M03     61.289983\n39   2000M04     64.557214\n40   2000M05     87.164595\n..       ...           ...\n316  2023M05    228.814279\n317  2023M06    231.438806\n318  2023M07    228.340938\n319  2023M08    213.460434\n320  2023M09    246.491249\n\n[285 rows x 2 columns]",
      "text/html": "<div>\n<style scoped>\n    .dataframe tbody tr th:only-of-type {\n        vertical-align: middle;\n    }\n\n    .dataframe tbody tr th {\n        vertical-align: top;\n    }\n\n    .dataframe thead th {\n        text-align: right;\n    }\n</style>\n<table border=\"1\" class=\"dataframe\">\n  <thead>\n    <tr style=\"text-align: right;\">\n      <th></th>\n      <th>period</th>\n      <th>GEPU_current</th>\n    </tr>\n  </thead>\n  <tbody>\n    <tr>\n      <th>36</th>\n      <td>2000M01</td>\n      <td>63.738693</td>\n    </tr>\n    <tr>\n      <th>37</th>\n      <td>2000M02</td>\n      <td>58.820887</td>\n    </tr>\n    <tr>\n      <th>38</th>\n      <td>2000M03</td>\n      <td>61.289983</td>\n    </tr>\n    <tr>\n      <th>39</th>\n      <td>2000M04</td>\n      <td>64.557214</td>\n    </tr>\n    <tr>\n      <th>40</th>\n      <td>2000M05</td>\n      <td>87.164595</td>\n    </tr>\n    <tr>\n      <th>...</th>\n      <td>...</td>\n      <td>...</td>\n    </tr>\n    <tr>\n      <th>316</th>\n      <td>2023M05</td>\n      <td>228.814279</td>\n    </tr>\n    <tr>\n      <th>317</th>\n      <td>2023M06</td>\n      <td>231.438806</td>\n    </tr>\n    <tr>\n      <th>318</th>\n      <td>2023M07</td>\n      <td>228.340938</td>\n    </tr>\n    <tr>\n      <th>319</th>\n      <td>2023M08</td>\n      <td>213.460434</td>\n    </tr>\n    <tr>\n      <th>320</th>\n      <td>2023M09</td>\n      <td>246.491249</td>\n    </tr>\n  </tbody>\n</table>\n<p>285 rows × 2 columns</p>\n</div>"
     },
     "execution_count": 157,
     "metadata": {},
     "output_type": "execute_result"
    }
   ],
   "source": [
    "epu"
   ],
   "metadata": {
    "collapsed": false,
    "ExecuteTime": {
     "end_time": "2024-01-12T08:06:58.971032Z",
     "start_time": "2024-01-12T08:06:58.958340Z"
    }
   }
  },
  {
   "cell_type": "code",
   "execution_count": 11,
   "outputs": [],
   "source": [],
   "metadata": {
    "collapsed": false,
    "ExecuteTime": {
     "end_time": "2024-01-10T18:39:30.263724Z",
     "start_time": "2024-01-10T18:39:30.260487Z"
    }
   }
  },
  {
   "cell_type": "markdown",
   "source": [
    "### Get feature data"
   ],
   "metadata": {
    "collapsed": false
   }
  },
  {
   "cell_type": "markdown",
   "source": [
    "TPU -- Trade policy uncertainty index https://www.policyuncertainty.com/global_monthly.html"
   ],
   "metadata": {
    "collapsed": false
   }
  },
  {
   "cell_type": "code",
   "execution_count": 186,
   "outputs": [],
   "source": [
    "tpu = pd.read_excel('../data/raw/tpu_web_latest.xlsx', sheet_name='TPU_MONTHLY', index_col=None)\n",
    "tpu = tpu[['DATE','TPU']]\n",
    "\n",
    "# rename 'month' to 'period'\n",
    "tpu = tpu.rename(columns={'DATE': 'period'})\n",
    "\n",
    "# Keep rows only when 'period' matches the format '2000M01' and is between 2000M01 and 2023M09\n",
    "tpu['period'] = pd.to_datetime(tpu['period']).dt.strftime('%YM%m')\n",
    "tpu = tpu[(tpu['period'] >= '2000M01') & (tpu['period'] <= '2023M09')]"
   ],
   "metadata": {
    "collapsed": false,
    "ExecuteTime": {
     "end_time": "2024-01-12T16:02:09.731092Z",
     "start_time": "2024-01-12T16:02:09.666299Z"
    }
   }
  },
  {
   "cell_type": "code",
   "execution_count": 196,
   "outputs": [
    {
     "name": "stdout",
     "output_type": "stream",
     "text": [
      "<class 'pandas.core.frame.DataFrame'>\n",
      "Index: 285 entries, 480 to 764\n",
      "Data columns (total 2 columns):\n",
      " #   Column  Non-Null Count  Dtype  \n",
      "---  ------  --------------  -----  \n",
      " 0   period  285 non-null    object \n",
      " 1   TPU     285 non-null    float64\n",
      "dtypes: float64(1), object(1)\n",
      "memory usage: 6.7+ KB\n"
     ]
    }
   ],
   "source": [
    "tpu.info()"
   ],
   "metadata": {
    "collapsed": false,
    "ExecuteTime": {
     "end_time": "2024-01-12T16:06:52.157145Z",
     "start_time": "2024-01-12T16:06:52.144729Z"
    }
   }
  },
  {
   "cell_type": "code",
   "execution_count": null,
   "outputs": [],
   "source": [],
   "metadata": {
    "collapsed": false
   }
  },
  {
   "cell_type": "markdown",
   "source": [
    "GPR -- Geopolitical Risk Index https://www.matteoiacoviello.com/gpr.htm"
   ],
   "metadata": {
    "collapsed": false
   }
  },
  {
   "cell_type": "code",
   "execution_count": 184,
   "outputs": [],
   "source": [
    "gpr = pd.read_excel('../data/raw/data_gpr_export.xls', sheet_name='Data', index_col=None)\n",
    "\n",
    "# rename 'month' to 'period'\n",
    "gpr = gpr.rename(columns={'month': 'period'})\n",
    "\n",
    "# Keep rows only when 'period' matches the format '2000M01' and is between 2000M01 and 2023M09\n",
    "gpr['period'] = pd.to_datetime(gpr['period']).dt.strftime('%YM%m')\n",
    "gpr = gpr[(gpr['period'] >= '2000M01') & (gpr['period'] <= '2023M09')]\n"
   ],
   "metadata": {
    "collapsed": false,
    "ExecuteTime": {
     "end_time": "2024-01-12T16:01:32.223641Z",
     "start_time": "2024-01-12T16:01:32.076644Z"
    }
   }
  },
  {
   "cell_type": "code",
   "execution_count": 198,
   "outputs": [
    {
     "data": {
      "text/plain": "       period         GPR        GPRT       GPRA        GPRH       GPRHT  \\\n1200  2000M01   64.457809   65.573601  64.250412   52.966461   60.844524   \n1201  2000M02   63.541721   57.651360  68.082169   54.460442   58.056553   \n1202  2000M03   50.101986   55.030735  40.816406   39.381897   52.421207   \n1203  2000M04   48.682739   53.304905  40.917027   39.660149   53.651951   \n1204  2000M05   79.482880   77.269699  83.227814   60.203789   68.131752   \n...       ...         ...         ...        ...         ...         ...   \n1480  2023M05  109.578575  125.211044  92.322296   85.072197  109.005470   \n1481  2023M06  114.317734  135.593628  96.421173  102.859367  143.600098   \n1482  2023M07  107.562927  124.753227  91.610710   92.695450  127.522690   \n1483  2023M08  105.108551  123.208466  85.469650   75.499611  106.828003   \n1484  2023M09   99.504120  127.283379  69.159340   69.533272   96.874405   \n\n          GPRHA  SHARE_GPR      N10  SHARE_GPRH  ...  GPRHC_SWE  GPRHC_THA  \\\n1200  49.488827   1.933337  33362.0    1.910726  ...   0.048170   0.040141   \n1201  52.426670   1.905860  32951.0    1.964620  ...   0.119068   0.025515   \n1202  27.266571   1.502751  36533.0    1.420673  ...   0.023038   0.015359   \n1203  27.073410   1.460182  33352.0    1.430710  ...   0.041590   0.016636   \n1204  56.935181   2.383997  35193.0    2.171807  ...   0.024221   0.000000   \n...         ...        ...      ...         ...  ...        ...        ...   \n1480  69.918442   3.286682  15791.0    3.068916  ...   0.125628   0.000000   \n1481  90.577881   3.428828  15603.0    3.710575  ...   0.204082   0.018553   \n1482  77.385178   3.226225  15405.0    3.343919  ...   0.410984   0.037362   \n1483  54.451187   3.152609  15733.0    2.723592  ...   0.110416   0.000000   \n1484  56.809864   2.984511  15882.0    2.508361  ...   0.148644   0.055741   \n\n      GPRHC_TUN  GPRHC_TUR  GPRHC_TWN  GPRHC_UKR  GPRHC_USA  GPRHC_VEN  \\\n1200   0.000000   0.056198   0.056198   0.024085   1.742132   0.056198   \n1201   0.000000   0.068039   0.136078   0.025515   1.828542   0.017010   \n1202   0.015359   0.023038   0.230379   0.038397   1.328521   0.015359   \n1203   0.008318   0.016636   0.058227   0.041590   1.380802   0.024954   \n1204   0.024221   0.024221   0.096884   0.032295   2.026482   0.016147   \n...         ...        ...        ...        ...        ...        ...   \n1480   0.017947   0.520459   0.233309   1.758794   3.068916   0.053841   \n1481   0.000000   0.204082   0.445269   2.523191   3.673469   0.018553   \n1482   0.000000   0.597796   0.485709   2.036241   3.325238   0.018681   \n1483   0.036805   0.312845   0.184026   1.472212   2.686787   0.018403   \n1484   0.074322   0.483092   0.204385   1.374954   2.508361   0.074322   \n\n      GPRHC_VNM  GPRHC_ZAF  \n1200   0.016057   0.072254  \n1201   0.034019   0.068039  \n1202   0.061434   0.099831  \n1203   0.049909   0.066545  \n1204   0.056515   0.137252  \n...         ...        ...  \n1480   0.125628   0.179469  \n1481   0.111317   0.185529  \n1482   0.130768   0.112087  \n1483   0.055208   0.165624  \n1484   0.074322   0.111483  \n\n[285 rows x 113 columns]",
      "text/html": "<div>\n<style scoped>\n    .dataframe tbody tr th:only-of-type {\n        vertical-align: middle;\n    }\n\n    .dataframe tbody tr th {\n        vertical-align: top;\n    }\n\n    .dataframe thead th {\n        text-align: right;\n    }\n</style>\n<table border=\"1\" class=\"dataframe\">\n  <thead>\n    <tr style=\"text-align: right;\">\n      <th></th>\n      <th>period</th>\n      <th>GPR</th>\n      <th>GPRT</th>\n      <th>GPRA</th>\n      <th>GPRH</th>\n      <th>GPRHT</th>\n      <th>GPRHA</th>\n      <th>SHARE_GPR</th>\n      <th>N10</th>\n      <th>SHARE_GPRH</th>\n      <th>...</th>\n      <th>GPRHC_SWE</th>\n      <th>GPRHC_THA</th>\n      <th>GPRHC_TUN</th>\n      <th>GPRHC_TUR</th>\n      <th>GPRHC_TWN</th>\n      <th>GPRHC_UKR</th>\n      <th>GPRHC_USA</th>\n      <th>GPRHC_VEN</th>\n      <th>GPRHC_VNM</th>\n      <th>GPRHC_ZAF</th>\n    </tr>\n  </thead>\n  <tbody>\n    <tr>\n      <th>1200</th>\n      <td>2000M01</td>\n      <td>64.457809</td>\n      <td>65.573601</td>\n      <td>64.250412</td>\n      <td>52.966461</td>\n      <td>60.844524</td>\n      <td>49.488827</td>\n      <td>1.933337</td>\n      <td>33362.0</td>\n      <td>1.910726</td>\n      <td>...</td>\n      <td>0.048170</td>\n      <td>0.040141</td>\n      <td>0.000000</td>\n      <td>0.056198</td>\n      <td>0.056198</td>\n      <td>0.024085</td>\n      <td>1.742132</td>\n      <td>0.056198</td>\n      <td>0.016057</td>\n      <td>0.072254</td>\n    </tr>\n    <tr>\n      <th>1201</th>\n      <td>2000M02</td>\n      <td>63.541721</td>\n      <td>57.651360</td>\n      <td>68.082169</td>\n      <td>54.460442</td>\n      <td>58.056553</td>\n      <td>52.426670</td>\n      <td>1.905860</td>\n      <td>32951.0</td>\n      <td>1.964620</td>\n      <td>...</td>\n      <td>0.119068</td>\n      <td>0.025515</td>\n      <td>0.000000</td>\n      <td>0.068039</td>\n      <td>0.136078</td>\n      <td>0.025515</td>\n      <td>1.828542</td>\n      <td>0.017010</td>\n      <td>0.034019</td>\n      <td>0.068039</td>\n    </tr>\n    <tr>\n      <th>1202</th>\n      <td>2000M03</td>\n      <td>50.101986</td>\n      <td>55.030735</td>\n      <td>40.816406</td>\n      <td>39.381897</td>\n      <td>52.421207</td>\n      <td>27.266571</td>\n      <td>1.502751</td>\n      <td>36533.0</td>\n      <td>1.420673</td>\n      <td>...</td>\n      <td>0.023038</td>\n      <td>0.015359</td>\n      <td>0.015359</td>\n      <td>0.023038</td>\n      <td>0.230379</td>\n      <td>0.038397</td>\n      <td>1.328521</td>\n      <td>0.015359</td>\n      <td>0.061434</td>\n      <td>0.099831</td>\n    </tr>\n    <tr>\n      <th>1203</th>\n      <td>2000M04</td>\n      <td>48.682739</td>\n      <td>53.304905</td>\n      <td>40.917027</td>\n      <td>39.660149</td>\n      <td>53.651951</td>\n      <td>27.073410</td>\n      <td>1.460182</td>\n      <td>33352.0</td>\n      <td>1.430710</td>\n      <td>...</td>\n      <td>0.041590</td>\n      <td>0.016636</td>\n      <td>0.008318</td>\n      <td>0.016636</td>\n      <td>0.058227</td>\n      <td>0.041590</td>\n      <td>1.380802</td>\n      <td>0.024954</td>\n      <td>0.049909</td>\n      <td>0.066545</td>\n    </tr>\n    <tr>\n      <th>1204</th>\n      <td>2000M05</td>\n      <td>79.482880</td>\n      <td>77.269699</td>\n      <td>83.227814</td>\n      <td>60.203789</td>\n      <td>68.131752</td>\n      <td>56.935181</td>\n      <td>2.383997</td>\n      <td>35193.0</td>\n      <td>2.171807</td>\n      <td>...</td>\n      <td>0.024221</td>\n      <td>0.000000</td>\n      <td>0.024221</td>\n      <td>0.024221</td>\n      <td>0.096884</td>\n      <td>0.032295</td>\n      <td>2.026482</td>\n      <td>0.016147</td>\n      <td>0.056515</td>\n      <td>0.137252</td>\n    </tr>\n    <tr>\n      <th>...</th>\n      <td>...</td>\n      <td>...</td>\n      <td>...</td>\n      <td>...</td>\n      <td>...</td>\n      <td>...</td>\n      <td>...</td>\n      <td>...</td>\n      <td>...</td>\n      <td>...</td>\n      <td>...</td>\n      <td>...</td>\n      <td>...</td>\n      <td>...</td>\n      <td>...</td>\n      <td>...</td>\n      <td>...</td>\n      <td>...</td>\n      <td>...</td>\n      <td>...</td>\n      <td>...</td>\n    </tr>\n    <tr>\n      <th>1480</th>\n      <td>2023M05</td>\n      <td>109.578575</td>\n      <td>125.211044</td>\n      <td>92.322296</td>\n      <td>85.072197</td>\n      <td>109.005470</td>\n      <td>69.918442</td>\n      <td>3.286682</td>\n      <td>15791.0</td>\n      <td>3.068916</td>\n      <td>...</td>\n      <td>0.125628</td>\n      <td>0.000000</td>\n      <td>0.017947</td>\n      <td>0.520459</td>\n      <td>0.233309</td>\n      <td>1.758794</td>\n      <td>3.068916</td>\n      <td>0.053841</td>\n      <td>0.125628</td>\n      <td>0.179469</td>\n    </tr>\n    <tr>\n      <th>1481</th>\n      <td>2023M06</td>\n      <td>114.317734</td>\n      <td>135.593628</td>\n      <td>96.421173</td>\n      <td>102.859367</td>\n      <td>143.600098</td>\n      <td>90.577881</td>\n      <td>3.428828</td>\n      <td>15603.0</td>\n      <td>3.710575</td>\n      <td>...</td>\n      <td>0.204082</td>\n      <td>0.018553</td>\n      <td>0.000000</td>\n      <td>0.204082</td>\n      <td>0.445269</td>\n      <td>2.523191</td>\n      <td>3.673469</td>\n      <td>0.018553</td>\n      <td>0.111317</td>\n      <td>0.185529</td>\n    </tr>\n    <tr>\n      <th>1482</th>\n      <td>2023M07</td>\n      <td>107.562927</td>\n      <td>124.753227</td>\n      <td>91.610710</td>\n      <td>92.695450</td>\n      <td>127.522690</td>\n      <td>77.385178</td>\n      <td>3.226225</td>\n      <td>15405.0</td>\n      <td>3.343919</td>\n      <td>...</td>\n      <td>0.410984</td>\n      <td>0.037362</td>\n      <td>0.000000</td>\n      <td>0.597796</td>\n      <td>0.485709</td>\n      <td>2.036241</td>\n      <td>3.325238</td>\n      <td>0.018681</td>\n      <td>0.130768</td>\n      <td>0.112087</td>\n    </tr>\n    <tr>\n      <th>1483</th>\n      <td>2023M08</td>\n      <td>105.108551</td>\n      <td>123.208466</td>\n      <td>85.469650</td>\n      <td>75.499611</td>\n      <td>106.828003</td>\n      <td>54.451187</td>\n      <td>3.152609</td>\n      <td>15733.0</td>\n      <td>2.723592</td>\n      <td>...</td>\n      <td>0.110416</td>\n      <td>0.000000</td>\n      <td>0.036805</td>\n      <td>0.312845</td>\n      <td>0.184026</td>\n      <td>1.472212</td>\n      <td>2.686787</td>\n      <td>0.018403</td>\n      <td>0.055208</td>\n      <td>0.165624</td>\n    </tr>\n    <tr>\n      <th>1484</th>\n      <td>2023M09</td>\n      <td>99.504120</td>\n      <td>127.283379</td>\n      <td>69.159340</td>\n      <td>69.533272</td>\n      <td>96.874405</td>\n      <td>56.809864</td>\n      <td>2.984511</td>\n      <td>15882.0</td>\n      <td>2.508361</td>\n      <td>...</td>\n      <td>0.148644</td>\n      <td>0.055741</td>\n      <td>0.074322</td>\n      <td>0.483092</td>\n      <td>0.204385</td>\n      <td>1.374954</td>\n      <td>2.508361</td>\n      <td>0.074322</td>\n      <td>0.074322</td>\n      <td>0.111483</td>\n    </tr>\n  </tbody>\n</table>\n<p>285 rows × 113 columns</p>\n</div>"
     },
     "execution_count": 198,
     "metadata": {},
     "output_type": "execute_result"
    }
   ],
   "source": [
    "gpr.info()"
   ],
   "metadata": {
    "collapsed": false,
    "ExecuteTime": {
     "end_time": "2024-01-12T16:07:18.430684Z",
     "start_time": "2024-01-12T16:07:18.405514Z"
    }
   }
  },
  {
   "cell_type": "code",
   "execution_count": 178,
   "outputs": [],
   "source": [],
   "metadata": {
    "collapsed": false,
    "ExecuteTime": {
     "end_time": "2024-01-12T14:36:02.907391Z",
     "start_time": "2024-01-12T14:36:02.867626Z"
    }
   }
  },
  {
   "cell_type": "markdown",
   "source": [],
   "metadata": {
    "collapsed": false
   }
  },
  {
   "cell_type": "markdown",
   "source": [
    "GEM -- Global economic monitor index https://databank.worldbank.org/source/global-economic-monitor-(gem)#"
   ],
   "metadata": {
    "collapsed": false
   }
  },
  {
   "cell_type": "code",
   "execution_count": 202,
   "outputs": [],
   "source": [
    "gem = pd.read_excel('../data/raw/P_Data_Extract_From_Global_Economic_Monitor_(GEM).xlsx', sheet_name='Data', index_col=None)\n",
    "gem = gem.transpose().iloc[3:]\n",
    "\n",
    "# Make the first row the columns\n",
    "gem.columns = gem.iloc[0]\n",
    "gem = gem[1:]\n",
    "\n",
    "# Move the existing index to a regular column\n",
    "gem.reset_index(inplace=True)\n",
    "\n",
    "# Rename the column 'Series Code' to 'period'\n",
    "gem = gem.rename(columns={'index': 'period'})"
   ],
   "metadata": {
    "collapsed": false,
    "ExecuteTime": {
     "end_time": "2024-01-12T16:10:53.785629Z",
     "start_time": "2024-01-12T16:10:53.637294Z"
    }
   }
  },
  {
   "cell_type": "code",
   "execution_count": 203,
   "outputs": [],
   "source": [
    "# Keep only the part before the blank in the rows under column 'period'\n",
    "gem['period'] = gem['period'].str.split().str[0]\n",
    "\n",
    "# Keep rows only when 'period' matches the format '2000M01' and is between 2000M01 and 2023M09\n",
    "gem = gem[gem['period'].str.match(r'^\\d{4}M\\d{2}$')]\n",
    "gem = gem[(gem['period'] >= '2000M01') & (gem['period'] <= '2023M09')]\n",
    "\n",
    "# Reset the index\n",
    "gem = gem.reset_index(drop=True)\n",
    "\n",
    "# Replace '..' to NA\n",
    "gem.replace('..', np.nan, inplace=True)\n",
    "\n",
    "# Keep the columns\n",
    "gem = gem[['period','CPTOTSAXMZGY', 'CPTOTSAXN','DXGSRMRCHSACD', 'DMGSRMRCHSACD', 'IPTOTSAKD', 'IMPCOV', 'NEER', 'REER', 'RETSALESSA', 'TOTRESV' ,'UNEMPSA_']] "
   ],
   "metadata": {
    "collapsed": false,
    "ExecuteTime": {
     "end_time": "2024-01-12T16:10:54.353729Z",
     "start_time": "2024-01-12T16:10:54.344268Z"
    }
   }
  },
  {
   "cell_type": "code",
   "execution_count": 204,
   "outputs": [
    {
     "name": "stdout",
     "output_type": "stream",
     "text": [
      "<class 'pandas.core.frame.DataFrame'>\n",
      "RangeIndex: 285 entries, 0 to 284\n",
      "Data columns (total 12 columns):\n",
      " #   Column         Non-Null Count  Dtype  \n",
      "---  ------         --------------  -----  \n",
      " 0   period         285 non-null    object \n",
      " 1   CPTOTSAXMZGY   285 non-null    float64\n",
      " 2   CPTOTSAXN      285 non-null    float64\n",
      " 3   DXGSRMRCHSACD  285 non-null    float64\n",
      " 4   DMGSRMRCHSACD  285 non-null    float64\n",
      " 5   IPTOTSAKD      285 non-null    float64\n",
      " 6   IMPCOV         285 non-null    float64\n",
      " 7   NEER           285 non-null    float64\n",
      " 8   REER           285 non-null    float64\n",
      " 9   RETSALESSA     285 non-null    float64\n",
      " 10  TOTRESV        285 non-null    float64\n",
      " 11  UNEMPSA_       285 non-null    float64\n",
      "dtypes: float64(11), object(1)\n",
      "memory usage: 26.8+ KB\n"
     ]
    }
   ],
   "source": [
    "gem.info()"
   ],
   "metadata": {
    "collapsed": false,
    "ExecuteTime": {
     "end_time": "2024-01-12T16:10:55.763053Z",
     "start_time": "2024-01-12T16:10:55.745222Z"
    }
   }
  },
  {
   "cell_type": "code",
   "execution_count": null,
   "outputs": [],
   "source": [],
   "metadata": {
    "collapsed": false
   }
  },
  {
   "cell_type": "markdown",
   "source": [
    "Construct feature matrix"
   ],
   "metadata": {
    "collapsed": false
   }
  },
  {
   "cell_type": "code",
   "execution_count": 210,
   "outputs": [],
   "source": [
    "# merge tpu, gpr, gem into the features data\n",
    "merged_data = pd.merge(tpu, gpr, on='period')\n",
    "features = pd.merge(merged_data, gem, on='period')\n",
    "\n",
    "# save to csv\n",
    "features.to_csv('../data/processed/features.csv', index=False)"
   ],
   "metadata": {
    "collapsed": false,
    "ExecuteTime": {
     "end_time": "2024-01-12T16:12:58.820489Z",
     "start_time": "2024-01-12T16:12:58.781520Z"
    }
   }
  },
  {
   "cell_type": "code",
   "execution_count": 212,
   "outputs": [
    {
     "data": {
      "text/plain": "    period        TPU        GPR       GPRT       GPRA       GPRH      GPRHT  \\\n0  2000M01  32.117348  64.457809  65.573601  64.250412  52.966461  60.844524   \n1  2000M02  28.175856  63.541721  57.651360  68.082169  54.460442  58.056553   \n2  2000M03  36.838506  50.101986  55.030735  40.816406  39.381897  52.421207   \n3  2000M04  35.281040  48.682739  53.304905  40.917027  39.660149  53.651951   \n4  2000M05  49.327563  79.482880  77.269699  83.227814  60.203789  68.131752   \n\n       GPRHA  SHARE_GPR      N10  ...  CPTOTSAXN  DXGSRMRCHSACD  \\\n0  49.488827   1.933337  33362.0  ...  76.089042  484771.067659   \n1  52.426670   1.905860  32951.0  ...  76.318397  496700.992153   \n2  27.266571   1.502751  36533.0  ...  76.498010  497995.743462   \n3  27.073410   1.460182  33352.0  ...  76.454511  482444.395690   \n4  56.935181   2.383997  35193.0  ...  76.617165  506354.667550   \n\n   DMGSRMRCHSACD     IPTOTSAKD    IMPCOV        NEER        REER  RETSALESSA  \\\n0  784349.502592  9.967223e+11  2.476091  883.756875  104.048961   61.870157   \n1  943444.352810  1.010232e+12  2.063868  896.988312  104.329262   62.339465   \n2  846133.068963  1.014447e+12  2.330691  903.555596  104.515925   62.045241   \n3  860083.949923  1.018283e+12  2.299383  910.134906  104.679618   60.628472   \n4  894550.760808  1.029954e+12  2.225832  931.339312  105.262834   60.970381   \n\n        TOTRESV  UNEMPSA_  \n0  1.942120e+06  8.614909  \n1  1.947145e+06  8.620393  \n2  1.972075e+06  8.500496  \n3  1.977663e+06  8.448069  \n4  1.991119e+06  8.425447  \n\n[5 rows x 125 columns]",
      "text/html": "<div>\n<style scoped>\n    .dataframe tbody tr th:only-of-type {\n        vertical-align: middle;\n    }\n\n    .dataframe tbody tr th {\n        vertical-align: top;\n    }\n\n    .dataframe thead th {\n        text-align: right;\n    }\n</style>\n<table border=\"1\" class=\"dataframe\">\n  <thead>\n    <tr style=\"text-align: right;\">\n      <th></th>\n      <th>period</th>\n      <th>TPU</th>\n      <th>GPR</th>\n      <th>GPRT</th>\n      <th>GPRA</th>\n      <th>GPRH</th>\n      <th>GPRHT</th>\n      <th>GPRHA</th>\n      <th>SHARE_GPR</th>\n      <th>N10</th>\n      <th>...</th>\n      <th>CPTOTSAXN</th>\n      <th>DXGSRMRCHSACD</th>\n      <th>DMGSRMRCHSACD</th>\n      <th>IPTOTSAKD</th>\n      <th>IMPCOV</th>\n      <th>NEER</th>\n      <th>REER</th>\n      <th>RETSALESSA</th>\n      <th>TOTRESV</th>\n      <th>UNEMPSA_</th>\n    </tr>\n  </thead>\n  <tbody>\n    <tr>\n      <th>0</th>\n      <td>2000M01</td>\n      <td>32.117348</td>\n      <td>64.457809</td>\n      <td>65.573601</td>\n      <td>64.250412</td>\n      <td>52.966461</td>\n      <td>60.844524</td>\n      <td>49.488827</td>\n      <td>1.933337</td>\n      <td>33362.0</td>\n      <td>...</td>\n      <td>76.089042</td>\n      <td>484771.067659</td>\n      <td>784349.502592</td>\n      <td>9.967223e+11</td>\n      <td>2.476091</td>\n      <td>883.756875</td>\n      <td>104.048961</td>\n      <td>61.870157</td>\n      <td>1.942120e+06</td>\n      <td>8.614909</td>\n    </tr>\n    <tr>\n      <th>1</th>\n      <td>2000M02</td>\n      <td>28.175856</td>\n      <td>63.541721</td>\n      <td>57.651360</td>\n      <td>68.082169</td>\n      <td>54.460442</td>\n      <td>58.056553</td>\n      <td>52.426670</td>\n      <td>1.905860</td>\n      <td>32951.0</td>\n      <td>...</td>\n      <td>76.318397</td>\n      <td>496700.992153</td>\n      <td>943444.352810</td>\n      <td>1.010232e+12</td>\n      <td>2.063868</td>\n      <td>896.988312</td>\n      <td>104.329262</td>\n      <td>62.339465</td>\n      <td>1.947145e+06</td>\n      <td>8.620393</td>\n    </tr>\n    <tr>\n      <th>2</th>\n      <td>2000M03</td>\n      <td>36.838506</td>\n      <td>50.101986</td>\n      <td>55.030735</td>\n      <td>40.816406</td>\n      <td>39.381897</td>\n      <td>52.421207</td>\n      <td>27.266571</td>\n      <td>1.502751</td>\n      <td>36533.0</td>\n      <td>...</td>\n      <td>76.498010</td>\n      <td>497995.743462</td>\n      <td>846133.068963</td>\n      <td>1.014447e+12</td>\n      <td>2.330691</td>\n      <td>903.555596</td>\n      <td>104.515925</td>\n      <td>62.045241</td>\n      <td>1.972075e+06</td>\n      <td>8.500496</td>\n    </tr>\n    <tr>\n      <th>3</th>\n      <td>2000M04</td>\n      <td>35.281040</td>\n      <td>48.682739</td>\n      <td>53.304905</td>\n      <td>40.917027</td>\n      <td>39.660149</td>\n      <td>53.651951</td>\n      <td>27.073410</td>\n      <td>1.460182</td>\n      <td>33352.0</td>\n      <td>...</td>\n      <td>76.454511</td>\n      <td>482444.395690</td>\n      <td>860083.949923</td>\n      <td>1.018283e+12</td>\n      <td>2.299383</td>\n      <td>910.134906</td>\n      <td>104.679618</td>\n      <td>60.628472</td>\n      <td>1.977663e+06</td>\n      <td>8.448069</td>\n    </tr>\n    <tr>\n      <th>4</th>\n      <td>2000M05</td>\n      <td>49.327563</td>\n      <td>79.482880</td>\n      <td>77.269699</td>\n      <td>83.227814</td>\n      <td>60.203789</td>\n      <td>68.131752</td>\n      <td>56.935181</td>\n      <td>2.383997</td>\n      <td>35193.0</td>\n      <td>...</td>\n      <td>76.617165</td>\n      <td>506354.667550</td>\n      <td>894550.760808</td>\n      <td>1.029954e+12</td>\n      <td>2.225832</td>\n      <td>931.339312</td>\n      <td>105.262834</td>\n      <td>60.970381</td>\n      <td>1.991119e+06</td>\n      <td>8.425447</td>\n    </tr>\n  </tbody>\n</table>\n<p>5 rows × 125 columns</p>\n</div>"
     },
     "execution_count": 212,
     "metadata": {},
     "output_type": "execute_result"
    }
   ],
   "source": [
    "features.head()"
   ],
   "metadata": {
    "collapsed": false,
    "ExecuteTime": {
     "end_time": "2024-01-12T16:13:21.284651Z",
     "start_time": "2024-01-12T16:13:21.278881Z"
    }
   }
  },
  {
   "cell_type": "code",
   "execution_count": null,
   "outputs": [],
   "source": [],
   "metadata": {
    "collapsed": false
   }
  }
 ],
 "metadata": {
  "kernelspec": {
   "display_name": "Python 3",
   "language": "python",
   "name": "python3"
  },
  "language_info": {
   "codemirror_mode": {
    "name": "ipython",
    "version": 2
   },
   "file_extension": ".py",
   "mimetype": "text/x-python",
   "name": "python",
   "nbconvert_exporter": "python",
   "pygments_lexer": "ipython2",
   "version": "2.7.6"
  }
 },
 "nbformat": 4,
 "nbformat_minor": 0
}
