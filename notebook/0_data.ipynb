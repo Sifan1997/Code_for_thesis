{
 "cells": [
  {
   "cell_type": "code",
   "execution_count": 397,
   "metadata": {
    "collapsed": true,
    "ExecuteTime": {
     "end_time": "2024-01-13T22:47:56.829467Z",
     "start_time": "2024-01-13T22:47:56.727532Z"
    }
   },
   "outputs": [],
   "source": [
    "import pandas as pd\n",
    "import numpy as np\n",
    "import os\n",
    "from os import listdir\n",
    "\n",
    "import matplotlib.pyplot as plt"
   ]
  },
  {
   "cell_type": "code",
   "execution_count": 397,
   "outputs": [],
   "source": [],
   "metadata": {
    "collapsed": false,
    "ExecuteTime": {
     "end_time": "2024-01-13T22:47:56.849638Z",
     "start_time": "2024-01-13T22:47:56.799544Z"
    }
   }
  },
  {
   "cell_type": "markdown",
   "source": [
    "### Read the monthly trade data from Jan 2000 to Sep 2023"
   ],
   "metadata": {
    "collapsed": false
   }
  },
  {
   "cell_type": "markdown",
   "source": [
    "The time range is that the trade data for most countries are updated till Sep 2023"
   ],
   "metadata": {
    "collapsed": false
   }
  },
  {
   "cell_type": "code",
   "execution_count": 398,
   "outputs": [],
   "source": [
    "# Specify the path to the folder containing CSV files\n",
    "folder_path = '../data/raw/MonthlyTradeData'\n",
    "\n",
    "# Get a list of all files in the folder\n",
    "files = [file for file in os.listdir(folder_path)]\n",
    "\n",
    "# Create an empty list to store DataFrames\n",
    "dfs = []\n",
    "\n",
    "# Loop through each CSV file and read it into a DataFrame\n",
    "for file in files:\n",
    "    file_path = os.path.join(folder_path, file)\n",
    "    df = pd.read_csv(file_path, encoding='unicode_escape')\n",
    "    dfs.append(df)\n",
    "\n",
    "# Concatenate all DataFrames into a single DataFrame if needed\n",
    "monthly_TradeData = pd.concat(dfs)\n",
    "\n",
    "monthly_TradeData = monthly_TradeData[(monthly_TradeData['Period']<=202309)]\n",
    "\n",
    "\n",
    "# Keep the necessary columns\n",
    "monthly_TradeData = monthly_TradeData[['Period','ReporterISO','ReporterDesc','PartnerISO','PartnerDesc','PrimaryValue']]\n",
    "\n",
    "# Save to csv\n",
    "monthly_TradeData.to_csv('../data/processed/monthly_TradeData.csv',index=False)"
   ],
   "metadata": {
    "collapsed": false,
    "ExecuteTime": {
     "end_time": "2024-01-13T22:48:01.023077Z",
     "start_time": "2024-01-13T22:47:56.829322Z"
    }
   }
  },
  {
   "cell_type": "code",
   "execution_count": 399,
   "outputs": [
    {
     "name": "stdout",
     "output_type": "stream",
     "text": [
      "<class 'pandas.core.frame.DataFrame'>\n",
      "Index: 564999 entries, 0 to 37901\n",
      "Data columns (total 6 columns):\n",
      " #   Column        Non-Null Count   Dtype  \n",
      "---  ------        --------------   -----  \n",
      " 0   Period        564999 non-null  int64  \n",
      " 1   ReporterISO   564999 non-null  object \n",
      " 2   ReporterDesc  564999 non-null  object \n",
      " 3   PartnerISO    564999 non-null  object \n",
      " 4   PartnerDesc   564999 non-null  object \n",
      " 5   PrimaryValue  564999 non-null  float64\n",
      "dtypes: float64(1), int64(1), object(4)\n",
      "memory usage: 30.2+ MB\n"
     ]
    }
   ],
   "source": [
    "monthly_TradeData.info()"
   ],
   "metadata": {
    "collapsed": false,
    "ExecuteTime": {
     "end_time": "2024-01-13T22:48:01.089411Z",
     "start_time": "2024-01-13T22:48:01.027603Z"
    }
   }
  },
  {
   "cell_type": "code",
   "execution_count": 400,
   "outputs": [],
   "source": [],
   "metadata": {
    "collapsed": false,
    "ExecuteTime": {
     "end_time": "2024-01-13T22:48:01.204744Z",
     "start_time": "2024-01-13T22:48:01.131756Z"
    }
   }
  },
  {
   "cell_type": "markdown",
   "source": [
    "### Monthly trade data"
   ],
   "metadata": {
    "collapsed": false
   }
  },
  {
   "cell_type": "code",
   "execution_count": 401,
   "outputs": [],
   "source": [
    "# Pre-processing data\n",
    "\n",
    "# Define a function to strip whitespace for categorical values\n",
    "def strip_categorical(value):\n",
    "    if isinstance(value, str):\n",
    "        return value.strip()\n",
    "    return value\n",
    "\n",
    "def replace_and_delete_countries(df):\n",
    "    # Apply the function to the entire DataFrame\n",
    "    df = df.applymap(strip_categorical)\n",
    "    \n",
    "    # Replace \"Other Asia, nes\" (S19) to Taiwan,China (TWM)\n",
    "    df['ReporterISO'] = df['ReporterISO'].replace('S19', 'TWN')\n",
    "    df.loc[df['ReporterISO'] == 'TWN', 'ReporterDesc'] = 'China, Taiwan'\n",
    "    \n",
    "    df['PartnerISO'] = df['PartnerISO'].replace('S19', 'TWN')\n",
    "    df.loc[df['PartnerISO'] == 'TWN', 'PartnerDesc'] = 'China, Taiwan'\n",
    "    \n",
    "    # Delete other desc containing ', nes'\n",
    "    # Replace values containing ', nes' with NaN\n",
    "    df.loc[df['ReporterDesc'].str.contains(', nes', case=False, na=False), 'ReporterDesc'] = np.nan\n",
    "    df.loc[df['PartnerDesc'].str.contains(', nes', case=False, na=False), 'PartnerDesc'] = np.nan\n",
    "    # Delete rows containing Nan\n",
    "    df = df.dropna()\n",
    "    \n",
    "    # Delete 'Free Zone', 'Bunkers', 'Special Categories', 'World', 'Neutral zone' \n",
    "    to_delete = ['Free Zone','Free Zones','Bunkers','Special Categories','World','Neutral Zone']\n",
    "    \n",
    "    # Delete rows where source is in the list of countries\n",
    "    df = df[~df['ReporterDesc'].isin(to_delete)]\n",
    "    # Delete rows where target is in the list of countries\n",
    "    df = df[~df['PartnerDesc'].isin(to_delete)]\n",
    "\n",
    "    return df\n"
   ],
   "metadata": {
    "collapsed": false,
    "ExecuteTime": {
     "end_time": "2024-01-13T22:48:01.205357Z",
     "start_time": "2024-01-13T22:48:01.137941Z"
    }
   }
  },
  {
   "cell_type": "code",
   "execution_count": 402,
   "outputs": [
    {
     "name": "stdout",
     "output_type": "stream",
     "text": [
      "<class 'pandas.core.frame.DataFrame'>\n",
      "Index: 545537 entries, 0 to 37901\n",
      "Data columns (total 6 columns):\n",
      " #   Column        Non-Null Count   Dtype  \n",
      "---  ------        --------------   -----  \n",
      " 0   Period        545537 non-null  int64  \n",
      " 1   ReporterISO   545537 non-null  object \n",
      " 2   ReporterDesc  545537 non-null  object \n",
      " 3   PartnerISO    545537 non-null  object \n",
      " 4   PartnerDesc   545537 non-null  object \n",
      " 5   PrimaryValue  545537 non-null  float64\n",
      "dtypes: float64(1), int64(1), object(4)\n",
      "memory usage: 29.1+ MB\n"
     ]
    }
   ],
   "source": [
    "monthly_TradeData = replace_and_delete_countries(monthly_TradeData)\n",
    "monthly_TradeData.info()\n",
    "\n",
    "# Save to csv\n",
    "monthly_TradeData.to_csv('../data/processed/monthly_TradeData.csv',index=False)"
   ],
   "metadata": {
    "collapsed": false,
    "ExecuteTime": {
     "end_time": "2024-01-13T22:48:02.652729Z",
     "start_time": "2024-01-13T22:48:01.179078Z"
    }
   }
  },
  {
   "cell_type": "code",
   "execution_count": 402,
   "outputs": [],
   "source": [],
   "metadata": {
    "collapsed": false,
    "ExecuteTime": {
     "end_time": "2024-01-13T22:48:02.658773Z",
     "start_time": "2024-01-13T22:48:02.652955Z"
    }
   }
  },
  {
   "cell_type": "code",
   "execution_count": 402,
   "outputs": [],
   "source": [],
   "metadata": {
    "collapsed": false,
    "ExecuteTime": {
     "end_time": "2024-01-13T22:48:02.659598Z",
     "start_time": "2024-01-13T22:48:02.656263Z"
    }
   }
  },
  {
   "cell_type": "markdown",
   "source": [
    "### Get the country list"
   ],
   "metadata": {
    "collapsed": false
   }
  },
  {
   "cell_type": "code",
   "execution_count": 403,
   "outputs": [],
   "source": [
    "# Creaet Appendix for country name and ISO code\n",
    "def get_country_list(df):\n",
    "    df = df[['ReporterISO','ReporterDesc','PartnerISO','PartnerDesc']]\n",
    "\n",
    "    # Obtain the countries in the links\n",
    "    countries_code = pd.concat([df[['ReporterISO']].rename(columns={'ReporterISO': 'ISO'}),df[['PartnerISO']].rename(columns={'PartnerISO': 'ISO'})]).drop_duplicates()\n",
    "    \n",
    "    # Match company info with selected companies\n",
    "    countries = pd.merge(countries_code,df,left_on='ISO', right_on='ReporterISO', how='left')\n",
    "    countries = countries[['ISO','ReporterDesc']].rename(columns={'ReporterDesc':'Name'}).drop_duplicates()\n",
    "    \n",
    "    countries = pd.merge(countries, df, left_on='ISO',right_on='PartnerISO', how='left')\n",
    "    countries = countries[['ISO','PartnerDesc']].rename(columns={'PartnerDesc':'Name'}).drop_duplicates()\n",
    "    \n",
    "    return countries\n",
    "\n"
   ],
   "metadata": {
    "collapsed": false,
    "ExecuteTime": {
     "end_time": "2024-01-13T22:48:02.666398Z",
     "start_time": "2024-01-13T22:48:02.662779Z"
    }
   }
  },
  {
   "cell_type": "code",
   "execution_count": 404,
   "outputs": [],
   "source": [
    "countries = get_country_list(monthly_TradeData)\n",
    "countries.to_csv('../data/processed/countries.csv',index=False, encoding='utf')"
   ],
   "metadata": {
    "collapsed": false,
    "ExecuteTime": {
     "end_time": "2024-01-13T22:48:03.047552Z",
     "start_time": "2024-01-13T22:48:02.666433Z"
    }
   }
  },
  {
   "cell_type": "code",
   "execution_count": 405,
   "outputs": [
    {
     "name": "stdout",
     "output_type": "stream",
     "text": [
      "<class 'pandas.core.frame.DataFrame'>\n",
      "Index: 238 entries, 0 to 545525\n",
      "Data columns (total 2 columns):\n",
      " #   Column  Non-Null Count  Dtype \n",
      "---  ------  --------------  ----- \n",
      " 0   ISO     238 non-null    object\n",
      " 1   Name    238 non-null    object\n",
      "dtypes: object(2)\n",
      "memory usage: 5.6+ KB\n"
     ]
    }
   ],
   "source": [
    "countries.info()\n"
   ],
   "metadata": {
    "collapsed": false,
    "ExecuteTime": {
     "end_time": "2024-01-13T22:48:03.054387Z",
     "start_time": "2024-01-13T22:48:03.049850Z"
    }
   }
  },
  {
   "cell_type": "code",
   "execution_count": 405,
   "outputs": [],
   "source": [],
   "metadata": {
    "collapsed": false,
    "ExecuteTime": {
     "end_time": "2024-01-13T22:48:03.056273Z",
     "start_time": "2024-01-13T22:48:03.052377Z"
    }
   }
  },
  {
   "cell_type": "markdown",
   "source": [
    "\n",
    "Read EPU Data https://www.policyuncertainty.com/global_monthly.html"
   ],
   "metadata": {
    "collapsed": false
   }
  },
  {
   "cell_type": "code",
   "execution_count": 406,
   "outputs": [],
   "source": [
    "# Define the range of rows you want to read (37:321)\n",
    "epu = pd.read_excel('../data/raw/Global_Policy_Uncertainty_Data.xlsx').iloc[36:321]\n",
    "\n",
    "# Assuming df is your DataFrame\n",
    "epu['period'] = epu['Year'].astype(str) + 'M' + epu['Month'].astype(int).apply(lambda x: f'{x:02d}')\n",
    "\n",
    "# Select columns\n",
    "epu = epu[[\"period\", \"GEPU_current\"]]\n",
    "\n",
    "epu.to_csv('../data/processed/epu.csv', index=False, encoding='utf')"
   ],
   "metadata": {
    "collapsed": false,
    "ExecuteTime": {
     "end_time": "2024-01-13T22:48:03.572374Z",
     "start_time": "2024-01-13T22:48:03.057099Z"
    }
   }
  },
  {
   "cell_type": "code",
   "execution_count": 407,
   "outputs": [
    {
     "data": {
      "text/plain": "      period  GEPU_current\n36   2000M01     63.738693\n37   2000M02     58.820887\n38   2000M03     61.289983\n39   2000M04     64.557214\n40   2000M05     87.164595\n..       ...           ...\n316  2023M05    228.814279\n317  2023M06    231.438806\n318  2023M07    228.340938\n319  2023M08    213.460434\n320  2023M09    246.491249\n\n[285 rows x 2 columns]",
      "text/html": "<div>\n<style scoped>\n    .dataframe tbody tr th:only-of-type {\n        vertical-align: middle;\n    }\n\n    .dataframe tbody tr th {\n        vertical-align: top;\n    }\n\n    .dataframe thead th {\n        text-align: right;\n    }\n</style>\n<table border=\"1\" class=\"dataframe\">\n  <thead>\n    <tr style=\"text-align: right;\">\n      <th></th>\n      <th>period</th>\n      <th>GEPU_current</th>\n    </tr>\n  </thead>\n  <tbody>\n    <tr>\n      <th>36</th>\n      <td>2000M01</td>\n      <td>63.738693</td>\n    </tr>\n    <tr>\n      <th>37</th>\n      <td>2000M02</td>\n      <td>58.820887</td>\n    </tr>\n    <tr>\n      <th>38</th>\n      <td>2000M03</td>\n      <td>61.289983</td>\n    </tr>\n    <tr>\n      <th>39</th>\n      <td>2000M04</td>\n      <td>64.557214</td>\n    </tr>\n    <tr>\n      <th>40</th>\n      <td>2000M05</td>\n      <td>87.164595</td>\n    </tr>\n    <tr>\n      <th>...</th>\n      <td>...</td>\n      <td>...</td>\n    </tr>\n    <tr>\n      <th>316</th>\n      <td>2023M05</td>\n      <td>228.814279</td>\n    </tr>\n    <tr>\n      <th>317</th>\n      <td>2023M06</td>\n      <td>231.438806</td>\n    </tr>\n    <tr>\n      <th>318</th>\n      <td>2023M07</td>\n      <td>228.340938</td>\n    </tr>\n    <tr>\n      <th>319</th>\n      <td>2023M08</td>\n      <td>213.460434</td>\n    </tr>\n    <tr>\n      <th>320</th>\n      <td>2023M09</td>\n      <td>246.491249</td>\n    </tr>\n  </tbody>\n</table>\n<p>285 rows × 2 columns</p>\n</div>"
     },
     "execution_count": 407,
     "metadata": {},
     "output_type": "execute_result"
    }
   ],
   "source": [
    "epu"
   ],
   "metadata": {
    "collapsed": false,
    "ExecuteTime": {
     "end_time": "2024-01-13T22:48:03.580657Z",
     "start_time": "2024-01-13T22:48:03.574131Z"
    }
   }
  },
  {
   "cell_type": "code",
   "execution_count": 407,
   "outputs": [],
   "source": [],
   "metadata": {
    "collapsed": false,
    "ExecuteTime": {
     "end_time": "2024-01-13T22:48:03.581449Z",
     "start_time": "2024-01-13T22:48:03.576537Z"
    }
   }
  },
  {
   "cell_type": "markdown",
   "source": [
    "### Get feature data"
   ],
   "metadata": {
    "collapsed": false
   }
  },
  {
   "cell_type": "markdown",
   "source": [
    "TPU -- Trade policy uncertainty index https://www.policyuncertainty.com/trade_cimpr.html"
   ],
   "metadata": {
    "collapsed": false
   }
  },
  {
   "cell_type": "code",
   "execution_count": 408,
   "outputs": [],
   "source": [
    "tpu = pd.read_excel('../data/raw/tpu_web_latest.xlsx', sheet_name='TPU_MONTHLY', index_col=None)\n",
    "tpu = tpu[['DATE','TPU']]\n",
    "\n",
    "# rename 'month' to 'period'\n",
    "tpu = tpu.rename(columns={'DATE': 'period'})\n",
    "\n",
    "# Keep rows only when 'period' matches the format '2000M01' and is between 2000M01 and 2023M09\n",
    "tpu['period'] = pd.to_datetime(tpu['period']).dt.strftime('%YM%m')\n",
    "tpu = tpu[(tpu['period'] >= '2000M01') & (tpu['period'] <= '2023M09')]"
   ],
   "metadata": {
    "collapsed": false,
    "ExecuteTime": {
     "end_time": "2024-01-13T22:48:04.041570Z",
     "start_time": "2024-01-13T22:48:03.580949Z"
    }
   }
  },
  {
   "cell_type": "code",
   "execution_count": 409,
   "outputs": [
    {
     "name": "stdout",
     "output_type": "stream",
     "text": [
      "<class 'pandas.core.frame.DataFrame'>\n",
      "Index: 285 entries, 480 to 764\n",
      "Data columns (total 2 columns):\n",
      " #   Column  Non-Null Count  Dtype  \n",
      "---  ------  --------------  -----  \n",
      " 0   period  285 non-null    object \n",
      " 1   TPU     285 non-null    float64\n",
      "dtypes: float64(1), object(1)\n",
      "memory usage: 6.7+ KB\n"
     ]
    }
   ],
   "source": [
    "tpu.info()"
   ],
   "metadata": {
    "collapsed": false,
    "ExecuteTime": {
     "end_time": "2024-01-13T22:48:04.093243Z",
     "start_time": "2024-01-13T22:48:03.635033Z"
    }
   }
  },
  {
   "cell_type": "code",
   "execution_count": 409,
   "outputs": [],
   "source": [],
   "metadata": {
    "collapsed": false,
    "ExecuteTime": {
     "end_time": "2024-01-13T22:48:04.105483Z",
     "start_time": "2024-01-13T22:48:03.637761Z"
    }
   }
  },
  {
   "cell_type": "markdown",
   "source": [
    "GPR -- Geopolitical Risk Index https://www.matteoiacoviello.com/gpr.htm"
   ],
   "metadata": {
    "collapsed": false
   }
  },
  {
   "cell_type": "code",
   "execution_count": 410,
   "outputs": [],
   "source": [
    "gpr = pd.read_excel('../data/raw/data_gpr_export.xls', sheet_name='Data', index_col=None)\n",
    "\n",
    "# rename 'month' to 'period'\n",
    "gpr = gpr.rename(columns={'month': 'period'})\n",
    "\n",
    "# Keep rows only when 'period' matches the format '2000M01' and is between 2000M01 and 2023M09\n",
    "gpr['period'] = pd.to_datetime(gpr['period']).dt.strftime('%YM%m')\n",
    "gpr = gpr[(gpr['period'] >= '2000M01') & (gpr['period'] <= '2023M09')]\n",
    "\n",
    "# don't keep country specific index\n",
    "gpr = gpr[['period', 'GPR']]"
   ],
   "metadata": {
    "collapsed": false,
    "ExecuteTime": {
     "end_time": "2024-01-13T22:48:04.153050Z",
     "start_time": "2024-01-13T22:48:03.640156Z"
    }
   }
  },
  {
   "cell_type": "code",
   "execution_count": 411,
   "outputs": [
    {
     "data": {
      "text/plain": "       period         GPR\n1200  2000M01   64.457809\n1201  2000M02   63.541721\n1202  2000M03   50.101986\n1203  2000M04   48.682739\n1204  2000M05   79.482880\n...       ...         ...\n1480  2023M05  109.578575\n1481  2023M06  114.317734\n1482  2023M07  107.562927\n1483  2023M08  105.108551\n1484  2023M09   99.504120\n\n[285 rows x 2 columns]",
      "text/html": "<div>\n<style scoped>\n    .dataframe tbody tr th:only-of-type {\n        vertical-align: middle;\n    }\n\n    .dataframe tbody tr th {\n        vertical-align: top;\n    }\n\n    .dataframe thead th {\n        text-align: right;\n    }\n</style>\n<table border=\"1\" class=\"dataframe\">\n  <thead>\n    <tr style=\"text-align: right;\">\n      <th></th>\n      <th>period</th>\n      <th>GPR</th>\n    </tr>\n  </thead>\n  <tbody>\n    <tr>\n      <th>1200</th>\n      <td>2000M01</td>\n      <td>64.457809</td>\n    </tr>\n    <tr>\n      <th>1201</th>\n      <td>2000M02</td>\n      <td>63.541721</td>\n    </tr>\n    <tr>\n      <th>1202</th>\n      <td>2000M03</td>\n      <td>50.101986</td>\n    </tr>\n    <tr>\n      <th>1203</th>\n      <td>2000M04</td>\n      <td>48.682739</td>\n    </tr>\n    <tr>\n      <th>1204</th>\n      <td>2000M05</td>\n      <td>79.482880</td>\n    </tr>\n    <tr>\n      <th>...</th>\n      <td>...</td>\n      <td>...</td>\n    </tr>\n    <tr>\n      <th>1480</th>\n      <td>2023M05</td>\n      <td>109.578575</td>\n    </tr>\n    <tr>\n      <th>1481</th>\n      <td>2023M06</td>\n      <td>114.317734</td>\n    </tr>\n    <tr>\n      <th>1482</th>\n      <td>2023M07</td>\n      <td>107.562927</td>\n    </tr>\n    <tr>\n      <th>1483</th>\n      <td>2023M08</td>\n      <td>105.108551</td>\n    </tr>\n    <tr>\n      <th>1484</th>\n      <td>2023M09</td>\n      <td>99.504120</td>\n    </tr>\n  </tbody>\n</table>\n<p>285 rows × 2 columns</p>\n</div>"
     },
     "execution_count": 411,
     "metadata": {},
     "output_type": "execute_result"
    }
   ],
   "source": [
    "gpr"
   ],
   "metadata": {
    "collapsed": false,
    "ExecuteTime": {
     "end_time": "2024-01-13T22:48:04.155627Z",
     "start_time": "2024-01-13T22:48:03.768425Z"
    }
   }
  },
  {
   "cell_type": "code",
   "execution_count": 411,
   "outputs": [],
   "source": [],
   "metadata": {
    "collapsed": false,
    "ExecuteTime": {
     "end_time": "2024-01-13T22:48:04.156514Z",
     "start_time": "2024-01-13T22:48:03.770724Z"
    }
   }
  },
  {
   "cell_type": "markdown",
   "source": [],
   "metadata": {
    "collapsed": false
   }
  },
  {
   "cell_type": "markdown",
   "source": [
    "GEM -- Global economic monitor index https://databank.worldbank.org/source/global-economic-monitor-(gem)#"
   ],
   "metadata": {
    "collapsed": false
   }
  },
  {
   "cell_type": "code",
   "execution_count": 412,
   "outputs": [],
   "source": [
    "gem = pd.read_excel('../data/raw/P_Data_Extract_From_Global_Economic_Monitor_(GEM).xlsx', sheet_name='Data', index_col=None)\n",
    "gem = gem.transpose().iloc[3:]\n",
    "\n",
    "# Make the first row the columns\n",
    "gem.columns = gem.iloc[0]\n",
    "gem = gem[1:]\n",
    "\n",
    "# Move the existing index to a regular column\n",
    "gem.reset_index(inplace=True)\n",
    "\n",
    "# Rename the column 'Series Code' to 'period'\n",
    "gem = gem.rename(columns={'index': 'period'})"
   ],
   "metadata": {
    "collapsed": false,
    "ExecuteTime": {
     "end_time": "2024-01-13T22:48:04.201662Z",
     "start_time": "2024-01-13T22:48:03.773401Z"
    }
   }
  },
  {
   "cell_type": "code",
   "execution_count": 413,
   "outputs": [],
   "source": [
    "# Keep only the part before the blank in the rows under column 'period'\n",
    "gem['period'] = gem['period'].str.split().str[0]\n",
    "\n",
    "# Keep rows only when 'period' matches the format '2000M01' and is between 2000M01 and 2023M09\n",
    "gem = gem[gem['period'].str.match(r'^\\d{4}M\\d{2}$')]\n",
    "gem = gem[(gem['period'] >= '2000M01') & (gem['period'] <= '2023M09')]\n",
    "\n",
    "# Reset the index\n",
    "gem = gem.reset_index(drop=True)\n",
    "\n",
    "# Replace '..' to NA\n",
    "gem.replace('..', np.nan, inplace=True)\n",
    "\n",
    "# Keep the columns\n",
    "gem = gem[['period','CPTOTSAXN','DXGSRMRCHSACD', 'DMGSRMRCHSACD', 'IPTOTSAKD', 'IMPCOV', 'NEER', 'REER', 'RETSALESSA', 'TOTRESV' ,'UNEMPSA_']] \n"
   ],
   "metadata": {
    "collapsed": false,
    "ExecuteTime": {
     "end_time": "2024-01-13T22:48:04.213801Z",
     "start_time": "2024-01-13T22:48:04.166409Z"
    }
   }
  },
  {
   "cell_type": "code",
   "execution_count": 414,
   "outputs": [
    {
     "name": "stdout",
     "output_type": "stream",
     "text": [
      "<class 'pandas.core.frame.DataFrame'>\n",
      "RangeIndex: 285 entries, 0 to 284\n",
      "Data columns (total 11 columns):\n",
      " #   Column         Non-Null Count  Dtype  \n",
      "---  ------         --------------  -----  \n",
      " 0   period         285 non-null    object \n",
      " 1   CPTOTSAXN      285 non-null    float64\n",
      " 2   DXGSRMRCHSACD  285 non-null    float64\n",
      " 3   DMGSRMRCHSACD  285 non-null    float64\n",
      " 4   IPTOTSAKD      285 non-null    float64\n",
      " 5   IMPCOV         285 non-null    float64\n",
      " 6   NEER           285 non-null    float64\n",
      " 7   REER           285 non-null    float64\n",
      " 8   RETSALESSA     285 non-null    float64\n",
      " 9   TOTRESV        285 non-null    float64\n",
      " 10  UNEMPSA_       285 non-null    float64\n",
      "dtypes: float64(10), object(1)\n",
      "memory usage: 24.6+ KB\n"
     ]
    }
   ],
   "source": [
    "gem.info()"
   ],
   "metadata": {
    "collapsed": false,
    "ExecuteTime": {
     "end_time": "2024-01-13T22:48:04.214694Z",
     "start_time": "2024-01-13T22:48:04.178838Z"
    }
   }
  },
  {
   "cell_type": "code",
   "execution_count": 415,
   "outputs": [
    {
     "data": {
      "text/plain": "Series Code   period  CPTOTSAXN  DXGSRMRCHSACD  DMGSRMRCHSACD     IPTOTSAKD  \\\n0            2000M01  76.089042  484771.067659  784349.502592  9.967223e+11   \n1            2000M02  76.318397  496700.992153  943444.352810  1.010232e+12   \n2            2000M03  76.498010  497995.743462  846133.068963  1.014447e+12   \n3            2000M04  76.454511  482444.395690  860083.949923  1.018283e+12   \n4            2000M05  76.617165  506354.667550  894550.760808  1.029954e+12   \n\nSeries Code    IMPCOV        NEER        REER  RETSALESSA       TOTRESV  \\\n0            2.476091  883.756875  104.048961   61.870157  1.942120e+06   \n1            2.063868  896.988312  104.329262   62.339465  1.947145e+06   \n2            2.330691  903.555596  104.515925   62.045241  1.972075e+06   \n3            2.299383  910.134906  104.679618   60.628472  1.977663e+06   \n4            2.225832  931.339312  105.262834   60.970381  1.991119e+06   \n\nSeries Code  UNEMPSA_  \n0            8.614909  \n1            8.620393  \n2            8.500496  \n3            8.448069  \n4            8.425447  ",
      "text/html": "<div>\n<style scoped>\n    .dataframe tbody tr th:only-of-type {\n        vertical-align: middle;\n    }\n\n    .dataframe tbody tr th {\n        vertical-align: top;\n    }\n\n    .dataframe thead th {\n        text-align: right;\n    }\n</style>\n<table border=\"1\" class=\"dataframe\">\n  <thead>\n    <tr style=\"text-align: right;\">\n      <th>Series Code</th>\n      <th>period</th>\n      <th>CPTOTSAXN</th>\n      <th>DXGSRMRCHSACD</th>\n      <th>DMGSRMRCHSACD</th>\n      <th>IPTOTSAKD</th>\n      <th>IMPCOV</th>\n      <th>NEER</th>\n      <th>REER</th>\n      <th>RETSALESSA</th>\n      <th>TOTRESV</th>\n      <th>UNEMPSA_</th>\n    </tr>\n  </thead>\n  <tbody>\n    <tr>\n      <th>0</th>\n      <td>2000M01</td>\n      <td>76.089042</td>\n      <td>484771.067659</td>\n      <td>784349.502592</td>\n      <td>9.967223e+11</td>\n      <td>2.476091</td>\n      <td>883.756875</td>\n      <td>104.048961</td>\n      <td>61.870157</td>\n      <td>1.942120e+06</td>\n      <td>8.614909</td>\n    </tr>\n    <tr>\n      <th>1</th>\n      <td>2000M02</td>\n      <td>76.318397</td>\n      <td>496700.992153</td>\n      <td>943444.352810</td>\n      <td>1.010232e+12</td>\n      <td>2.063868</td>\n      <td>896.988312</td>\n      <td>104.329262</td>\n      <td>62.339465</td>\n      <td>1.947145e+06</td>\n      <td>8.620393</td>\n    </tr>\n    <tr>\n      <th>2</th>\n      <td>2000M03</td>\n      <td>76.498010</td>\n      <td>497995.743462</td>\n      <td>846133.068963</td>\n      <td>1.014447e+12</td>\n      <td>2.330691</td>\n      <td>903.555596</td>\n      <td>104.515925</td>\n      <td>62.045241</td>\n      <td>1.972075e+06</td>\n      <td>8.500496</td>\n    </tr>\n    <tr>\n      <th>3</th>\n      <td>2000M04</td>\n      <td>76.454511</td>\n      <td>482444.395690</td>\n      <td>860083.949923</td>\n      <td>1.018283e+12</td>\n      <td>2.299383</td>\n      <td>910.134906</td>\n      <td>104.679618</td>\n      <td>60.628472</td>\n      <td>1.977663e+06</td>\n      <td>8.448069</td>\n    </tr>\n    <tr>\n      <th>4</th>\n      <td>2000M05</td>\n      <td>76.617165</td>\n      <td>506354.667550</td>\n      <td>894550.760808</td>\n      <td>1.029954e+12</td>\n      <td>2.225832</td>\n      <td>931.339312</td>\n      <td>105.262834</td>\n      <td>60.970381</td>\n      <td>1.991119e+06</td>\n      <td>8.425447</td>\n    </tr>\n  </tbody>\n</table>\n</div>"
     },
     "execution_count": 415,
     "metadata": {},
     "output_type": "execute_result"
    }
   ],
   "source": [
    "gem.head()"
   ],
   "metadata": {
    "collapsed": false,
    "ExecuteTime": {
     "end_time": "2024-01-13T22:48:04.217182Z",
     "start_time": "2024-01-13T22:48:04.194394Z"
    }
   }
  },
  {
   "cell_type": "code",
   "execution_count": 415,
   "outputs": [],
   "source": [],
   "metadata": {
    "collapsed": false,
    "ExecuteTime": {
     "end_time": "2024-01-13T22:48:04.226081Z",
     "start_time": "2024-01-13T22:48:04.202260Z"
    }
   }
  },
  {
   "cell_type": "markdown",
   "source": [
    "Construct feature matrix"
   ],
   "metadata": {
    "collapsed": false
   }
  },
  {
   "cell_type": "code",
   "execution_count": 416,
   "outputs": [],
   "source": [
    "# merge tpu, gpr, gem into the features data\n",
    "merged_data = pd.merge(tpu, gpr, on='period')\n",
    "features = pd.merge(merged_data, gem, on='period')\n",
    "\n",
    "# save to csv\n",
    "features.to_csv('../data/processed/features.csv', index=False)"
   ],
   "metadata": {
    "collapsed": false,
    "ExecuteTime": {
     "end_time": "2024-01-13T22:48:04.238683Z",
     "start_time": "2024-01-13T22:48:04.206404Z"
    }
   }
  },
  {
   "cell_type": "code",
   "execution_count": 417,
   "outputs": [
    {
     "data": {
      "text/plain": "    period        TPU        GPR  CPTOTSAXN  DXGSRMRCHSACD  DMGSRMRCHSACD  \\\n0  2000M01  32.117348  64.457809  76.089042  484771.067659  784349.502592   \n1  2000M02  28.175856  63.541721  76.318397  496700.992153  943444.352810   \n2  2000M03  36.838506  50.101986  76.498010  497995.743462  846133.068963   \n3  2000M04  35.281040  48.682739  76.454511  482444.395690  860083.949923   \n4  2000M05  49.327563  79.482880  76.617165  506354.667550  894550.760808   \n\n      IPTOTSAKD    IMPCOV        NEER        REER  RETSALESSA       TOTRESV  \\\n0  9.967223e+11  2.476091  883.756875  104.048961   61.870157  1.942120e+06   \n1  1.010232e+12  2.063868  896.988312  104.329262   62.339465  1.947145e+06   \n2  1.014447e+12  2.330691  903.555596  104.515925   62.045241  1.972075e+06   \n3  1.018283e+12  2.299383  910.134906  104.679618   60.628472  1.977663e+06   \n4  1.029954e+12  2.225832  931.339312  105.262834   60.970381  1.991119e+06   \n\n   UNEMPSA_  \n0  8.614909  \n1  8.620393  \n2  8.500496  \n3  8.448069  \n4  8.425447  ",
      "text/html": "<div>\n<style scoped>\n    .dataframe tbody tr th:only-of-type {\n        vertical-align: middle;\n    }\n\n    .dataframe tbody tr th {\n        vertical-align: top;\n    }\n\n    .dataframe thead th {\n        text-align: right;\n    }\n</style>\n<table border=\"1\" class=\"dataframe\">\n  <thead>\n    <tr style=\"text-align: right;\">\n      <th></th>\n      <th>period</th>\n      <th>TPU</th>\n      <th>GPR</th>\n      <th>CPTOTSAXN</th>\n      <th>DXGSRMRCHSACD</th>\n      <th>DMGSRMRCHSACD</th>\n      <th>IPTOTSAKD</th>\n      <th>IMPCOV</th>\n      <th>NEER</th>\n      <th>REER</th>\n      <th>RETSALESSA</th>\n      <th>TOTRESV</th>\n      <th>UNEMPSA_</th>\n    </tr>\n  </thead>\n  <tbody>\n    <tr>\n      <th>0</th>\n      <td>2000M01</td>\n      <td>32.117348</td>\n      <td>64.457809</td>\n      <td>76.089042</td>\n      <td>484771.067659</td>\n      <td>784349.502592</td>\n      <td>9.967223e+11</td>\n      <td>2.476091</td>\n      <td>883.756875</td>\n      <td>104.048961</td>\n      <td>61.870157</td>\n      <td>1.942120e+06</td>\n      <td>8.614909</td>\n    </tr>\n    <tr>\n      <th>1</th>\n      <td>2000M02</td>\n      <td>28.175856</td>\n      <td>63.541721</td>\n      <td>76.318397</td>\n      <td>496700.992153</td>\n      <td>943444.352810</td>\n      <td>1.010232e+12</td>\n      <td>2.063868</td>\n      <td>896.988312</td>\n      <td>104.329262</td>\n      <td>62.339465</td>\n      <td>1.947145e+06</td>\n      <td>8.620393</td>\n    </tr>\n    <tr>\n      <th>2</th>\n      <td>2000M03</td>\n      <td>36.838506</td>\n      <td>50.101986</td>\n      <td>76.498010</td>\n      <td>497995.743462</td>\n      <td>846133.068963</td>\n      <td>1.014447e+12</td>\n      <td>2.330691</td>\n      <td>903.555596</td>\n      <td>104.515925</td>\n      <td>62.045241</td>\n      <td>1.972075e+06</td>\n      <td>8.500496</td>\n    </tr>\n    <tr>\n      <th>3</th>\n      <td>2000M04</td>\n      <td>35.281040</td>\n      <td>48.682739</td>\n      <td>76.454511</td>\n      <td>482444.395690</td>\n      <td>860083.949923</td>\n      <td>1.018283e+12</td>\n      <td>2.299383</td>\n      <td>910.134906</td>\n      <td>104.679618</td>\n      <td>60.628472</td>\n      <td>1.977663e+06</td>\n      <td>8.448069</td>\n    </tr>\n    <tr>\n      <th>4</th>\n      <td>2000M05</td>\n      <td>49.327563</td>\n      <td>79.482880</td>\n      <td>76.617165</td>\n      <td>506354.667550</td>\n      <td>894550.760808</td>\n      <td>1.029954e+12</td>\n      <td>2.225832</td>\n      <td>931.339312</td>\n      <td>105.262834</td>\n      <td>60.970381</td>\n      <td>1.991119e+06</td>\n      <td>8.425447</td>\n    </tr>\n  </tbody>\n</table>\n</div>"
     },
     "execution_count": 417,
     "metadata": {},
     "output_type": "execute_result"
    }
   ],
   "source": [
    "features.head()"
   ],
   "metadata": {
    "collapsed": false,
    "ExecuteTime": {
     "end_time": "2024-01-13T22:48:04.242049Z",
     "start_time": "2024-01-13T22:48:04.219276Z"
    }
   }
  },
  {
   "cell_type": "code",
   "execution_count": 418,
   "outputs": [
    {
     "name": "stdout",
     "output_type": "stream",
     "text": [
      "<class 'pandas.core.frame.DataFrame'>\n",
      "RangeIndex: 285 entries, 0 to 284\n",
      "Data columns (total 13 columns):\n",
      " #   Column         Non-Null Count  Dtype  \n",
      "---  ------         --------------  -----  \n",
      " 0   period         285 non-null    object \n",
      " 1   TPU            285 non-null    float64\n",
      " 2   GPR            285 non-null    float64\n",
      " 3   CPTOTSAXN      285 non-null    float64\n",
      " 4   DXGSRMRCHSACD  285 non-null    float64\n",
      " 5   DMGSRMRCHSACD  285 non-null    float64\n",
      " 6   IPTOTSAKD      285 non-null    float64\n",
      " 7   IMPCOV         285 non-null    float64\n",
      " 8   NEER           285 non-null    float64\n",
      " 9   REER           285 non-null    float64\n",
      " 10  RETSALESSA     285 non-null    float64\n",
      " 11  TOTRESV        285 non-null    float64\n",
      " 12  UNEMPSA_       285 non-null    float64\n",
      "dtypes: float64(12), object(1)\n",
      "memory usage: 29.1+ KB\n"
     ]
    }
   ],
   "source": [
    "features.info()"
   ],
   "metadata": {
    "collapsed": false,
    "ExecuteTime": {
     "end_time": "2024-01-13T22:48:04.262699Z",
     "start_time": "2024-01-13T22:48:04.225010Z"
    }
   }
  },
  {
   "cell_type": "code",
   "execution_count": 418,
   "outputs": [],
   "source": [],
   "metadata": {
    "collapsed": false,
    "ExecuteTime": {
     "end_time": "2024-01-13T22:48:04.297691Z",
     "start_time": "2024-01-13T22:48:04.227172Z"
    }
   }
  }
 ],
 "metadata": {
  "kernelspec": {
   "display_name": "Python 3",
   "language": "python",
   "name": "python3"
  },
  "language_info": {
   "codemirror_mode": {
    "name": "ipython",
    "version": 2
   },
   "file_extension": ".py",
   "mimetype": "text/x-python",
   "name": "python",
   "nbconvert_exporter": "python",
   "pygments_lexer": "ipython2",
   "version": "2.7.6"
  }
 },
 "nbformat": 4,
 "nbformat_minor": 0
}
