{
 "cells": [
  {
   "cell_type": "code",
   "execution_count": 33,
   "outputs": [],
   "source": [
    "import pandas as pd\n",
    "import matplotlib.pyplot as plt\n",
    "import numpy as np\n",
    "\n",
    "from sklearn.preprocessing import StandardScaler \n",
    "from sklearn.model_selection import train_test_split, TimeSeriesSplit, RandomizedSearchCV\n",
    "from sklearn.ensemble import RandomForestRegressor\n",
    "from sklearn.metrics import mean_squared_error\n",
    "from scipy.stats import randint\n",
    "\n"
   ],
   "metadata": {
    "collapsed": false,
    "ExecuteTime": {
     "end_time": "2024-07-30T10:16:41.339395Z",
     "start_time": "2024-07-30T10:16:41.335556Z"
    }
   },
   "id": "126f9c46311bcc54"
  },
  {
   "cell_type": "code",
   "execution_count": 59,
   "outputs": [],
   "source": [
    "# Loda data\n",
    "target = pd.read_csv('../data/processed/properties.csv')\n",
    "features = pd.read_csv('../data/processed/features.csv')\n",
    "\n",
    "# Merge data\n",
    "df = pd.merge(target, features, on='Period')"
   ],
   "metadata": {
    "collapsed": false,
    "ExecuteTime": {
     "end_time": "2024-07-30T16:35:46.335937Z",
     "start_time": "2024-07-30T16:35:46.302498Z"
    }
   },
   "id": "1e3dcc27b0969f81"
  },
  {
   "cell_type": "code",
   "execution_count": 60,
   "outputs": [
    {
     "name": "stdout",
     "output_type": "stream",
     "text": [
      "<class 'pandas.core.frame.DataFrame'>\n",
      "RangeIndex: 164 entries, 0 to 163\n",
      "Data columns (total 18 columns):\n",
      " #   Column         Non-Null Count  Dtype  \n",
      "---  ------         --------------  -----  \n",
      " 0   Period         164 non-null    object \n",
      " 1   num_nodes      164 non-null    int64  \n",
      " 2   num_edges      164 non-null    int64  \n",
      " 3   density        164 non-null    float64\n",
      " 4   clustering     164 non-null    float64\n",
      " 5   assortativity  164 non-null    float64\n",
      " 6   shortest_path  163 non-null    float64\n",
      " 7   TPU            164 non-null    float64\n",
      " 8   GPR            164 non-null    float64\n",
      " 9   DMGSRMRCHSACD  164 non-null    float64\n",
      " 10  IPTOTSAKD      164 non-null    float64\n",
      " 11  IMPCOV         164 non-null    float64\n",
      " 12  NEER           164 non-null    float64\n",
      " 13  REER           164 non-null    float64\n",
      " 14  RETSALESSA     164 non-null    float64\n",
      " 15  TOTRESV        164 non-null    float64\n",
      " 16  UNEMPSA_       164 non-null    float64\n",
      " 17  GEPU           164 non-null    float64\n",
      "dtypes: float64(15), int64(2), object(1)\n",
      "memory usage: 23.2+ KB\n"
     ]
    }
   ],
   "source": [
    "df.info()"
   ],
   "metadata": {
    "collapsed": false,
    "ExecuteTime": {
     "end_time": "2024-07-30T16:35:47.116566Z",
     "start_time": "2024-07-30T16:35:47.110762Z"
    }
   },
   "id": "2cc600447e605949"
  },
  {
   "cell_type": "code",
   "execution_count": 50,
   "outputs": [
    {
     "data": {
      "text/plain": "         Period  num_nodes  num_edges   density  clustering  assortativity  \\\n0    2010-01-01        168       1828  0.130311    0.712998      -0.444260   \n1    2010-02-01        172       1838  0.124983    0.760005      -0.468762   \n2    2010-03-01        171       1923  0.132301    0.776834      -0.466797   \n3    2010-04-01        170       1850  0.128785    0.713454      -0.467922   \n4    2010-05-01        167       1876  0.135344    0.773232      -0.462863   \n..          ...        ...        ...       ...         ...            ...   \n166  2023-11-01        178       2090  0.132673    0.747174      -0.484728   \n167  2023-12-01        174       2001  0.132948    0.755731      -0.486585   \n168  2024-01-01        172       1836  0.124847    0.709186      -0.474903   \n169  2024-02-01        175       1883  0.123678    0.725464      -0.488365   \n170  2024-03-01        172       1802  0.122535    0.726572      -0.487998   \n\n     shortest_path        TPU         GPR  DMGSRMRCHSACD     IPTOTSAKD  \\\n0         2.078985  24.490808   91.581024   1.802235e+06  1.279704e+12   \n1         2.061200  18.847337   80.725357   1.853262e+06  1.283712e+12   \n2         2.032542  28.556673   74.116943   1.819304e+06  1.300778e+12   \n3         2.069474  25.487728   88.761581   1.811889e+06  1.309634e+12   \n4         2.023086  21.410693   88.958710   1.774453e+06  1.319176e+12   \n..             ...        ...         ...            ...           ...   \n166       2.023805  40.948276  156.487473   3.106750e+06  1.881066e+12   \n167       2.008504  65.307307  142.074020   3.007755e+06  1.887681e+12   \n168       2.083095  69.553994  159.757202   3.105054e+06  1.879627e+12   \n169       2.085714  62.485712  146.540665   3.173076e+06  1.890715e+12   \n170       2.089555  82.064121  132.656494   2.993105e+06  1.882858e+12   \n\n       IMPCOV        NEER        REER  RETSALESSA       TOTRESV  UNEMPSA_  \\\n0    4.880311   99.710300   99.882075  100.970001  8.795469e+06  8.266556   \n1    4.751241  100.058497  100.144656  101.121526  8.805293e+06  8.206897   \n2    4.882158   99.910024   99.868581  102.100177  8.882128e+06  8.188579   \n3    4.978065   99.826979   99.736114   95.659314  9.019701e+06  8.210219   \n4    5.057788  100.486460  100.390645   96.108964  8.974806e+06  8.116854   \n..        ...         ...         ...         ...           ...       ...   \n166  4.309817  103.409761  104.427667  100.680543  1.339346e+07  5.661176   \n167  4.549854  103.334684  103.834920  100.591706  1.368484e+07  5.670675   \n168  4.381012  103.657168  103.853338  101.811391  1.360344e+07  5.686735   \n169  4.278387  103.982254  104.100837  102.086548  1.357565e+07  5.709206   \n170  4.594370  103.908849  103.920583  102.648597  1.375151e+07  5.678203   \n\n      etf_price  \n0     12.225553  \n1     13.201204  \n2     14.057395  \n3     14.341842  \n4     13.403166  \n..          ...  \n166  170.488037  \n167  191.216141  \n168  194.902161  \n169  216.865021  \n170  225.402069  \n\n[171 rows x 18 columns]",
      "text/html": "<div>\n<style scoped>\n    .dataframe tbody tr th:only-of-type {\n        vertical-align: middle;\n    }\n\n    .dataframe tbody tr th {\n        vertical-align: top;\n    }\n\n    .dataframe thead th {\n        text-align: right;\n    }\n</style>\n<table border=\"1\" class=\"dataframe\">\n  <thead>\n    <tr style=\"text-align: right;\">\n      <th></th>\n      <th>Period</th>\n      <th>num_nodes</th>\n      <th>num_edges</th>\n      <th>density</th>\n      <th>clustering</th>\n      <th>assortativity</th>\n      <th>shortest_path</th>\n      <th>TPU</th>\n      <th>GPR</th>\n      <th>DMGSRMRCHSACD</th>\n      <th>IPTOTSAKD</th>\n      <th>IMPCOV</th>\n      <th>NEER</th>\n      <th>REER</th>\n      <th>RETSALESSA</th>\n      <th>TOTRESV</th>\n      <th>UNEMPSA_</th>\n      <th>etf_price</th>\n    </tr>\n  </thead>\n  <tbody>\n    <tr>\n      <th>0</th>\n      <td>2010-01-01</td>\n      <td>168</td>\n      <td>1828</td>\n      <td>0.130311</td>\n      <td>0.712998</td>\n      <td>-0.444260</td>\n      <td>2.078985</td>\n      <td>24.490808</td>\n      <td>91.581024</td>\n      <td>1.802235e+06</td>\n      <td>1.279704e+12</td>\n      <td>4.880311</td>\n      <td>99.710300</td>\n      <td>99.882075</td>\n      <td>100.970001</td>\n      <td>8.795469e+06</td>\n      <td>8.266556</td>\n      <td>12.225553</td>\n    </tr>\n    <tr>\n      <th>1</th>\n      <td>2010-02-01</td>\n      <td>172</td>\n      <td>1838</td>\n      <td>0.124983</td>\n      <td>0.760005</td>\n      <td>-0.468762</td>\n      <td>2.061200</td>\n      <td>18.847337</td>\n      <td>80.725357</td>\n      <td>1.853262e+06</td>\n      <td>1.283712e+12</td>\n      <td>4.751241</td>\n      <td>100.058497</td>\n      <td>100.144656</td>\n      <td>101.121526</td>\n      <td>8.805293e+06</td>\n      <td>8.206897</td>\n      <td>13.201204</td>\n    </tr>\n    <tr>\n      <th>2</th>\n      <td>2010-03-01</td>\n      <td>171</td>\n      <td>1923</td>\n      <td>0.132301</td>\n      <td>0.776834</td>\n      <td>-0.466797</td>\n      <td>2.032542</td>\n      <td>28.556673</td>\n      <td>74.116943</td>\n      <td>1.819304e+06</td>\n      <td>1.300778e+12</td>\n      <td>4.882158</td>\n      <td>99.910024</td>\n      <td>99.868581</td>\n      <td>102.100177</td>\n      <td>8.882128e+06</td>\n      <td>8.188579</td>\n      <td>14.057395</td>\n    </tr>\n    <tr>\n      <th>3</th>\n      <td>2010-04-01</td>\n      <td>170</td>\n      <td>1850</td>\n      <td>0.128785</td>\n      <td>0.713454</td>\n      <td>-0.467922</td>\n      <td>2.069474</td>\n      <td>25.487728</td>\n      <td>88.761581</td>\n      <td>1.811889e+06</td>\n      <td>1.309634e+12</td>\n      <td>4.978065</td>\n      <td>99.826979</td>\n      <td>99.736114</td>\n      <td>95.659314</td>\n      <td>9.019701e+06</td>\n      <td>8.210219</td>\n      <td>14.341842</td>\n    </tr>\n    <tr>\n      <th>4</th>\n      <td>2010-05-01</td>\n      <td>167</td>\n      <td>1876</td>\n      <td>0.135344</td>\n      <td>0.773232</td>\n      <td>-0.462863</td>\n      <td>2.023086</td>\n      <td>21.410693</td>\n      <td>88.958710</td>\n      <td>1.774453e+06</td>\n      <td>1.319176e+12</td>\n      <td>5.057788</td>\n      <td>100.486460</td>\n      <td>100.390645</td>\n      <td>96.108964</td>\n      <td>8.974806e+06</td>\n      <td>8.116854</td>\n      <td>13.403166</td>\n    </tr>\n    <tr>\n      <th>...</th>\n      <td>...</td>\n      <td>...</td>\n      <td>...</td>\n      <td>...</td>\n      <td>...</td>\n      <td>...</td>\n      <td>...</td>\n      <td>...</td>\n      <td>...</td>\n      <td>...</td>\n      <td>...</td>\n      <td>...</td>\n      <td>...</td>\n      <td>...</td>\n      <td>...</td>\n      <td>...</td>\n      <td>...</td>\n      <td>...</td>\n    </tr>\n    <tr>\n      <th>166</th>\n      <td>2023-11-01</td>\n      <td>178</td>\n      <td>2090</td>\n      <td>0.132673</td>\n      <td>0.747174</td>\n      <td>-0.484728</td>\n      <td>2.023805</td>\n      <td>40.948276</td>\n      <td>156.487473</td>\n      <td>3.106750e+06</td>\n      <td>1.881066e+12</td>\n      <td>4.309817</td>\n      <td>103.409761</td>\n      <td>104.427667</td>\n      <td>100.680543</td>\n      <td>1.339346e+07</td>\n      <td>5.661176</td>\n      <td>170.488037</td>\n    </tr>\n    <tr>\n      <th>167</th>\n      <td>2023-12-01</td>\n      <td>174</td>\n      <td>2001</td>\n      <td>0.132948</td>\n      <td>0.755731</td>\n      <td>-0.486585</td>\n      <td>2.008504</td>\n      <td>65.307307</td>\n      <td>142.074020</td>\n      <td>3.007755e+06</td>\n      <td>1.887681e+12</td>\n      <td>4.549854</td>\n      <td>103.334684</td>\n      <td>103.834920</td>\n      <td>100.591706</td>\n      <td>1.368484e+07</td>\n      <td>5.670675</td>\n      <td>191.216141</td>\n    </tr>\n    <tr>\n      <th>168</th>\n      <td>2024-01-01</td>\n      <td>172</td>\n      <td>1836</td>\n      <td>0.124847</td>\n      <td>0.709186</td>\n      <td>-0.474903</td>\n      <td>2.083095</td>\n      <td>69.553994</td>\n      <td>159.757202</td>\n      <td>3.105054e+06</td>\n      <td>1.879627e+12</td>\n      <td>4.381012</td>\n      <td>103.657168</td>\n      <td>103.853338</td>\n      <td>101.811391</td>\n      <td>1.360344e+07</td>\n      <td>5.686735</td>\n      <td>194.902161</td>\n    </tr>\n    <tr>\n      <th>169</th>\n      <td>2024-02-01</td>\n      <td>175</td>\n      <td>1883</td>\n      <td>0.123678</td>\n      <td>0.725464</td>\n      <td>-0.488365</td>\n      <td>2.085714</td>\n      <td>62.485712</td>\n      <td>146.540665</td>\n      <td>3.173076e+06</td>\n      <td>1.890715e+12</td>\n      <td>4.278387</td>\n      <td>103.982254</td>\n      <td>104.100837</td>\n      <td>102.086548</td>\n      <td>1.357565e+07</td>\n      <td>5.709206</td>\n      <td>216.865021</td>\n    </tr>\n    <tr>\n      <th>170</th>\n      <td>2024-03-01</td>\n      <td>172</td>\n      <td>1802</td>\n      <td>0.122535</td>\n      <td>0.726572</td>\n      <td>-0.487998</td>\n      <td>2.089555</td>\n      <td>82.064121</td>\n      <td>132.656494</td>\n      <td>2.993105e+06</td>\n      <td>1.882858e+12</td>\n      <td>4.594370</td>\n      <td>103.908849</td>\n      <td>103.920583</td>\n      <td>102.648597</td>\n      <td>1.375151e+07</td>\n      <td>5.678203</td>\n      <td>225.402069</td>\n    </tr>\n  </tbody>\n</table>\n<p>171 rows × 18 columns</p>\n</div>"
     },
     "execution_count": 50,
     "metadata": {},
     "output_type": "execute_result"
    }
   ],
   "source": [
    "df"
   ],
   "metadata": {
    "collapsed": false,
    "ExecuteTime": {
     "end_time": "2024-07-30T10:24:17.181251Z",
     "start_time": "2024-07-30T10:24:17.175983Z"
    }
   },
   "id": "2123ffe937faf3fa"
  },
  {
   "cell_type": "code",
   "execution_count": 72,
   "outputs": [
    {
     "name": "stdout",
     "output_type": "stream",
     "text": [
      "                            OLS Regression Results                            \n",
      "==============================================================================\n",
      "Dep. Variable:              num_nodes   R-squared:                       0.143\n",
      "Model:                            OLS   Adj. R-squared:                  0.127\n",
      "Method:                 Least Squares   F-statistic:                     8.823\n",
      "Date:                Tue, 30 Jul 2024   Prob (F-statistic):           1.91e-05\n",
      "Time:                        18:41:20   Log-Likelihood:                -430.39\n",
      "No. Observations:                 163   AIC:                             868.8\n",
      "Df Residuals:                     159   BIC:                             881.2\n",
      "Df Model:                           3                                         \n",
      "Covariance Type:            nonrobust                                         \n",
      "==============================================================================\n",
      "                 coef    std err          t      P>|t|      [0.025      0.975]\n",
      "------------------------------------------------------------------------------\n",
      "const        172.2780      1.114    154.651      0.000     170.078     174.478\n",
      "TPU            0.0237      0.006      4.139      0.000       0.012       0.035\n",
      "GPR            0.0273      0.009      2.916      0.004       0.009       0.046\n",
      "GEPU          -0.0076      0.004     -1.816      0.071      -0.016       0.001\n",
      "==============================================================================\n",
      "Omnibus:                        1.622   Durbin-Watson:                   1.516\n",
      "Prob(Omnibus):                  0.445   Jarque-Bera (JB):                1.437\n",
      "Skew:                          -0.091   Prob(JB):                        0.488\n",
      "Kurtosis:                       2.578   Cond. No.                         959.\n",
      "==============================================================================\n",
      "\n",
      "Notes:\n",
      "[1] Standard Errors assume that the covariance matrix of the errors is correctly specified.\n"
     ]
    }
   ],
   "source": [
    "import pandas as pd\n",
    "import matplotlib.pyplot as plt\n",
    "import seaborn as sns\n",
    "import statsmodels.api as sm\n",
    "\n",
    "# Drop rows with missing values in the relevant columns\n",
    "#df = df[['GEPU', 'shortest_path']].dropna()\n",
    "\n",
    "# Regression Analysis\n",
    "# Example analysis for 'num_nodes' vs 'density'\n",
    "# X = df[['TPU','GPR',DMGSRMRCHSACD, IPTOTSAKD, IMPCOV, NEER, REER, RETSALESSA, TOTRESV, UNEMPSA_\n",
    "X = df[['TPU','GPR','GEPU']]\n",
    "Y = df['num_nodes']\n",
    "# Y = df['num_nodes', 'num_edges''density','clustering','assortativity','shortest_path']\n",
    "\n",
    "X_const = sm.add_constant(X)\n",
    "model = sm.OLS(Y, X_const)\n",
    "results = model.fit()\n",
    "print(results.summary())"
   ],
   "metadata": {
    "collapsed": false,
    "ExecuteTime": {
     "end_time": "2024-07-30T16:41:20.075683Z",
     "start_time": "2024-07-30T16:41:20.031675Z"
    }
   },
   "id": "91993779dba4468f"
  },
  {
   "cell_type": "code",
   "execution_count": 73,
   "outputs": [
    {
     "name": "stdout",
     "output_type": "stream",
     "text": [
      "                            OLS Regression Results                            \n",
      "==============================================================================\n",
      "Dep. Variable:              num_edges   R-squared:                       0.433\n",
      "Model:                            OLS   Adj. R-squared:                  0.422\n",
      "Method:                 Least Squares   F-statistic:                     40.41\n",
      "Date:                Tue, 30 Jul 2024   Prob (F-statistic):           1.82e-19\n",
      "Time:                        18:41:24   Log-Likelihood:                -938.70\n",
      "No. Observations:                 163   AIC:                             1885.\n",
      "Df Residuals:                     159   BIC:                             1898.\n",
      "Df Model:                           3                                         \n",
      "Covariance Type:            nonrobust                                         \n",
      "==============================================================================\n",
      "                 coef    std err          t      P>|t|      [0.025      0.975]\n",
      "------------------------------------------------------------------------------\n",
      "const       1828.6684     25.189     72.597      0.000    1778.920    1878.417\n",
      "TPU            0.7517      0.129      5.806      0.000       0.496       1.007\n",
      "GPR            0.9972      0.212      4.708      0.000       0.579       1.416\n",
      "GEPU           0.3818      0.094      4.057      0.000       0.196       0.568\n",
      "==============================================================================\n",
      "Omnibus:                        3.730   Durbin-Watson:                   0.785\n",
      "Prob(Omnibus):                  0.155   Jarque-Bera (JB):                3.497\n",
      "Skew:                          -0.358   Prob(JB):                        0.174\n",
      "Kurtosis:                       3.044   Cond. No.                         959.\n",
      "==============================================================================\n",
      "\n",
      "Notes:\n",
      "[1] Standard Errors assume that the covariance matrix of the errors is correctly specified.\n"
     ]
    }
   ],
   "source": [
    "import pandas as pd\n",
    "import matplotlib.pyplot as plt\n",
    "import seaborn as sns\n",
    "import statsmodels.api as sm\n",
    "\n",
    "# Drop rows with missing values in the relevant columns\n",
    "#df = df[['GEPU', 'shortest_path']].dropna()\n",
    "\n",
    "# Regression Analysis\n",
    "# Example analysis for 'num_nodes' vs 'density'\n",
    "# X = df[['TPU','GPR',DMGSRMRCHSACD, IPTOTSAKD, IMPCOV, NEER, REER, RETSALESSA, TOTRESV, UNEMPSA_\n",
    "X = df[['TPU','GPR','GEPU']]\n",
    "Y = df['num_edges']\n",
    "# Y = df['num_nodes', 'num_edges''density','clustering','assortativity','shortest_path']\n",
    "\n",
    "X_const = sm.add_constant(X)\n",
    "model = sm.OLS(Y, X_const)\n",
    "results = model.fit()\n",
    "print(results.summary())"
   ],
   "metadata": {
    "collapsed": false,
    "ExecuteTime": {
     "end_time": "2024-07-30T16:41:24.540244Z",
     "start_time": "2024-07-30T16:41:24.525629Z"
    }
   },
   "id": "5380163e09497e80"
  },
  {
   "cell_type": "code",
   "execution_count": 74,
   "outputs": [
    {
     "name": "stdout",
     "output_type": "stream",
     "text": [
      "                            OLS Regression Results                            \n",
      "==============================================================================\n",
      "Dep. Variable:                density   R-squared:                       0.274\n",
      "Model:                            OLS   Adj. R-squared:                  0.260\n",
      "Method:                 Least Squares   F-statistic:                     20.01\n",
      "Date:                Tue, 30 Jul 2024   Prob (F-statistic):           4.68e-11\n",
      "Time:                        18:41:27   Log-Likelihood:                 627.17\n",
      "No. Observations:                 163   AIC:                            -1246.\n",
      "Df Residuals:                     159   BIC:                            -1234.\n",
      "Df Model:                           3                                         \n",
      "Covariance Type:            nonrobust                                         \n",
      "==============================================================================\n",
      "                 coef    std err          t      P>|t|      [0.025      0.975]\n",
      "------------------------------------------------------------------------------\n",
      "const          0.1244      0.002     73.369      0.000       0.121       0.128\n",
      "TPU         1.257e-05   8.71e-06      1.443      0.151   -4.63e-06    2.98e-05\n",
      "GPR         2.313e-05   1.43e-05      1.623      0.107   -5.02e-06    5.13e-05\n",
      "GEPU        3.685e-05   6.33e-06      5.818      0.000    2.43e-05    4.94e-05\n",
      "==============================================================================\n",
      "Omnibus:                        1.768   Durbin-Watson:                   1.471\n",
      "Prob(Omnibus):                  0.413   Jarque-Bera (JB):                1.343\n",
      "Skew:                           0.159   Prob(JB):                        0.511\n",
      "Kurtosis:                       3.311   Cond. No.                         959.\n",
      "==============================================================================\n",
      "\n",
      "Notes:\n",
      "[1] Standard Errors assume that the covariance matrix of the errors is correctly specified.\n"
     ]
    }
   ],
   "source": [
    "import pandas as pd\n",
    "import matplotlib.pyplot as plt\n",
    "import seaborn as sns\n",
    "import statsmodels.api as sm\n",
    "\n",
    "# Drop rows with missing values in the relevant columns\n",
    "#df = df[['GEPU', 'shortest_path']].dropna()\n",
    "\n",
    "# Regression Analysis\n",
    "# Example analysis for 'num_nodes' vs 'density'\n",
    "# X = df[['TPU','GPR','DMGSRMRCHSACD', 'IPTOTSAKD', 'IMPCOV', 'NEER', 'REER', 'RETSALESSA', 'TOTRESV', 'UNEMPSA_']]\n",
    "X = df[['TPU','GPR','GEPU']]\n",
    "Y = df['density']\n",
    "# Y = df['num_nodes', 'num_edges''density','clustering','assortativity','shortest_path']\n",
    "\n",
    "X_const = sm.add_constant(X)\n",
    "model = sm.OLS(Y, X_const)\n",
    "results = model.fit()\n",
    "print(results.summary())"
   ],
   "metadata": {
    "collapsed": false,
    "ExecuteTime": {
     "end_time": "2024-07-30T16:41:28.002546Z",
     "start_time": "2024-07-30T16:41:27.978801Z"
    }
   },
   "id": "d8d9d9def91efe7b"
  },
  {
   "cell_type": "code",
   "execution_count": 75,
   "outputs": [
    {
     "name": "stdout",
     "output_type": "stream",
     "text": [
      "                            OLS Regression Results                            \n",
      "==============================================================================\n",
      "Dep. Variable:             clustering   R-squared:                       0.020\n",
      "Model:                            OLS   Adj. R-squared:                  0.001\n",
      "Method:                 Least Squares   F-statistic:                     1.065\n",
      "Date:                Tue, 30 Jul 2024   Prob (F-statistic):              0.366\n",
      "Time:                        18:41:33   Log-Likelihood:                 412.91\n",
      "No. Observations:                 163   AIC:                            -817.8\n",
      "Df Residuals:                     159   BIC:                            -805.4\n",
      "Df Model:                           3                                         \n",
      "Covariance Type:            nonrobust                                         \n",
      "==============================================================================\n",
      "                 coef    std err          t      P>|t|      [0.025      0.975]\n",
      "------------------------------------------------------------------------------\n",
      "const          0.7474      0.006    118.450      0.000       0.735       0.760\n",
      "TPU         8.405e-06   3.24e-05      0.259      0.796   -5.56e-05    7.25e-05\n",
      "GPR         5.816e-05   5.31e-05      1.096      0.275   -4.66e-05       0.000\n",
      "GEPU       -3.459e-05   2.36e-05     -1.467      0.144   -8.12e-05     1.2e-05\n",
      "==============================================================================\n",
      "Omnibus:                        0.404   Durbin-Watson:                   1.918\n",
      "Prob(Omnibus):                  0.817   Jarque-Bera (JB):                0.555\n",
      "Skew:                           0.042   Prob(JB):                        0.758\n",
      "Kurtosis:                       2.727   Cond. No.                         959.\n",
      "==============================================================================\n",
      "\n",
      "Notes:\n",
      "[1] Standard Errors assume that the covariance matrix of the errors is correctly specified.\n"
     ]
    }
   ],
   "source": [
    "import pandas as pd\n",
    "import matplotlib.pyplot as plt\n",
    "import seaborn as sns\n",
    "import statsmodels.api as sm\n",
    "\n",
    "# Drop rows with missing values in the relevant columns\n",
    "#df = df[['GEPU', 'shortest_path']].dropna()\n",
    "\n",
    "# Regression Analysis\n",
    "# Example analysis for 'num_nodes' vs 'density'\n",
    "# X = df[['TPU','GPR',DMGSRMRCHSACD, IPTOTSAKD, IMPCOV, NEER, REER, RETSALESSA, TOTRESV, UNEMPSA_\n",
    "Y = df['clustering']\n",
    "# Y = df['num_nodes', 'num_edges''density','clustering','assortativity','shortest_path']\n",
    "\n",
    "X_const = sm.add_constant(X)\n",
    "model = sm.OLS(Y, X_const)\n",
    "results = model.fit()\n",
    "print(results.summary())"
   ],
   "metadata": {
    "collapsed": false,
    "ExecuteTime": {
     "end_time": "2024-07-30T16:41:33.625204Z",
     "start_time": "2024-07-30T16:41:33.615105Z"
    }
   },
   "id": "4568bda4052c04e2"
  },
  {
   "cell_type": "code",
   "execution_count": 76,
   "outputs": [
    {
     "name": "stdout",
     "output_type": "stream",
     "text": [
      "                            OLS Regression Results                            \n",
      "==============================================================================\n",
      "Dep. Variable:          assortativity   R-squared:                       0.071\n",
      "Model:                            OLS   Adj. R-squared:                  0.053\n",
      "Method:                 Least Squares   F-statistic:                     4.038\n",
      "Date:                Tue, 30 Jul 2024   Prob (F-statistic):            0.00845\n",
      "Time:                        18:41:43   Log-Likelihood:                 462.08\n",
      "No. Observations:                 163   AIC:                            -916.2\n",
      "Df Residuals:                     159   BIC:                            -903.8\n",
      "Df Model:                           3                                         \n",
      "Covariance Type:            nonrobust                                         \n",
      "==============================================================================\n",
      "                 coef    std err          t      P>|t|      [0.025      0.975]\n",
      "------------------------------------------------------------------------------\n",
      "const         -0.4569      0.005    -97.905      0.000      -0.466      -0.448\n",
      "TPU         8.256e-05    2.4e-05      3.442      0.001    3.52e-05       0.000\n",
      "GPR         6.068e-06   3.92e-05      0.155      0.877   -7.14e-05    8.36e-05\n",
      "GEPU       -3.372e-05   1.74e-05     -1.934      0.055   -6.82e-05    7.19e-07\n",
      "==============================================================================\n",
      "Omnibus:                        2.008   Durbin-Watson:                   0.810\n",
      "Prob(Omnibus):                  0.366   Jarque-Bera (JB):                2.047\n",
      "Skew:                           0.261   Prob(JB):                        0.359\n",
      "Kurtosis:                       2.827   Cond. No.                         959.\n",
      "==============================================================================\n",
      "\n",
      "Notes:\n",
      "[1] Standard Errors assume that the covariance matrix of the errors is correctly specified.\n"
     ]
    }
   ],
   "source": [
    "import pandas as pd\n",
    "import matplotlib.pyplot as plt\n",
    "import seaborn as sns\n",
    "import statsmodels.api as sm\n",
    "\n",
    "# Drop rows with missing values in the relevant columns\n",
    "#df = df[['GEPU', 'shortest_path']].dropna()\n",
    "\n",
    "# Regression Analysis\n",
    "# Example analysis for 'num_nodes' vs 'density'\n",
    "# X = df[['TPU','GPR',DMGSRMRCHSACD, IPTOTSAKD, IMPCOV, NEER, REER, RETSALESSA, TOTRESV, UNEMPSA_\n",
    "Y = df['assortativity']\n",
    "# Y = df['num_nodes', 'num_edges''density','clustering','assortativity','shortest_path']\n",
    "\n",
    "X_const = sm.add_constant(X)\n",
    "model = sm.OLS(Y, X_const)\n",
    "results = model.fit()\n",
    "print(results.summary())"
   ],
   "metadata": {
    "collapsed": false,
    "ExecuteTime": {
     "end_time": "2024-07-30T16:41:43.712143Z",
     "start_time": "2024-07-30T16:41:43.658636Z"
    }
   },
   "id": "9b3fadf91f553b71"
  },
  {
   "cell_type": "code",
   "execution_count": 77,
   "outputs": [
    {
     "name": "stdout",
     "output_type": "stream",
     "text": [
      "                            OLS Regression Results                            \n",
      "==============================================================================\n",
      "Dep. Variable:          shortest_path   R-squared:                       0.086\n",
      "Model:                            OLS   Adj. R-squared:                  0.069\n",
      "Method:                 Least Squares   F-statistic:                     4.981\n",
      "Date:                Tue, 30 Jul 2024   Prob (F-statistic):            0.00249\n",
      "Time:                        18:41:49   Log-Likelihood:                 385.29\n",
      "No. Observations:                 163   AIC:                            -762.6\n",
      "Df Residuals:                     159   BIC:                            -750.2\n",
      "Df Model:                           3                                         \n",
      "Covariance Type:            nonrobust                                         \n",
      "==============================================================================\n",
      "                 coef    std err          t      P>|t|      [0.025      0.975]\n",
      "------------------------------------------------------------------------------\n",
      "const          2.0603      0.007    275.631      0.000       2.046       2.075\n",
      "TPU          6.06e-06   3.84e-05      0.158      0.875   -6.98e-05    8.19e-05\n",
      "GPR        -4.822e-05   6.29e-05     -0.767      0.444      -0.000    7.59e-05\n",
      "GEPU       -9.401e-05   2.79e-05     -3.366      0.001      -0.000   -3.88e-05\n",
      "==============================================================================\n",
      "Omnibus:                        5.681   Durbin-Watson:                   1.839\n",
      "Prob(Omnibus):                  0.058   Jarque-Bera (JB):                7.385\n",
      "Skew:                          -0.183   Prob(JB):                       0.0249\n",
      "Kurtosis:                       3.977   Cond. No.                         959.\n",
      "==============================================================================\n",
      "\n",
      "Notes:\n",
      "[1] Standard Errors assume that the covariance matrix of the errors is correctly specified.\n"
     ]
    }
   ],
   "source": [
    "import pandas as pd\n",
    "import matplotlib.pyplot as plt\n",
    "import seaborn as sns\n",
    "import statsmodels.api as sm\n",
    "\n",
    "# Drop rows with missing values in the relevant columns\n",
    "df = df.dropna()\n",
    "\n",
    "# Regression Analysis\n",
    "# Example analysis for 'num_nodes' vs 'density'\n",
    "# X = df[['TPU','GPR',DMGSRMRCHSACD, IPTOTSAKD, IMPCOV, NEER, REER, RETSALESSA, TOTRESV, UNEMPSA_\n",
    "Y = df['shortest_path']\n",
    "# Y = df['num_nodes', 'num_edges''density','clustering','assortativity','shortest_path']\n",
    "\n",
    "X_const = sm.add_constant(X)\n",
    "model = sm.OLS(Y, X_const)\n",
    "results = model.fit()\n",
    "print(results.summary())"
   ],
   "metadata": {
    "collapsed": false,
    "ExecuteTime": {
     "end_time": "2024-07-30T16:41:49.994148Z",
     "start_time": "2024-07-30T16:41:49.970765Z"
    }
   },
   "id": "8cf5cd054686428"
  },
  {
   "cell_type": "code",
   "execution_count": null,
   "outputs": [],
   "source": [],
   "metadata": {
    "collapsed": false
   },
   "id": "abf4d6dcf3496bd2"
  }
 ],
 "metadata": {
  "kernelspec": {
   "display_name": "Python 3",
   "language": "python",
   "name": "python3"
  },
  "language_info": {
   "codemirror_mode": {
    "name": "ipython",
    "version": 2
   },
   "file_extension": ".py",
   "mimetype": "text/x-python",
   "name": "python",
   "nbconvert_exporter": "python",
   "pygments_lexer": "ipython2",
   "version": "2.7.6"
  }
 },
 "nbformat": 4,
 "nbformat_minor": 5
}
