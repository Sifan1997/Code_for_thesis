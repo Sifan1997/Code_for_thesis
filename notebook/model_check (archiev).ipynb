{
 "cells": [
  {
   "cell_type": "code",
   "execution_count": 33,
   "outputs": [],
   "source": [
    "import pandas as pd\n",
    "import matplotlib.pyplot as plt\n",
    "import numpy as np\n",
    "\n",
    "from sklearn.preprocessing import StandardScaler \n",
    "from sklearn.model_selection import train_test_split, TimeSeriesSplit, RandomizedSearchCV\n",
    "from sklearn.ensemble import RandomForestRegressor\n",
    "from sklearn.metrics import mean_squared_error\n",
    "from scipy.stats import randint\n",
    "\n"
   ],
   "metadata": {
    "collapsed": false,
    "ExecuteTime": {
     "end_time": "2024-07-30T10:16:41.339395Z",
     "start_time": "2024-07-30T10:16:41.335556Z"
    }
   },
   "id": "126f9c46311bcc54"
  },
  {
   "cell_type": "code",
   "execution_count": 57,
   "outputs": [],
   "source": [
    "# Loda data\n",
    "target = pd.read_csv('../data/processed/properties.csv')\n",
    "features = pd.read_csv('../data/processed/features.csv')\n",
    "\n",
    "# Merge data\n",
    "df = pd.merge(target, features, on='Period')"
   ],
   "metadata": {
    "collapsed": false,
    "ExecuteTime": {
     "end_time": "2024-07-30T11:26:26.208843Z",
     "start_time": "2024-07-30T11:26:26.179989Z"
    }
   },
   "id": "1e3dcc27b0969f81"
  },
  {
   "cell_type": "code",
   "execution_count": 53,
   "outputs": [
    {
     "name": "stdout",
     "output_type": "stream",
     "text": [
      "<class 'pandas.core.frame.DataFrame'>\n",
      "RangeIndex: 171 entries, 0 to 170\n",
      "Data columns (total 10 columns):\n",
      " #   Column         Non-Null Count  Dtype  \n",
      "---  ------         --------------  -----  \n",
      " 0   Period         171 non-null    object \n",
      " 1   num_nodes      171 non-null    int64  \n",
      " 2   num_edges      171 non-null    int64  \n",
      " 3   density        171 non-null    float64\n",
      " 4   clustering     171 non-null    float64\n",
      " 5   assortativity  171 non-null    float64\n",
      " 6   shortest_path  170 non-null    float64\n",
      " 7   TPU            171 non-null    float64\n",
      " 8   GPR            171 non-null    float64\n",
      " 9   GEPU           171 non-null    float64\n",
      "dtypes: float64(7), int64(2), object(1)\n",
      "memory usage: 13.5+ KB\n"
     ]
    }
   ],
   "source": [
    "df.info()"
   ],
   "metadata": {
    "collapsed": false,
    "ExecuteTime": {
     "end_time": "2024-07-30T11:24:50.277678Z",
     "start_time": "2024-07-30T11:24:50.205503Z"
    }
   },
   "id": "2cc600447e605949"
  },
  {
   "cell_type": "code",
   "execution_count": 50,
   "outputs": [
    {
     "data": {
      "text/plain": "         Period  num_nodes  num_edges   density  clustering  assortativity  \\\n0    2010-01-01        168       1828  0.130311    0.712998      -0.444260   \n1    2010-02-01        172       1838  0.124983    0.760005      -0.468762   \n2    2010-03-01        171       1923  0.132301    0.776834      -0.466797   \n3    2010-04-01        170       1850  0.128785    0.713454      -0.467922   \n4    2010-05-01        167       1876  0.135344    0.773232      -0.462863   \n..          ...        ...        ...       ...         ...            ...   \n166  2023-11-01        178       2090  0.132673    0.747174      -0.484728   \n167  2023-12-01        174       2001  0.132948    0.755731      -0.486585   \n168  2024-01-01        172       1836  0.124847    0.709186      -0.474903   \n169  2024-02-01        175       1883  0.123678    0.725464      -0.488365   \n170  2024-03-01        172       1802  0.122535    0.726572      -0.487998   \n\n     shortest_path        TPU         GPR  DMGSRMRCHSACD     IPTOTSAKD  \\\n0         2.078985  24.490808   91.581024   1.802235e+06  1.279704e+12   \n1         2.061200  18.847337   80.725357   1.853262e+06  1.283712e+12   \n2         2.032542  28.556673   74.116943   1.819304e+06  1.300778e+12   \n3         2.069474  25.487728   88.761581   1.811889e+06  1.309634e+12   \n4         2.023086  21.410693   88.958710   1.774453e+06  1.319176e+12   \n..             ...        ...         ...            ...           ...   \n166       2.023805  40.948276  156.487473   3.106750e+06  1.881066e+12   \n167       2.008504  65.307307  142.074020   3.007755e+06  1.887681e+12   \n168       2.083095  69.553994  159.757202   3.105054e+06  1.879627e+12   \n169       2.085714  62.485712  146.540665   3.173076e+06  1.890715e+12   \n170       2.089555  82.064121  132.656494   2.993105e+06  1.882858e+12   \n\n       IMPCOV        NEER        REER  RETSALESSA       TOTRESV  UNEMPSA_  \\\n0    4.880311   99.710300   99.882075  100.970001  8.795469e+06  8.266556   \n1    4.751241  100.058497  100.144656  101.121526  8.805293e+06  8.206897   \n2    4.882158   99.910024   99.868581  102.100177  8.882128e+06  8.188579   \n3    4.978065   99.826979   99.736114   95.659314  9.019701e+06  8.210219   \n4    5.057788  100.486460  100.390645   96.108964  8.974806e+06  8.116854   \n..        ...         ...         ...         ...           ...       ...   \n166  4.309817  103.409761  104.427667  100.680543  1.339346e+07  5.661176   \n167  4.549854  103.334684  103.834920  100.591706  1.368484e+07  5.670675   \n168  4.381012  103.657168  103.853338  101.811391  1.360344e+07  5.686735   \n169  4.278387  103.982254  104.100837  102.086548  1.357565e+07  5.709206   \n170  4.594370  103.908849  103.920583  102.648597  1.375151e+07  5.678203   \n\n      etf_price  \n0     12.225553  \n1     13.201204  \n2     14.057395  \n3     14.341842  \n4     13.403166  \n..          ...  \n166  170.488037  \n167  191.216141  \n168  194.902161  \n169  216.865021  \n170  225.402069  \n\n[171 rows x 18 columns]",
      "text/html": "<div>\n<style scoped>\n    .dataframe tbody tr th:only-of-type {\n        vertical-align: middle;\n    }\n\n    .dataframe tbody tr th {\n        vertical-align: top;\n    }\n\n    .dataframe thead th {\n        text-align: right;\n    }\n</style>\n<table border=\"1\" class=\"dataframe\">\n  <thead>\n    <tr style=\"text-align: right;\">\n      <th></th>\n      <th>Period</th>\n      <th>num_nodes</th>\n      <th>num_edges</th>\n      <th>density</th>\n      <th>clustering</th>\n      <th>assortativity</th>\n      <th>shortest_path</th>\n      <th>TPU</th>\n      <th>GPR</th>\n      <th>DMGSRMRCHSACD</th>\n      <th>IPTOTSAKD</th>\n      <th>IMPCOV</th>\n      <th>NEER</th>\n      <th>REER</th>\n      <th>RETSALESSA</th>\n      <th>TOTRESV</th>\n      <th>UNEMPSA_</th>\n      <th>etf_price</th>\n    </tr>\n  </thead>\n  <tbody>\n    <tr>\n      <th>0</th>\n      <td>2010-01-01</td>\n      <td>168</td>\n      <td>1828</td>\n      <td>0.130311</td>\n      <td>0.712998</td>\n      <td>-0.444260</td>\n      <td>2.078985</td>\n      <td>24.490808</td>\n      <td>91.581024</td>\n      <td>1.802235e+06</td>\n      <td>1.279704e+12</td>\n      <td>4.880311</td>\n      <td>99.710300</td>\n      <td>99.882075</td>\n      <td>100.970001</td>\n      <td>8.795469e+06</td>\n      <td>8.266556</td>\n      <td>12.225553</td>\n    </tr>\n    <tr>\n      <th>1</th>\n      <td>2010-02-01</td>\n      <td>172</td>\n      <td>1838</td>\n      <td>0.124983</td>\n      <td>0.760005</td>\n      <td>-0.468762</td>\n      <td>2.061200</td>\n      <td>18.847337</td>\n      <td>80.725357</td>\n      <td>1.853262e+06</td>\n      <td>1.283712e+12</td>\n      <td>4.751241</td>\n      <td>100.058497</td>\n      <td>100.144656</td>\n      <td>101.121526</td>\n      <td>8.805293e+06</td>\n      <td>8.206897</td>\n      <td>13.201204</td>\n    </tr>\n    <tr>\n      <th>2</th>\n      <td>2010-03-01</td>\n      <td>171</td>\n      <td>1923</td>\n      <td>0.132301</td>\n      <td>0.776834</td>\n      <td>-0.466797</td>\n      <td>2.032542</td>\n      <td>28.556673</td>\n      <td>74.116943</td>\n      <td>1.819304e+06</td>\n      <td>1.300778e+12</td>\n      <td>4.882158</td>\n      <td>99.910024</td>\n      <td>99.868581</td>\n      <td>102.100177</td>\n      <td>8.882128e+06</td>\n      <td>8.188579</td>\n      <td>14.057395</td>\n    </tr>\n    <tr>\n      <th>3</th>\n      <td>2010-04-01</td>\n      <td>170</td>\n      <td>1850</td>\n      <td>0.128785</td>\n      <td>0.713454</td>\n      <td>-0.467922</td>\n      <td>2.069474</td>\n      <td>25.487728</td>\n      <td>88.761581</td>\n      <td>1.811889e+06</td>\n      <td>1.309634e+12</td>\n      <td>4.978065</td>\n      <td>99.826979</td>\n      <td>99.736114</td>\n      <td>95.659314</td>\n      <td>9.019701e+06</td>\n      <td>8.210219</td>\n      <td>14.341842</td>\n    </tr>\n    <tr>\n      <th>4</th>\n      <td>2010-05-01</td>\n      <td>167</td>\n      <td>1876</td>\n      <td>0.135344</td>\n      <td>0.773232</td>\n      <td>-0.462863</td>\n      <td>2.023086</td>\n      <td>21.410693</td>\n      <td>88.958710</td>\n      <td>1.774453e+06</td>\n      <td>1.319176e+12</td>\n      <td>5.057788</td>\n      <td>100.486460</td>\n      <td>100.390645</td>\n      <td>96.108964</td>\n      <td>8.974806e+06</td>\n      <td>8.116854</td>\n      <td>13.403166</td>\n    </tr>\n    <tr>\n      <th>...</th>\n      <td>...</td>\n      <td>...</td>\n      <td>...</td>\n      <td>...</td>\n      <td>...</td>\n      <td>...</td>\n      <td>...</td>\n      <td>...</td>\n      <td>...</td>\n      <td>...</td>\n      <td>...</td>\n      <td>...</td>\n      <td>...</td>\n      <td>...</td>\n      <td>...</td>\n      <td>...</td>\n      <td>...</td>\n      <td>...</td>\n    </tr>\n    <tr>\n      <th>166</th>\n      <td>2023-11-01</td>\n      <td>178</td>\n      <td>2090</td>\n      <td>0.132673</td>\n      <td>0.747174</td>\n      <td>-0.484728</td>\n      <td>2.023805</td>\n      <td>40.948276</td>\n      <td>156.487473</td>\n      <td>3.106750e+06</td>\n      <td>1.881066e+12</td>\n      <td>4.309817</td>\n      <td>103.409761</td>\n      <td>104.427667</td>\n      <td>100.680543</td>\n      <td>1.339346e+07</td>\n      <td>5.661176</td>\n      <td>170.488037</td>\n    </tr>\n    <tr>\n      <th>167</th>\n      <td>2023-12-01</td>\n      <td>174</td>\n      <td>2001</td>\n      <td>0.132948</td>\n      <td>0.755731</td>\n      <td>-0.486585</td>\n      <td>2.008504</td>\n      <td>65.307307</td>\n      <td>142.074020</td>\n      <td>3.007755e+06</td>\n      <td>1.887681e+12</td>\n      <td>4.549854</td>\n      <td>103.334684</td>\n      <td>103.834920</td>\n      <td>100.591706</td>\n      <td>1.368484e+07</td>\n      <td>5.670675</td>\n      <td>191.216141</td>\n    </tr>\n    <tr>\n      <th>168</th>\n      <td>2024-01-01</td>\n      <td>172</td>\n      <td>1836</td>\n      <td>0.124847</td>\n      <td>0.709186</td>\n      <td>-0.474903</td>\n      <td>2.083095</td>\n      <td>69.553994</td>\n      <td>159.757202</td>\n      <td>3.105054e+06</td>\n      <td>1.879627e+12</td>\n      <td>4.381012</td>\n      <td>103.657168</td>\n      <td>103.853338</td>\n      <td>101.811391</td>\n      <td>1.360344e+07</td>\n      <td>5.686735</td>\n      <td>194.902161</td>\n    </tr>\n    <tr>\n      <th>169</th>\n      <td>2024-02-01</td>\n      <td>175</td>\n      <td>1883</td>\n      <td>0.123678</td>\n      <td>0.725464</td>\n      <td>-0.488365</td>\n      <td>2.085714</td>\n      <td>62.485712</td>\n      <td>146.540665</td>\n      <td>3.173076e+06</td>\n      <td>1.890715e+12</td>\n      <td>4.278387</td>\n      <td>103.982254</td>\n      <td>104.100837</td>\n      <td>102.086548</td>\n      <td>1.357565e+07</td>\n      <td>5.709206</td>\n      <td>216.865021</td>\n    </tr>\n    <tr>\n      <th>170</th>\n      <td>2024-03-01</td>\n      <td>172</td>\n      <td>1802</td>\n      <td>0.122535</td>\n      <td>0.726572</td>\n      <td>-0.487998</td>\n      <td>2.089555</td>\n      <td>82.064121</td>\n      <td>132.656494</td>\n      <td>2.993105e+06</td>\n      <td>1.882858e+12</td>\n      <td>4.594370</td>\n      <td>103.908849</td>\n      <td>103.920583</td>\n      <td>102.648597</td>\n      <td>1.375151e+07</td>\n      <td>5.678203</td>\n      <td>225.402069</td>\n    </tr>\n  </tbody>\n</table>\n<p>171 rows × 18 columns</p>\n</div>"
     },
     "execution_count": 50,
     "metadata": {},
     "output_type": "execute_result"
    }
   ],
   "source": [
    "df"
   ],
   "metadata": {
    "collapsed": false,
    "ExecuteTime": {
     "end_time": "2024-07-30T10:24:17.181251Z",
     "start_time": "2024-07-30T10:24:17.175983Z"
    }
   },
   "id": "2123ffe937faf3fa"
  },
  {
   "cell_type": "code",
   "execution_count": 58,
   "outputs": [
    {
     "name": "stdout",
     "output_type": "stream",
     "text": [
      "                            OLS Regression Results                            \n",
      "==============================================================================\n",
      "Dep. Variable:              num_nodes   R-squared:                       0.000\n",
      "Model:                            OLS   Adj. R-squared:                 -0.005\n",
      "Method:                 Least Squares   F-statistic:                   0.07070\n",
      "Date:                Tue, 30 Jul 2024   Prob (F-statistic):              0.791\n",
      "Time:                        13:26:28   Log-Likelihood:                -462.39\n",
      "No. Observations:                 171   AIC:                             928.8\n",
      "Df Residuals:                     169   BIC:                             935.1\n",
      "Df Model:                           1                                         \n",
      "Covariance Type:            nonrobust                                         \n",
      "==============================================================================\n",
      "                 coef    std err          t      P>|t|      [0.025      0.975]\n",
      "------------------------------------------------------------------------------\n",
      "const        174.7161      0.788    221.621      0.000     173.160     176.272\n",
      "GEPU           0.0010      0.004      0.266      0.791      -0.007       0.009\n",
      "==============================================================================\n",
      "Omnibus:                        4.826   Durbin-Watson:                   1.198\n",
      "Prob(Omnibus):                  0.090   Jarque-Bera (JB):                3.104\n",
      "Skew:                          -0.144   Prob(JB):                        0.212\n",
      "Kurtosis:                       2.406   Cond. No.                         573.\n",
      "==============================================================================\n",
      "\n",
      "Notes:\n",
      "[1] Standard Errors assume that the covariance matrix of the errors is correctly specified.\n"
     ]
    }
   ],
   "source": [
    "import pandas as pd\n",
    "import matplotlib.pyplot as plt\n",
    "import seaborn as sns\n",
    "import statsmodels.api as sm\n",
    "\n",
    "# Drop rows with missing values in the relevant columns\n",
    "#df = df[['GEPU', 'shortest_path']].dropna()\n",
    "\n",
    "# Regression Analysis\n",
    "# Example analysis for 'num_nodes' vs 'density'\n",
    "# X = df[['TPU','GPR',DMGSRMRCHSACD, IPTOTSAKD, IMPCOV, NEER, REER, RETSALESSA, TOTRESV, UNEMPSA_\n",
    "X = df[['GEPU']]\n",
    "Y = df['num_nodes']\n",
    "# Y = df['num_nodes', 'num_edges''density','clustering','assortativity','shortest_path']\n",
    "\n",
    "X_const = sm.add_constant(X)\n",
    "model = sm.OLS(Y, X_const)\n",
    "results = model.fit()\n",
    "print(results.summary())"
   ],
   "metadata": {
    "collapsed": false,
    "ExecuteTime": {
     "end_time": "2024-07-30T11:26:28.499712Z",
     "start_time": "2024-07-30T11:26:28.461922Z"
    }
   },
   "id": "91993779dba4468f"
  },
  {
   "cell_type": "code",
   "execution_count": null,
   "outputs": [],
   "source": [],
   "metadata": {
    "collapsed": false,
    "ExecuteTime": {
     "start_time": "2024-07-30T09:59:32.370225Z"
    }
   },
   "id": "d8d9d9def91efe7b"
  }
 ],
 "metadata": {
  "kernelspec": {
   "display_name": "Python 3",
   "language": "python",
   "name": "python3"
  },
  "language_info": {
   "codemirror_mode": {
    "name": "ipython",
    "version": 2
   },
   "file_extension": ".py",
   "mimetype": "text/x-python",
   "name": "python",
   "nbconvert_exporter": "python",
   "pygments_lexer": "ipython2",
   "version": "2.7.6"
  }
 },
 "nbformat": 4,
 "nbformat_minor": 5
}
