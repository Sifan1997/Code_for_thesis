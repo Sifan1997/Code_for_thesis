{
 "cells": [
  {
   "cell_type": "code",
   "execution_count": 14,
   "metadata": {
    "collapsed": true,
    "ExecuteTime": {
     "end_time": "2023-08-21T07:42:55.593559Z",
     "start_time": "2023-08-21T07:42:55.590499Z"
    }
   },
   "outputs": [],
   "source": [
    "import pandas as pd\n",
    "import numpy as np\n"
   ]
  },
  {
   "cell_type": "code",
   "execution_count": 15,
   "outputs": [
    {
     "data": {
      "text/plain": "       Period ReporterISO ReporterDesc PartnerISO             PartnerDesc  \\\n0        1998         ALB      Albania        W00                   World   \n1        1998         ALB      Albania        DEU                 Germany   \n2        1998         DZA      Algeria        W00                   World   \n3        1998         DZA      Algeria        FRA                  France   \n4        1998         DZA      Algeria        GRC                  Greece   \n...       ...         ...          ...        ...                     ...   \n71868    2014         ZMB       Zambia        W00                   World   \n71869    2014         ZMB       Zambia        COD  Dem. Rep. of the Congo   \n71870    2014         ZMB       Zambia        ITA                   Italy   \n71871    2014         ZMB       Zambia        ZAF            South Africa   \n71872    2014         ZMB       Zambia        GBR          United Kingdom   \n\n       PrimaryValue  \n0         30646.000  \n1         30646.000  \n2          1766.000  \n3           681.000  \n4           541.000  \n...             ...  \n71868      2876.389  \n71869       565.609  \n71870        51.359  \n71871      1673.942  \n71872       585.478  \n\n[135334 rows x 6 columns]",
      "text/html": "<div>\n<style scoped>\n    .dataframe tbody tr th:only-of-type {\n        vertical-align: middle;\n    }\n\n    .dataframe tbody tr th {\n        vertical-align: top;\n    }\n\n    .dataframe thead th {\n        text-align: right;\n    }\n</style>\n<table border=\"1\" class=\"dataframe\">\n  <thead>\n    <tr style=\"text-align: right;\">\n      <th></th>\n      <th>Period</th>\n      <th>ReporterISO</th>\n      <th>ReporterDesc</th>\n      <th>PartnerISO</th>\n      <th>PartnerDesc</th>\n      <th>PrimaryValue</th>\n    </tr>\n  </thead>\n  <tbody>\n    <tr>\n      <th>0</th>\n      <td>1998</td>\n      <td>ALB</td>\n      <td>Albania</td>\n      <td>W00</td>\n      <td>World</td>\n      <td>30646.000</td>\n    </tr>\n    <tr>\n      <th>1</th>\n      <td>1998</td>\n      <td>ALB</td>\n      <td>Albania</td>\n      <td>DEU</td>\n      <td>Germany</td>\n      <td>30646.000</td>\n    </tr>\n    <tr>\n      <th>2</th>\n      <td>1998</td>\n      <td>DZA</td>\n      <td>Algeria</td>\n      <td>W00</td>\n      <td>World</td>\n      <td>1766.000</td>\n    </tr>\n    <tr>\n      <th>3</th>\n      <td>1998</td>\n      <td>DZA</td>\n      <td>Algeria</td>\n      <td>FRA</td>\n      <td>France</td>\n      <td>681.000</td>\n    </tr>\n    <tr>\n      <th>4</th>\n      <td>1998</td>\n      <td>DZA</td>\n      <td>Algeria</td>\n      <td>GRC</td>\n      <td>Greece</td>\n      <td>541.000</td>\n    </tr>\n    <tr>\n      <th>...</th>\n      <td>...</td>\n      <td>...</td>\n      <td>...</td>\n      <td>...</td>\n      <td>...</td>\n      <td>...</td>\n    </tr>\n    <tr>\n      <th>71868</th>\n      <td>2014</td>\n      <td>ZMB</td>\n      <td>Zambia</td>\n      <td>W00</td>\n      <td>World</td>\n      <td>2876.389</td>\n    </tr>\n    <tr>\n      <th>71869</th>\n      <td>2014</td>\n      <td>ZMB</td>\n      <td>Zambia</td>\n      <td>COD</td>\n      <td>Dem. Rep. of the Congo</td>\n      <td>565.609</td>\n    </tr>\n    <tr>\n      <th>71870</th>\n      <td>2014</td>\n      <td>ZMB</td>\n      <td>Zambia</td>\n      <td>ITA</td>\n      <td>Italy</td>\n      <td>51.359</td>\n    </tr>\n    <tr>\n      <th>71871</th>\n      <td>2014</td>\n      <td>ZMB</td>\n      <td>Zambia</td>\n      <td>ZAF</td>\n      <td>South Africa</td>\n      <td>1673.942</td>\n    </tr>\n    <tr>\n      <th>71872</th>\n      <td>2014</td>\n      <td>ZMB</td>\n      <td>Zambia</td>\n      <td>GBR</td>\n      <td>United Kingdom</td>\n      <td>585.478</td>\n    </tr>\n  </tbody>\n</table>\n<p>135334 rows × 6 columns</p>\n</div>"
     },
     "execution_count": 15,
     "metadata": {},
     "output_type": "execute_result"
    }
   ],
   "source": [
    "# read IC trade data from 1996-2021\n",
    "df1 = pd.read_csv('../data/raw/TradeData8542_1.csv',encoding='unicode_escape')\n",
    "df2 = pd.read_csv('../data/raw/TradeData8542_2.csv',encoding='unicode_escape')\n",
    "df3 = pd.read_csv('../data/raw/TradeData8542_3.csv',encoding='unicode_escape')\n",
    "\n",
    "# Concate the data frames\n",
    "df = pd.concat([df1,df2,df3])\n",
    "df = df[(df['Period']<=2021)]\n",
    "\n",
    "# Keep the necessary columns\n",
    "df = df[['Period','ReporterISO','ReporterDesc','PartnerISO','PartnerDesc','PrimaryValue']]\n",
    "df"
   ],
   "metadata": {
    "collapsed": false,
    "ExecuteTime": {
     "end_time": "2023-08-21T07:42:56.861739Z",
     "start_time": "2023-08-21T07:42:56.090326Z"
    }
   }
  },
  {
   "cell_type": "code",
   "execution_count": 16,
   "outputs": [
    {
     "name": "stdout",
     "output_type": "stream",
     "text": [
      "[1998 1997 1996 2010 2009 2008 2007 2006 2005 2004 2003 2002 2001 2000\n",
      " 1999 2011 2012 2013 2021 2020 2019 2018 2017 2016 2015 2014]\n"
     ]
    }
   ],
   "source": [
    "print(df['Period'].unique())"
   ],
   "metadata": {
    "collapsed": false,
    "ExecuteTime": {
     "end_time": "2023-08-21T07:42:58.040945Z",
     "start_time": "2023-08-21T07:42:58.037968Z"
    }
   }
  },
  {
   "cell_type": "code",
   "execution_count": 17,
   "outputs": [],
   "source": [
    "# Pre-processing data\n",
    "\n",
    "# Define a function to strip whitespace for categorical values\n",
    "def strip_categorical(value):\n",
    "    if isinstance(value, str):\n",
    "        return value.strip()\n",
    "    return value\n",
    "\n",
    "# Apply the function to the entire DataFrame\n",
    "df = df.applymap(strip_categorical)\n",
    "\n",
    "# Replace \"Other Asia, nes\" (S19) to Taiwan,China (TWM)\n",
    "df['ReporterISO'] = df['ReporterISO'].replace('S19', 'TWN')\n",
    "df.loc[df['ReporterISO'] == 'TWN', 'ReporterDesc'] = 'China, Taiwan'\n",
    "\n",
    "df['PartnerISO'] = df['PartnerISO'].replace('S19', 'TWN')\n",
    "df.loc[df['PartnerISO'] == 'TWN', 'PartnerDesc'] = 'China, Taiwan'\n",
    "\n",
    "# Delete other desc containing ', nes'\n",
    "# Replace values containing ', nes' with NaN\n",
    "df.loc[df['ReporterDesc'].str.contains(', nes', case=False, na=False), 'ReporterDesc'] = np.nan\n",
    "df.loc[df['PartnerDesc'].str.contains(', nes', case=False, na=False), 'PartnerDesc'] = np.nan\n",
    "# Delete rows containing Nan\n",
    "df = df.dropna()\n",
    "\n",
    "# Delete 'Free Zone', 'Bunkers', 'Special Categories', 'Southern African Customs Union (...1999)'\n",
    "to_delete = ['Free Zone','Free Zones','Bunkers','Special Categories','Southern African Customs Union (...1999)']\n",
    "\n",
    "# Delete rows where source is in the list of countries\n",
    "df = df[~df['ReporterDesc'].isin(to_delete)]\n",
    "# Delete rows where target is in the list of countries\n",
    "df = df[~df['PartnerDesc'].isin(to_delete)]\n"
   ],
   "metadata": {
    "collapsed": false,
    "ExecuteTime": {
     "end_time": "2023-08-21T07:43:42.233174Z",
     "start_time": "2023-08-21T07:43:42.045549Z"
    }
   }
  },
  {
   "cell_type": "code",
   "execution_count": 5,
   "outputs": [],
   "source": [
    "# Extract total export trade statistics of countries\n",
    "df_world = df[df['PartnerISO']=='W00']\n",
    "df_world.to_csv('../data/processed/world_export.csv', index=False)"
   ],
   "metadata": {
    "collapsed": false,
    "ExecuteTime": {
     "end_time": "2023-08-21T07:41:00.963511Z",
     "start_time": "2023-08-21T07:41:00.954079Z"
    }
   }
  },
  {
   "cell_type": "code",
   "execution_count": 6,
   "outputs": [],
   "source": [
    "# Delete 'World'\n",
    "to_delete = ['World']\n",
    "\n",
    "# Delete rows where source is in the list of countries\n",
    "df = df[~df['ReporterDesc'].isin(to_delete)]\n",
    "# Delete rows where target is in the list of countries\n",
    "df = df[~df['PartnerDesc'].isin(to_delete)]"
   ],
   "metadata": {
    "collapsed": false,
    "ExecuteTime": {
     "end_time": "2023-08-21T07:41:00.982787Z",
     "start_time": "2023-08-21T07:41:00.965892Z"
    }
   }
  },
  {
   "cell_type": "code",
   "execution_count": 7,
   "outputs": [],
   "source": [
    "# Extract Taiwan export data\n",
    "df_taiwan = df[df['ReporterISO'] == 'TWN']\n",
    "df_taiwan.to_csv('../data/processed/export_tw.csv', index=False)"
   ],
   "metadata": {
    "collapsed": false,
    "ExecuteTime": {
     "end_time": "2023-08-21T07:41:00.995282Z",
     "start_time": "2023-08-21T07:41:00.988173Z"
    }
   }
  },
  {
   "cell_type": "code",
   "execution_count": 8,
   "outputs": [
    {
     "data": {
      "text/plain": "array([1998, 1997, 2010, 2009, 2008, 2007, 2006, 2005, 2004, 2003, 2002,\n       2001, 2000, 1999, 2011, 2012, 2013, 2021, 2020, 2019, 2018, 2017,\n       2016, 2015, 2014])"
     },
     "execution_count": 8,
     "metadata": {},
     "output_type": "execute_result"
    }
   ],
   "source": [
    "df_taiwan['Period'].unique()"
   ],
   "metadata": {
    "collapsed": false,
    "ExecuteTime": {
     "end_time": "2023-08-21T07:41:01.002430Z",
     "start_time": "2023-08-21T07:41:00.996657Z"
    }
   }
  },
  {
   "cell_type": "code",
   "execution_count": 9,
   "outputs": [
    {
     "name": "stdout",
     "output_type": "stream",
     "text": [
      "<class 'pandas.core.frame.DataFrame'>\n",
      "Index: 130324 entries, 1 to 71872\n",
      "Data columns (total 6 columns):\n",
      " #   Column        Non-Null Count   Dtype  \n",
      "---  ------        --------------   -----  \n",
      " 0   Period        130324 non-null  int64  \n",
      " 1   ReporterISO   130324 non-null  object \n",
      " 2   ReporterDesc  130324 non-null  object \n",
      " 3   PartnerISO    130324 non-null  object \n",
      " 4   PartnerDesc   130324 non-null  object \n",
      " 5   PrimaryValue  130324 non-null  float64\n",
      "dtypes: float64(1), int64(1), object(4)\n",
      "memory usage: 7.0+ MB\n"
     ]
    }
   ],
   "source": [
    "df.info() #120324\n",
    "df.to_csv('../data/processed/trade.csv',index=False)"
   ],
   "metadata": {
    "collapsed": false,
    "ExecuteTime": {
     "end_time": "2023-08-21T07:41:01.173121Z",
     "start_time": "2023-08-21T07:41:01.000499Z"
    }
   }
  },
  {
   "cell_type": "code",
   "execution_count": 10,
   "outputs": [],
   "source": [
    "# Read gravity data and export gravity involving Taiwan\n",
    "gravity =pd.read_csv('../data/raw//Gravity_V202211.csv')\n",
    "# keep data after year 2014\n",
    "gravity = gravity[(gravity['year']>=1996)]\n",
    "gravity['year'] = gravity['year'].astype(str)\n",
    "\n",
    "# consider gravity involving Taiwan\n",
    "gravity_tw = gravity[gravity['iso3_o']=='TWN']\n",
    "\n",
    "gravity_tw = gravity_tw[['year','iso3_d','dist','gdp_source_o', 'gdp_source_d','gdp_ppp_o','gdp_ppp_d','fta_wto']]\n",
    "gravity_tw.to_csv('../data/processed/gravity_tw.csv', index=False)"
   ],
   "metadata": {
    "collapsed": false,
    "ExecuteTime": {
     "end_time": "2023-08-21T07:41:01.175296Z",
     "start_time": "2023-08-21T07:41:01.173932Z"
    }
   }
  },
  {
   "cell_type": "code",
   "execution_count": 11,
   "outputs": [],
   "source": [
    "# Creaet Appendix for country name and ISO code\n",
    "df = df[['ReporterISO','ReporterDesc','PartnerISO','PartnerDesc']]\n",
    "\n",
    "# Obtain the countries in the links\n",
    "countries_code = pd.concat([df[['ReporterISO']].rename(columns={'ReporterISO': 'ISO'}),df[['PartnerISO']].rename(columns={'PartnerISO': 'ISO'})]).drop_duplicates()\n",
    "\n",
    "# Match company info with selected companies\n",
    "countries = pd.merge(countries_code,df,left_on='ISO', right_on='ReporterISO', how='left')\n",
    "countries = countries[['ISO','ReporterDesc']].rename(columns={'ReporterDesc':'Name'}).drop_duplicates()\n",
    "\n",
    "countries = pd.merge(countries, df, left_on='ISO',right_on='PartnerISO', how='left')\n",
    "countries = countries[['ISO','PartnerDesc']].rename(columns={'PartnerDesc':'Name'}).drop_duplicates()\n",
    "\n",
    "countries.to_csv('../data/processed/countries.csv', index=False)"
   ],
   "metadata": {
    "collapsed": false,
    "ExecuteTime": {
     "end_time": "2023-08-21T07:41:01.182999Z",
     "start_time": "2023-08-21T07:41:01.178800Z"
    }
   }
  },
  {
   "cell_type": "code",
   "execution_count": 12,
   "outputs": [],
   "source": [],
   "metadata": {
    "collapsed": false,
    "ExecuteTime": {
     "end_time": "2023-08-21T07:41:01.264057Z",
     "start_time": "2023-08-21T07:41:01.188069Z"
    }
   }
  },
  {
   "cell_type": "code",
   "execution_count": 12,
   "outputs": [],
   "source": [],
   "metadata": {
    "collapsed": false,
    "ExecuteTime": {
     "end_time": "2023-08-21T07:41:01.265816Z",
     "start_time": "2023-08-21T07:41:01.264275Z"
    }
   }
  },
  {
   "cell_type": "code",
   "execution_count": 12,
   "outputs": [],
   "source": [],
   "metadata": {
    "collapsed": false,
    "ExecuteTime": {
     "end_time": "2023-08-21T07:41:01.267802Z",
     "start_time": "2023-08-21T07:41:01.266336Z"
    }
   }
  }
 ],
 "metadata": {
  "kernelspec": {
   "display_name": "Python 3",
   "language": "python",
   "name": "python3"
  },
  "language_info": {
   "codemirror_mode": {
    "name": "ipython",
    "version": 2
   },
   "file_extension": ".py",
   "mimetype": "text/x-python",
   "name": "python",
   "nbconvert_exporter": "python",
   "pygments_lexer": "ipython2",
   "version": "2.7.6"
  }
 },
 "nbformat": 4,
 "nbformat_minor": 0
}
