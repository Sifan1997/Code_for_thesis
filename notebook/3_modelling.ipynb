{
 "cells": [
  {
   "cell_type": "code",
   "execution_count": 27,
   "outputs": [],
   "source": [
    "import pandas as pd\n",
    "import matplotlib.pyplot as plt\n",
    "\n",
    "from sklearn.preprocessing import StandardScaler\n",
    "from sklearn.model_selection import train_test_split\n",
    "from sklearn.metrics import mean_squared_error, r2_score\n",
    "from sklearn.linear_model import LinearRegression\n",
    "from sklearn.tree import DecisionTreeRegressor\n",
    "from sklearn.ensemble import RandomForestRegressor\n"
   ],
   "metadata": {
    "collapsed": false,
    "ExecuteTime": {
     "end_time": "2023-08-21T08:12:59.401051Z",
     "start_time": "2023-08-21T08:12:59.392829Z"
    }
   }
  },
  {
   "cell_type": "code",
   "execution_count": 43,
   "outputs": [
    {
     "data": {
      "text/plain": "array([1998, 1997, 2010, 2009, 2008, 2007, 2006, 2005, 2004, 2003, 2002,\n       2001, 2000, 1999, 2011, 2012, 2013, 2021, 2020, 2019, 2018, 2017,\n       2016, 2015, 2014])"
     },
     "execution_count": 43,
     "metadata": {},
     "output_type": "execute_result"
    }
   ],
   "source": [
    "# Read Taiwan export data\n",
    "export = pd.read_csv('../data/processed/export_tw.csv')\n",
    "\n",
    "export['Period'].unique() # No record in 1996"
   ],
   "metadata": {
    "collapsed": false,
    "ExecuteTime": {
     "end_time": "2023-08-21T08:13:52.201111Z",
     "start_time": "2023-08-21T08:13:52.179228Z"
    }
   }
  },
  {
   "cell_type": "code",
   "execution_count": 44,
   "outputs": [
    {
     "data": {
      "text/plain": "array([1996, 1997, 1998, 1999, 2000, 2001, 2002, 2003, 2004, 2005, 2006,\n       2007, 2008, 2009, 2010, 2011, 2012, 2013, 2014, 2015, 2016, 2017,\n       2018, 2019, 2020, 2021])"
     },
     "execution_count": 44,
     "metadata": {},
     "output_type": "execute_result"
    }
   ],
   "source": [
    "# Read gravity data invovling Taiwan\n",
    "gravity_tw = pd.read_csv('../data/processed/gravity_tw.csv')\n",
    "\n",
    "gravity_tw['year'].unique()\n"
   ],
   "metadata": {
    "collapsed": false,
    "ExecuteTime": {
     "end_time": "2023-08-21T08:13:53.955Z",
     "start_time": "2023-08-21T08:13:53.942852Z"
    }
   }
  },
  {
   "cell_type": "code",
   "execution_count": 45,
   "outputs": [],
   "source": [
    "# Read political index\n",
    "pv_all = pd.read_excel('../data/raw/wgidataset.xlsx',sheet_name='Political StabilityNoViolence', skiprows=14)\n",
    "\n",
    "# Transform the data from wide to long\n",
    "pv_all = pv_all.melt(id_vars=['Code','Country/Territory'], var_name='Year', value_name='pv')\n",
    "pv_all.to_csv('../data/processed/pv_index.csv')\n"
   ],
   "metadata": {
    "collapsed": false,
    "ExecuteTime": {
     "end_time": "2023-08-21T08:13:54.999115Z",
     "start_time": "2023-08-21T08:13:54.923210Z"
    }
   }
  },
  {
   "cell_type": "code",
   "execution_count": 46,
   "outputs": [
    {
     "data": {
      "text/plain": "      Year        pv\n194   1996  1.056969\n408   1998  0.957363\n622   2000  0.537107\n836   2002  0.698526\n1050  2003  0.637641\n1264  2004  0.612769\n1478  2005  0.671793\n1692  2006  0.675702\n1906  2007  0.552530\n2120  2008  0.841073\n2334  2009  0.569273\n2548  2010  0.856610\n2762  2011  0.946775\n2976  2012  0.891385\n3190  2013  0.873134\n3404  2014  0.766413\n3618  2015  0.920500\n3832  2016  0.925664\n4046  2017  0.864722\n4260  2018  0.846277\n4474  2019  0.788459\n4688  2020  0.774144\n4902  2021  0.780216",
      "text/html": "<div>\n<style scoped>\n    .dataframe tbody tr th:only-of-type {\n        vertical-align: middle;\n    }\n\n    .dataframe tbody tr th {\n        vertical-align: top;\n    }\n\n    .dataframe thead th {\n        text-align: right;\n    }\n</style>\n<table border=\"1\" class=\"dataframe\">\n  <thead>\n    <tr style=\"text-align: right;\">\n      <th></th>\n      <th>Year</th>\n      <th>pv</th>\n    </tr>\n  </thead>\n  <tbody>\n    <tr>\n      <th>194</th>\n      <td>1996</td>\n      <td>1.056969</td>\n    </tr>\n    <tr>\n      <th>408</th>\n      <td>1998</td>\n      <td>0.957363</td>\n    </tr>\n    <tr>\n      <th>622</th>\n      <td>2000</td>\n      <td>0.537107</td>\n    </tr>\n    <tr>\n      <th>836</th>\n      <td>2002</td>\n      <td>0.698526</td>\n    </tr>\n    <tr>\n      <th>1050</th>\n      <td>2003</td>\n      <td>0.637641</td>\n    </tr>\n    <tr>\n      <th>1264</th>\n      <td>2004</td>\n      <td>0.612769</td>\n    </tr>\n    <tr>\n      <th>1478</th>\n      <td>2005</td>\n      <td>0.671793</td>\n    </tr>\n    <tr>\n      <th>1692</th>\n      <td>2006</td>\n      <td>0.675702</td>\n    </tr>\n    <tr>\n      <th>1906</th>\n      <td>2007</td>\n      <td>0.552530</td>\n    </tr>\n    <tr>\n      <th>2120</th>\n      <td>2008</td>\n      <td>0.841073</td>\n    </tr>\n    <tr>\n      <th>2334</th>\n      <td>2009</td>\n      <td>0.569273</td>\n    </tr>\n    <tr>\n      <th>2548</th>\n      <td>2010</td>\n      <td>0.856610</td>\n    </tr>\n    <tr>\n      <th>2762</th>\n      <td>2011</td>\n      <td>0.946775</td>\n    </tr>\n    <tr>\n      <th>2976</th>\n      <td>2012</td>\n      <td>0.891385</td>\n    </tr>\n    <tr>\n      <th>3190</th>\n      <td>2013</td>\n      <td>0.873134</td>\n    </tr>\n    <tr>\n      <th>3404</th>\n      <td>2014</td>\n      <td>0.766413</td>\n    </tr>\n    <tr>\n      <th>3618</th>\n      <td>2015</td>\n      <td>0.920500</td>\n    </tr>\n    <tr>\n      <th>3832</th>\n      <td>2016</td>\n      <td>0.925664</td>\n    </tr>\n    <tr>\n      <th>4046</th>\n      <td>2017</td>\n      <td>0.864722</td>\n    </tr>\n    <tr>\n      <th>4260</th>\n      <td>2018</td>\n      <td>0.846277</td>\n    </tr>\n    <tr>\n      <th>4474</th>\n      <td>2019</td>\n      <td>0.788459</td>\n    </tr>\n    <tr>\n      <th>4688</th>\n      <td>2020</td>\n      <td>0.774144</td>\n    </tr>\n    <tr>\n      <th>4902</th>\n      <td>2021</td>\n      <td>0.780216</td>\n    </tr>\n  </tbody>\n</table>\n</div>"
     },
     "execution_count": 46,
     "metadata": {},
     "output_type": "execute_result"
    }
   ],
   "source": [
    "# Select political index related to Taiwan, and keep columns only 'Year' and 'pv'\n",
    "pv_index_taiwan = pv_all[pv_all['Code']=='TWN'][['Year','pv']]\n",
    "pv_index_taiwan"
   ],
   "metadata": {
    "collapsed": false,
    "ExecuteTime": {
     "end_time": "2023-08-21T08:13:56.214595Z",
     "start_time": "2023-08-21T08:13:56.207603Z"
    }
   }
  },
  {
   "cell_type": "code",
   "execution_count": 47,
   "outputs": [
    {
     "data": {
      "text/plain": "array([1996, 1998, 2000, 2002, 2003, 2004, 2005, 2006, 2007, 2008, 2009,\n       2010, 2011, 2012, 2013, 2014, 2015, 2016, 2017, 2018, 2019, 2020,\n       2021], dtype=object)"
     },
     "execution_count": 47,
     "metadata": {},
     "output_type": "execute_result"
    }
   ],
   "source": [
    "pv_index_taiwan['Year'].unique()  # No records in 1997, 1999, 2001"
   ],
   "metadata": {
    "collapsed": false,
    "ExecuteTime": {
     "end_time": "2023-08-21T08:13:57.070701Z",
     "start_time": "2023-08-21T08:13:57.060040Z"
    }
   }
  },
  {
   "cell_type": "code",
   "execution_count": 48,
   "outputs": [
    {
     "data": {
      "text/plain": "     Code Country/Territory  Year      pv_d      pv_o\n0     ABW             Aruba  1996       NaN  1.056969\n1     ADO           Andorra  1996  1.169522  1.056969\n2     AFG       Afghanistan  1996 -2.417310  1.056969\n3     AGO            Angola  1996 -2.061917  1.056969\n4     AIA          Anguilla  1996       NaN  1.056969\n...   ...               ...   ...       ...       ...\n4917  SRB            Serbia  2021 -0.134226  0.780216\n4918  ZAF      South Africa  2021 -0.706577  0.780216\n4919  ZAR  Congo, Dem. Rep.  2021 -1.614667  0.780216\n4920  ZMB            Zambia  2021  0.060216  0.780216\n4921  ZWE          Zimbabwe  2021 -1.026783  0.780216\n\n[4922 rows x 5 columns]",
      "text/html": "<div>\n<style scoped>\n    .dataframe tbody tr th:only-of-type {\n        vertical-align: middle;\n    }\n\n    .dataframe tbody tr th {\n        vertical-align: top;\n    }\n\n    .dataframe thead th {\n        text-align: right;\n    }\n</style>\n<table border=\"1\" class=\"dataframe\">\n  <thead>\n    <tr style=\"text-align: right;\">\n      <th></th>\n      <th>Code</th>\n      <th>Country/Territory</th>\n      <th>Year</th>\n      <th>pv_d</th>\n      <th>pv_o</th>\n    </tr>\n  </thead>\n  <tbody>\n    <tr>\n      <th>0</th>\n      <td>ABW</td>\n      <td>Aruba</td>\n      <td>1996</td>\n      <td>NaN</td>\n      <td>1.056969</td>\n    </tr>\n    <tr>\n      <th>1</th>\n      <td>ADO</td>\n      <td>Andorra</td>\n      <td>1996</td>\n      <td>1.169522</td>\n      <td>1.056969</td>\n    </tr>\n    <tr>\n      <th>2</th>\n      <td>AFG</td>\n      <td>Afghanistan</td>\n      <td>1996</td>\n      <td>-2.417310</td>\n      <td>1.056969</td>\n    </tr>\n    <tr>\n      <th>3</th>\n      <td>AGO</td>\n      <td>Angola</td>\n      <td>1996</td>\n      <td>-2.061917</td>\n      <td>1.056969</td>\n    </tr>\n    <tr>\n      <th>4</th>\n      <td>AIA</td>\n      <td>Anguilla</td>\n      <td>1996</td>\n      <td>NaN</td>\n      <td>1.056969</td>\n    </tr>\n    <tr>\n      <th>...</th>\n      <td>...</td>\n      <td>...</td>\n      <td>...</td>\n      <td>...</td>\n      <td>...</td>\n    </tr>\n    <tr>\n      <th>4917</th>\n      <td>SRB</td>\n      <td>Serbia</td>\n      <td>2021</td>\n      <td>-0.134226</td>\n      <td>0.780216</td>\n    </tr>\n    <tr>\n      <th>4918</th>\n      <td>ZAF</td>\n      <td>South Africa</td>\n      <td>2021</td>\n      <td>-0.706577</td>\n      <td>0.780216</td>\n    </tr>\n    <tr>\n      <th>4919</th>\n      <td>ZAR</td>\n      <td>Congo, Dem. Rep.</td>\n      <td>2021</td>\n      <td>-1.614667</td>\n      <td>0.780216</td>\n    </tr>\n    <tr>\n      <th>4920</th>\n      <td>ZMB</td>\n      <td>Zambia</td>\n      <td>2021</td>\n      <td>0.060216</td>\n      <td>0.780216</td>\n    </tr>\n    <tr>\n      <th>4921</th>\n      <td>ZWE</td>\n      <td>Zimbabwe</td>\n      <td>2021</td>\n      <td>-1.026783</td>\n      <td>0.780216</td>\n    </tr>\n  </tbody>\n</table>\n<p>4922 rows × 5 columns</p>\n</div>"
     },
     "execution_count": 48,
     "metadata": {},
     "output_type": "execute_result"
    }
   ],
   "source": [
    "# Merge Taiwan political index with Global political index\n",
    "pv_index = pd.merge(pv_all,pv_index_taiwan, on='Year',how='left')\n",
    "\n",
    "# Rename columns\n",
    "pv_index.rename(columns={'pv_x': 'pv_d','pv_y':'pv_o'}, inplace=True)\n",
    "\n",
    "pv_index"
   ],
   "metadata": {
    "collapsed": false,
    "ExecuteTime": {
     "end_time": "2023-08-21T08:13:58.104386Z",
     "start_time": "2023-08-21T08:13:58.088980Z"
    }
   }
  },
  {
   "cell_type": "code",
   "execution_count": 49,
   "outputs": [],
   "source": [
    "# Merge political index with Taiwan export data\n",
    "data = pd.merge(export, pv_index, left_on=['Period','PartnerISO'], right_on=['Year','Code'], how='left')\n",
    "\n",
    "# Keep columns\n",
    "data = data[['Year','PartnerISO','PartnerDesc','PrimaryValue','pv_o','pv_d']]\n",
    "\n",
    "# Drop records containing Nan\n",
    "data = data.dropna()\n",
    "\n",
    "# Construct the data for modelling by merging\n",
    "model_data = pd.merge(data,gravity_tw,left_on=['Year','PartnerISO'], right_on=['year','iso3_d'], how='left')\n",
    "model_data = model_data[['Year','iso3_d','PartnerDesc','PrimaryValue','pv_o','pv_d','dist','gdp_ppp_d','gdp_source_o', 'gdp_source_d','fta_wto']]\n",
    "model_data = model_data.dropna()\n",
    "\n",
    "# Save to csv file\n",
    "model_data.to_csv('../data/processed/model_data.csv',index=False)"
   ],
   "metadata": {
    "collapsed": false,
    "ExecuteTime": {
     "end_time": "2023-08-21T08:13:58.904616Z",
     "start_time": "2023-08-21T08:13:58.865695Z"
    }
   }
  },
  {
   "cell_type": "code",
   "execution_count": 50,
   "outputs": [
    {
     "name": "stdout",
     "output_type": "stream",
     "text": [
      "<class 'pandas.core.frame.DataFrame'>\n",
      "Index: 1987 entries, 0 to 2805\n",
      "Data columns (total 11 columns):\n",
      " #   Column        Non-Null Count  Dtype  \n",
      "---  ------        --------------  -----  \n",
      " 0   Year          1987 non-null   object \n",
      " 1   iso3_d        1987 non-null   object \n",
      " 2   PartnerDesc   1987 non-null   object \n",
      " 3   PrimaryValue  1987 non-null   float64\n",
      " 4   pv_o          1987 non-null   float64\n",
      " 5   pv_d          1987 non-null   float64\n",
      " 6   dist          1987 non-null   float64\n",
      " 7   gdp_ppp_d     1987 non-null   float64\n",
      " 8   gdp_source_o  1987 non-null   float64\n",
      " 9   gdp_source_d  1987 non-null   float64\n",
      " 10  fta_wto       1987 non-null   float64\n",
      "dtypes: float64(8), object(3)\n",
      "memory usage: 186.3+ KB\n"
     ]
    }
   ],
   "source": [
    "model_data.info()"
   ],
   "metadata": {
    "collapsed": false,
    "ExecuteTime": {
     "end_time": "2023-08-21T08:13:59.580440Z",
     "start_time": "2023-08-21T08:13:59.569460Z"
    }
   }
  },
  {
   "cell_type": "code",
   "execution_count": 51,
   "outputs": [
    {
     "name": "stdout",
     "output_type": "stream",
     "text": [
      "Year\n",
      "2006    133\n",
      "2011    127\n",
      "2012    127\n",
      "2008    126\n",
      "2007    126\n",
      "2005    125\n",
      "2013    123\n",
      "2014    118\n",
      "2015    118\n",
      "2004    117\n",
      "2010    116\n",
      "2016    112\n",
      "2009    111\n",
      "2003    108\n",
      "2000    107\n",
      "2002    106\n",
      "1998     87\n",
      "Name: count, dtype: int64\n"
     ]
    }
   ],
   "source": [
    "# Get unique values and their counts from the 'column_name' column\n",
    "value_counts = model_data['Year'].value_counts()\n",
    "\n",
    "print(value_counts)"
   ],
   "metadata": {
    "collapsed": false,
    "ExecuteTime": {
     "end_time": "2023-08-21T08:14:00.279141Z",
     "start_time": "2023-08-21T08:14:00.272206Z"
    }
   }
  },
  {
   "cell_type": "code",
   "execution_count": 52,
   "outputs": [
    {
     "data": {
      "text/plain": "<Figure size 1000x600 with 1 Axes>",
      "image/png": "[encoded data removed]"
     },
     "metadata": {},
     "output_type": "display_data"
    }
   ],
   "source": [
    "# Check correlation\n",
    "num_cols = list(model_data.select_dtypes(include=['number']).columns)\n",
    "correlation_data = model_data[num_cols].corr().loc[\"PrimaryValue\"].sort_values(ascending=False)\n",
    "\n",
    "# Top 10 positive linearly correlated columns with Laf25\n",
    "plt.figure(figsize=(10, 6))\n",
    "correlation_data.head(10).plot(kind=\"barh\")\n",
    "plt.ylabel(\"Columns\")\n",
    "plt.xlabel(\"Correlation Coefficient\")\n",
    "plt.title(\"Correlation Coefficients with 'PrimaryValue'\")\n",
    "plt.show()"
   ],
   "metadata": {
    "collapsed": false,
    "ExecuteTime": {
     "end_time": "2023-08-21T08:14:01.149795Z",
     "start_time": "2023-08-21T08:14:01.055788Z"
    }
   }
  },
  {
   "cell_type": "code",
   "execution_count": 53,
   "outputs": [],
   "source": [
    "# Drop columns\n",
    "model_data = model_data.drop(['gdp_source_o','gdp_source_d'], axis=1)"
   ],
   "metadata": {
    "collapsed": false,
    "ExecuteTime": {
     "end_time": "2023-08-21T08:14:01.994541Z",
     "start_time": "2023-08-21T08:14:01.990738Z"
    }
   }
  },
  {
   "cell_type": "code",
   "execution_count": 54,
   "outputs": [],
   "source": [
    "# Drop columns\n",
    "model_data = model_data.drop(['iso3_d','PartnerDesc','Year'], axis=1)\n",
    "\n",
    "# Standardize the data\n",
    "# Initialize the StandardScaler\n",
    "scaler = StandardScaler()\n",
    "\n",
    "# Fit and transform the scaler on your feature data\n",
    "scaled_features = scaler.fit_transform(model_data)\n",
    "\n",
    "# Create a new DataFrame with standardized features\n",
    "model_data = pd.DataFrame(scaled_features, columns=model_data.columns)"
   ],
   "metadata": {
    "collapsed": false,
    "ExecuteTime": {
     "end_time": "2023-08-21T08:14:02.700942Z",
     "start_time": "2023-08-21T08:14:02.693454Z"
    }
   }
  },
  {
   "cell_type": "code",
   "execution_count": 55,
   "outputs": [
    {
     "name": "stdout",
     "output_type": "stream",
     "text": [
      "Model Performance: LinearRegression, Mean Squared Error: 0.8587408716261956, R-squared: 0.19817933195863013\n",
      "Model Performance: DecisionTreeRegressor, Mean Squared Error: 0.35201271781432564, R-squared: 0.6713198569174393\n",
      "Model Performance: RandomForestRegressor, Mean Squared Error: 0.041848317848095264, R-squared: 0.9609255279653517\n"
     ]
    }
   ],
   "source": [
    "# Create features X and target y\n",
    "X = model_data.drop(['PrimaryValue'], axis=1)\n",
    "y = model_data['PrimaryValue']\n",
    "\n",
    "# Split data into train and test set\n",
    "X_train, X_test, y_train, y_test = train_test_split(X, y, test_size=0.3, random_state=42)\n",
    "\n",
    "# Initialize model\n",
    "models = [LinearRegression(), DecisionTreeRegressor(), RandomForestRegressor(random_state=42)]\n",
    "\n",
    "# Loop training and predict\n",
    "for model in models:\n",
    "    model.fit(X_train, y_train)\n",
    "    predictions = model.predict(X_test)\n",
    "    mse = mean_squared_error(y_test, predictions)\n",
    "    r2 = r2_score(y_test, predictions)\n",
    "    print(f'Model Performance: {model.__class__.__name__}, Mean Squared Error: {mse}, R-squared: {r2}')"
   ],
   "metadata": {
    "collapsed": false,
    "ExecuteTime": {
     "end_time": "2023-08-21T08:14:03.941779Z",
     "start_time": "2023-08-21T08:14:03.574228Z"
    }
   }
  },
  {
   "cell_type": "code",
   "execution_count": 56,
   "outputs": [
    {
     "data": {
      "text/plain": "<Figure size 1000x500 with 1 Axes>",
      "image/png": "[encoded data removed]"
     },
     "metadata": {},
     "output_type": "display_data"
    }
   ],
   "source": [
    "# Model interpretation\n",
    "model_final = RandomForestRegressor(random_state=42)\n",
    "model_final.fit(X, y)\n",
    "\n",
    "feature_importance = model_final.feature_importances_\n",
    "feature_names = X.columns\n",
    "feature_importance_dict = dict(zip(feature_names, feature_importance))\n",
    "feature_importance_s = pd.Series(feature_importance_dict).sort_values()\n",
    "\n",
    "fig, ax = plt.subplots(figsize=(10, 5))\n",
    "feature_importance_s.plot(kind='barh', ax=ax)\n",
    "ax.tick_params(axis='y', labelsize=10)"
   ],
   "metadata": {
    "collapsed": false,
    "ExecuteTime": {
     "end_time": "2023-08-21T08:14:05.550287Z",
     "start_time": "2023-08-21T08:14:04.941612Z"
    }
   }
  },
  {
   "cell_type": "code",
   "execution_count": 57,
   "outputs": [
    {
     "data": {
      "text/plain": "fta_wto      0.019289\npv_d         0.047428\npv_o         0.115933\ngdp_ppp_d    0.132973\ndist         0.684376\ndtype: float64"
     },
     "execution_count": 57,
     "metadata": {},
     "output_type": "execute_result"
    }
   ],
   "source": [
    "feature_importance_s"
   ],
   "metadata": {
    "collapsed": false,
    "ExecuteTime": {
     "end_time": "2023-08-21T08:14:06.353248Z",
     "start_time": "2023-08-21T08:14:06.350062Z"
    }
   }
  },
  {
   "cell_type": "code",
   "execution_count": 42,
   "outputs": [],
   "source": [],
   "metadata": {
    "collapsed": false,
    "ExecuteTime": {
     "end_time": "2023-08-21T08:13:01.027326Z",
     "start_time": "2023-08-21T08:13:01.025460Z"
    }
   }
  }
 ],
 "metadata": {
  "kernelspec": {
   "display_name": "Python 3",
   "language": "python",
   "name": "python3"
  },
  "language_info": {
   "codemirror_mode": {
    "name": "ipython",
    "version": 2
   },
   "file_extension": ".py",
   "mimetype": "text/x-python",
   "name": "python",
   "nbconvert_exporter": "python",
   "pygments_lexer": "ipython2",
   "version": "2.7.6"
  }
 },
 "nbformat": 4,
 "nbformat_minor": 0
}
